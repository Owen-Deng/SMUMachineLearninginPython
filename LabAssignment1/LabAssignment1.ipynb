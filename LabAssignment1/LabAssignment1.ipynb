{
 "cells": [
  {
   "cell_type": "markdown",
   "metadata": {},
   "source": [
    "[Canvas Link](https://smu.instructure.com/courses/119111/assignments/945173) \\\n",
    "[Data Source](https://www.kaggle.com/datasets/fedesoriano/stroke-prediction-dataset?resource=download)\n",
    "##### Authors\n",
    "- 1"
   ]
  },
  {
   "cell_type": "code",
   "execution_count": null,
   "metadata": {},
   "outputs": [],
   "source": []
  }
 ],
 "metadata": {
  "language_info": {
   "name": "python"
  }
 },
 "nbformat": 4,
 "nbformat_minor": 2
}
