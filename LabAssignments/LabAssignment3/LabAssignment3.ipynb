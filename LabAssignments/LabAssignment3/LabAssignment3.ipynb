{
 "cells": [
  {
   "cell_type": "markdown",
   "metadata": {},
   "source": [
    "# Lab Assignment Three: Extending Logistic Regression"
   ]
  },
  {
   "cell_type": "markdown",
   "metadata": {},
   "source": [
    "### Authors\n",
    "- Juliana Antonio\n",
    "- Xiaona Hang\n",
    "- Chuanqi Deng\n"
   ]
  },
  {
   "cell_type": "markdown",
   "metadata": {},
   "source": [
    "### 1. Preparation and Overview"
   ]
  },
  {
   "cell_type": "markdown",
   "metadata": {},
   "source": [
    "The \"Body Performance Data\" sourced from the [Korea Sports Promotion Foundation](https://www.bigdata-culture.kr/bigdata/user/data_market/detail.do?id=ace0aea7-5eee-48b9-b616-637365d665c1), available on Kaggle, comprises 13,393 rows and encompasses 12 features, such as age, gender, height, weight, and more. This dataset, meticulously curated, demonstrates the correlation between age and various exercise performance metrics, thereby providing insights into individual performance grades.\n",
    "\n",
    "Utilizing this rich dataset, the aim is to classify individuals into distinct performance grades: A (Best), B, C, and D (Worst), based on the aforementioned 12 features. This classification is pivotal for tailoring personalized training plans, catering to diverse needs and abilities. Consequently, gyms and rehabilitation centers stand to benefit significantly from leveraging predictive analytics to craft bespoke training plans, optimizing clients' progress and well-being.\n",
    "\n",
    "Beyond professional institutions, individuals themselves will be interested in understanding their body performance classification. Armed with this knowledge, they can make informed decisions regarding their fitness journey, setting realistic goals and embracing tailored approaches for holistic improvement.\n",
    "\n",
    "The deployment of a robust classification model is expected to achieve an accuracy of approximately 80%. By meeting this benchmark, the model ensures reliable predictions, empowering stakeholders to make data-driven decisions with confidence.\n"
   ]
  },
  {
   "cell_type": "code",
   "execution_count": 3,
   "metadata": {},
   "outputs": [
    {
     "data": {
      "text/plain": [
       "((13393, 12), (13393, 8))"
      ]
     },
     "execution_count": 3,
     "metadata": {},
     "output_type": "execute_result"
    }
   ],
   "source": [
    "import pandas as pd\n",
    "import numpy as np\n",
    "from sklearn.metrics import accuracy_score, precision_score, recall_score, f1_score\n",
    "from sklearn.linear_model import LogisticRegression as SKLogisticRegression\n",
    "from numpy.linalg import pinv\n",
    "from scipy.special import expit\n",
    "import matplotlib.pyplot as plt\n",
    "from sklearn.decomposition import PCA\n",
    "from sklearn.model_selection import KFold, train_test_split\n",
    "from sklearn.preprocessing import StandardScaler\n",
    "from sklearn.svm import SVC\n",
    "from tqdm import tqdm\n",
    "\n",
    "raw_data = pd.read_csv(\"data/bodyPerformance.csv\")\n",
    "\n",
    "# preprocessing\n",
    "data = pd.get_dummies(raw_data, columns=['gender'],dtype=np.int8) # one-hot encoding for gender\n",
    "labels = data['class'].map(lambda c: ord(c) - ord('A')) # encode lables into integer\n",
    "data.drop(['class'], axis=1, inplace=True) # remove class column\n",
    "\n",
    "# scale\n",
    "scaler = StandardScaler()\n",
    "features = scaler.fit_transform(data)\n",
    "\n",
    "# PCA\n",
    "pca = PCA(8)\n",
    "pca_feature = pca.fit_transform(features)\n",
    "raw_data.shape, pca_feature.shape"
   ]
  },
  {
   "cell_type": "markdown",
   "metadata": {},
   "source": [
    "The dataset has one categorical feature, the gender. One-hot encoding is enployed to convert it into numerical data. Next, the lables/class is moved to another separate variable, lables. Then, the Standard Scaling and PCA are applied to mitigate the difference of multiple features reduce the number of features from 12 to 8."
   ]
  },
  {
   "cell_type": "code",
   "execution_count": 2,
   "metadata": {
    "scrolled": true
   },
   "outputs": [
    {
     "data": {
      "text/html": [
       "<div>\n",
       "<style scoped>\n",
       "    .dataframe tbody tr th:only-of-type {\n",
       "        vertical-align: middle;\n",
       "    }\n",
       "\n",
       "    .dataframe tbody tr th {\n",
       "        vertical-align: top;\n",
       "    }\n",
       "\n",
       "    .dataframe thead th {\n",
       "        text-align: right;\n",
       "    }\n",
       "</style>\n",
       "<table border=\"1\" class=\"dataframe\">\n",
       "  <thead>\n",
       "    <tr style=\"text-align: right;\">\n",
       "      <th></th>\n",
       "      <th>0</th>\n",
       "      <th>1</th>\n",
       "      <th>2</th>\n",
       "      <th>3</th>\n",
       "      <th>4</th>\n",
       "      <th>5</th>\n",
       "      <th>6</th>\n",
       "      <th>7</th>\n",
       "    </tr>\n",
       "  </thead>\n",
       "  <tbody>\n",
       "    <tr>\n",
       "      <th>count</th>\n",
       "      <td>1.339300e+04</td>\n",
       "      <td>1.339300e+04</td>\n",
       "      <td>1.339300e+04</td>\n",
       "      <td>1.339300e+04</td>\n",
       "      <td>1.339300e+04</td>\n",
       "      <td>1.339300e+04</td>\n",
       "      <td>1.339300e+04</td>\n",
       "      <td>1.339300e+04</td>\n",
       "    </tr>\n",
       "    <tr>\n",
       "      <th>mean</th>\n",
       "      <td>-8.488527e-18</td>\n",
       "      <td>4.138157e-17</td>\n",
       "      <td>2.652665e-18</td>\n",
       "      <td>1.591599e-17</td>\n",
       "      <td>-1.432439e-17</td>\n",
       "      <td>-3.978997e-18</td>\n",
       "      <td>2.546558e-17</td>\n",
       "      <td>9.019060e-18</td>\n",
       "    </tr>\n",
       "    <tr>\n",
       "      <th>std</th>\n",
       "      <td>2.386378e+00</td>\n",
       "      <td>1.462662e+00</td>\n",
       "      <td>1.127011e+00</td>\n",
       "      <td>9.438121e-01</td>\n",
       "      <td>8.081770e-01</td>\n",
       "      <td>5.785046e-01</td>\n",
       "      <td>5.602344e-01</td>\n",
       "      <td>4.860709e-01</td>\n",
       "    </tr>\n",
       "    <tr>\n",
       "      <th>min</th>\n",
       "      <td>-5.041796e+00</td>\n",
       "      <td>-5.384663e+00</td>\n",
       "      <td>-7.437324e+00</td>\n",
       "      <td>-4.140902e+00</td>\n",
       "      <td>-4.012083e+00</td>\n",
       "      <td>-2.242237e+00</td>\n",
       "      <td>-5.062883e+00</td>\n",
       "      <td>-2.246422e+00</td>\n",
       "    </tr>\n",
       "    <tr>\n",
       "      <th>25%</th>\n",
       "      <td>-1.967484e+00</td>\n",
       "      <td>-1.012307e+00</td>\n",
       "      <td>-6.911124e-01</td>\n",
       "      <td>-6.042082e-01</td>\n",
       "      <td>-4.971976e-01</td>\n",
       "      <td>-3.845767e-01</td>\n",
       "      <td>-3.517389e-01</td>\n",
       "      <td>-3.142285e-01</td>\n",
       "    </tr>\n",
       "    <tr>\n",
       "      <th>50%</th>\n",
       "      <td>-8.995369e-01</td>\n",
       "      <td>1.073930e-01</td>\n",
       "      <td>5.143689e-02</td>\n",
       "      <td>1.506179e-02</td>\n",
       "      <td>7.247022e-03</td>\n",
       "      <td>1.665698e-02</td>\n",
       "      <td>8.867419e-03</td>\n",
       "      <td>-3.037003e-03</td>\n",
       "    </tr>\n",
       "    <tr>\n",
       "      <th>75%</th>\n",
       "      <td>2.360703e+00</td>\n",
       "      <td>1.072822e+00</td>\n",
       "      <td>7.628835e-01</td>\n",
       "      <td>6.133066e-01</td>\n",
       "      <td>5.253231e-01</td>\n",
       "      <td>3.905508e-01</td>\n",
       "      <td>3.792356e-01</td>\n",
       "      <td>3.000243e-01</td>\n",
       "    </tr>\n",
       "    <tr>\n",
       "      <th>max</th>\n",
       "      <td>6.506510e+00</td>\n",
       "      <td>7.782459e+00</td>\n",
       "      <td>1.473913e+01</td>\n",
       "      <td>4.345014e+00</td>\n",
       "      <td>1.360873e+01</td>\n",
       "      <td>3.636507e+00</td>\n",
       "      <td>5.873632e+00</td>\n",
       "      <td>6.967697e+00</td>\n",
       "    </tr>\n",
       "  </tbody>\n",
       "</table>\n",
       "</div>"
      ],
      "text/plain": [
       "                  0             1             2             3             4  \\\n",
       "count  1.339300e+04  1.339300e+04  1.339300e+04  1.339300e+04  1.339300e+04   \n",
       "mean  -8.488527e-18  4.138157e-17  2.652665e-18  1.591599e-17 -1.432439e-17   \n",
       "std    2.386378e+00  1.462662e+00  1.127011e+00  9.438121e-01  8.081770e-01   \n",
       "min   -5.041796e+00 -5.384663e+00 -7.437324e+00 -4.140902e+00 -4.012083e+00   \n",
       "25%   -1.967484e+00 -1.012307e+00 -6.911124e-01 -6.042082e-01 -4.971976e-01   \n",
       "50%   -8.995369e-01  1.073930e-01  5.143689e-02  1.506179e-02  7.247022e-03   \n",
       "75%    2.360703e+00  1.072822e+00  7.628835e-01  6.133066e-01  5.253231e-01   \n",
       "max    6.506510e+00  7.782459e+00  1.473913e+01  4.345014e+00  1.360873e+01   \n",
       "\n",
       "                  5             6             7  \n",
       "count  1.339300e+04  1.339300e+04  1.339300e+04  \n",
       "mean  -3.978997e-18  2.546558e-17  9.019060e-18  \n",
       "std    5.785046e-01  5.602344e-01  4.860709e-01  \n",
       "min   -2.242237e+00 -5.062883e+00 -2.246422e+00  \n",
       "25%   -3.845767e-01 -3.517389e-01 -3.142285e-01  \n",
       "50%    1.665698e-02  8.867419e-03 -3.037003e-03  \n",
       "75%    3.905508e-01  3.792356e-01  3.000243e-01  \n",
       "max    3.636507e+00  5.873632e+00  6.967697e+00  "
      ]
     },
     "execution_count": 2,
     "metadata": {},
     "output_type": "execute_result"
    }
   ],
   "source": [
    "# breakdown of the variables\n",
    "pd.DataFrame(pca_feature).describe()"
   ]
  },
  {
   "cell_type": "code",
   "execution_count": 4,
   "metadata": {},
   "outputs": [
    {
     "name": "stderr",
     "output_type": "stream",
     "text": [
      "100%|██████████| 8/8 [01:32<00:00, 11.53s/it]\n"
     ]
    }
   ],
   "source": [
    "# test different folds of cross validation\n",
    "cross_validation_accs = {}\n",
    "# n fold cross-validation, n: 3-10\n",
    "for n in tqdm(range(3, 11)):\n",
    "    # n-fold cross-validation\n",
    "    cross_validator = KFold(n_splits=n)\n",
    "    split_indices = cross_validator.split(pca_feature, labels)\n",
    "    \n",
    "    # training and testing\n",
    "    avg_accs = []\n",
    "    for train_indices, test_indices in split_indices:\n",
    "        X_train, y_train = pca_feature[train_indices], labels[train_indices]\n",
    "        X_test, y_test = pca_feature[test_indices], labels[test_indices]\n",
    "        \n",
    "        classifier = SVC()\n",
    "        classifier.fit(X_train, y_train)\n",
    "        y_pred = classifier.predict(X_test)\n",
    "        acc = accuracy_score(y_test, y_pred)\n",
    "        avg_accs.append(acc)\n",
    "    \n",
    "    cross_validation_accs[n] = avg_accs"
   ]
  },
  {
   "cell_type": "code",
   "execution_count": 5,
   "metadata": {},
   "outputs": [
    {
     "data": {
      "image/png": "[encoded data removed]",
      "text/plain": [
       "<Figure size 640x480 with 2 Axes>"
      ]
     },
     "metadata": {},
     "output_type": "display_data"
    }
   ],
   "source": [
    "# plot cross validation accuracies\n",
    "plt.boxplot(cross_validation_accs.values(), labels=list(range(3, 11)))\n",
    "ax = plt.twiny()\n",
    "avg_accs = [np.mean(accs) for accs in cross_validation_accs.values()]\n",
    "ax.plot(avg_accs, label='mean accuracies')\n",
    "ax.set_axis_off()\n",
    "ax.legend(loc = 'upper left')\n",
    "plt.title(\"Cross Validation Accuracies\");"
   ]
  },
  {
   "cell_type": "markdown",
   "metadata": {},
   "source": [
    "According to the graph above, it is clear that the 7-fold cross-validation has the best accuracies, considering the stablity and median accuracy. Hence, a rougly 86/14 split would be ideal for this dataset."
   ]
  },
  {
   "cell_type": "code",
   "execution_count": 6,
   "metadata": {},
   "outputs": [],
   "source": [
    "# use the optimal number of folds for the following analysis\n",
    "cross_validator = KFold(n_splits=7)\n",
    "split_indices = cross_validator.split(pca_feature, labels)"
   ]
  },
  {
   "cell_type": "markdown",
   "metadata": {},
   "source": [
    "#### Performance Comparison with Scikit-learn"
   ]
  },
  {
   "cell_type": "code",
   "execution_count": 13,
   "metadata": {},
   "outputs": [
    {
     "name": "stdout",
     "output_type": "stream",
     "text": [
      "[[-0.87789422 -0.101442    1.18621727  1.96995561 -1.15799033  1.09182613\n",
      "   0.61306582 -0.06642085 -1.64344834]\n",
      " [ 0.64356991 -0.0510562   0.31407293  0.51933262 -0.39710115  0.23432896\n",
      "   0.19385591 -0.03192305 -0.47919619]\n",
      " [ 0.82911576  0.0087344  -0.23712494 -0.53454181  0.20028942 -0.45432026\n",
      "  -0.35322607 -0.00691083  0.44089941]\n",
      " [-0.59479145  0.1437638  -1.26316527 -1.95474642  1.35480206 -0.87183483\n",
      "  -0.45369566  0.10525473  1.68174512]]\n",
      "Accuracy: 0.607916355489171\n",
      "CPU times: user 936 ms, sys: 78.6 ms, total: 1.01 s\n",
      "Wall time: 176 ms\n"
     ]
    }
   ],
   "source": [
    "%%time\n",
    "lr_sk = SKLogisticRegression() # all params default\n",
    "lr_sk.fit(X_train,y_train)\n",
    "print(np.hstack((lr_sk.intercept_[:,np.newaxis],lr_sk.coef_)))\n",
    "yhat = lr_sk.predict(X_test)\n",
    "\n",
    "accuracy = accuracy_score(y_test, yhat)\n",
    "#precision = precision_score(y_test, yhat, average='weighted')  \n",
    "#recall = recall_score(y_test, yhat, average='weighted')  \n",
    "#f1 = f1_score(y_test, yhat, average='weighted')  \n",
    "\n",
    "print(\"Accuracy:\", accuracy)\n",
    "#print(\"Precision:\", precision)\n",
    "#print(\"Recall:\", recall)\n",
    "#print(\"F1 Score:\", f1)"
   ]
  },
  {
   "cell_type": "code",
   "execution_count": 18,
   "metadata": {},
   "outputs": [
    {
     "name": "stdout",
     "output_type": "stream",
     "text": [
      "[[-0.86774917 -0.10056169  1.17580552  1.95125441 -1.14557507  1.08006044\n",
      "   0.60556786 -0.06542862 -1.61896257]\n",
      " [ 0.63679276 -0.05070692  0.31066396  0.51379461 -0.39289505  0.2319522\n",
      "   0.19193319 -0.03159581 -0.47068844]\n",
      " [ 0.82024256  0.00844009 -0.23422514 -0.5286112   0.196802   -0.44997806\n",
      "  -0.35011905 -0.0070676   0.4343472 ]\n",
      " [-0.58928615  0.14282852 -1.25224435 -1.93643781  1.34166812 -0.86203459\n",
      "  -0.447382    0.10409203  1.65530381]]\n",
      "Accuracy: 0.6071695294996265\n",
      "CPU times: user 8.33 s, sys: 629 ms, total: 8.96 s\n",
      "Wall time: 1.22 s\n"
     ]
    }
   ],
   "source": [
    "%%time\n",
    "from sklearn.linear_model import LogisticRegressionCV\n",
    "log_model = LogisticRegressionCV()\n",
    "log_model.fit(X_train , y_train)\n",
    "print(np.hstack((log_model.intercept_[:,np.newaxis],log_model.coef_)))\n",
    "y_pred = log_model.predict(X_test)\n",
    "accuracy = accuracy_score(y_test, y_pred)\n",
    "print(\"Accuracy:\", accuracy)"
   ]
  },
  {
   "cell_type": "markdown",
   "metadata": {},
   "source": [
    "### 3. Deployment\n",
    "\n",
    "Which implementation of logistic regression would you advise be used in a deployed machine learning model, your implementation or scikit-learn (or other third party implementation)? Why?\n"
   ]
  },
  {
   "cell_type": "markdown",
   "metadata": {},
   "source": [
    "### 4. Exceptional Work\n",
    "\n",
    "Implement an optimization technique for logistic regression using mean square error as your objective function (instead of maximum likelihood). Derive the gradient updates for the Hessian and use Newton's method to update the values of \"w\". Then answer, which process do you prefer: maximum likelihood OR minimum mean-squared error?"
   ]
  },
  {
   "cell_type": "markdown",
   "metadata": {},
   "source": [
    "#### Mean Squared Error (MSE) Approach \n",
    "\n",
    "In logistic regression, the Mean Squared Error (MSE) approach minimizes the squared difference between predicted probabilities and actual labels.\n",
    "\n",
    "$$\n",
    "\\text{MSE} = \\frac{1}{N} \\sum_{i=1}^{N} (y_i - \\hat{y}_i)^2\n",
    "$$\n",
    "\n",
    "The gradient of the MSE loss with respect to the weights is computed as:\n",
    "\n",
    "$$\n",
    "\\nabla l(\\mathbf{w}) = \\frac{1}{N} \\mathbf{X}^T (\\mathbf{y} - \\hat{\\mathbf{y}})\n",
    "$$\n",
    "\n",
    "where:\n",
    "- $\\mathbf{X}$ is the design matrix\n",
    "- $\\mathbf{y}$ is the true labels\n",
    "- $\\hat{\\mathbf{y}}$ is the predicted labels\n",
    "\n",
    "We compute the gradient of the MSE loss function with respect to the model parameters and update the parameters iteratively until convergence.\n",
    "\n",
    "The Hessian matrix is computed as:\n",
    "\n",
    "$$\n",
    "\\mathbf{H} = \\frac{1}{N} \\mathbf{X}^T \\mathbf{X}\n",
    "$$\n",
    "\n",
    "Using Newton's method, we iteratively update the weights as:\n",
    "\n",
    "$$\n",
    "\\mathbf{w}_{\\text{new}} = \\mathbf{w}_{\\text{old}} - (\\mathbf{H}^{-1} \\nabla l(\\mathbf{w}_{\\text{old}}))\n",
    "$$\n"
   ]
  },
  {
   "cell_type": "code",
   "execution_count": 19,
   "metadata": {},
   "outputs": [],
   "source": [
    "# Logistic Regression with MSE\n",
    "class LogisticRegressionMSE:\n",
    "    def __init__(self, eta, iterations=20):\n",
    "        self.eta = eta\n",
    "        self.iters = iterations\n",
    "        self.weights = None  # Initialize weights\n",
    "        \n",
    "    def fit(self, X, y):\n",
    "        num_samples, num_features = X.shape\n",
    "        self.w_ = np.zeros((num_features + 1, 1))\n",
    "        X = np.c_[np.ones((num_samples, 1)), X]  # Add intercept\n",
    "        \n",
    "        for _ in range(self.iters):\n",
    "            y_pred = self._sigmoid(X @ self.w_)\n",
    "            y_pred = y_pred.flatten()\n",
    "            gradient = X.T @ (y_pred - y) / num_samples\n",
    "            hessian = X.T @ X / num_samples\n",
    "            gradient = gradient.reshape(-1, 1) # Reshape gradient to ensure it's treated as a column vector\n",
    "            self.w_ -= self.eta * np.linalg.inv(hessian) @ gradient # Update the model parameters using Newton's method\n",
    "        \n",
    "        self.weights = self.w_  # Store weights\n",
    "    \n",
    "    def predict_proba(self, X):\n",
    "        X = np.c_[np.ones((X.shape[0], 1)), X]\n",
    "        return self._sigmoid(X @ self.w_)\n",
    "    \n",
    "    def predict(self, X):\n",
    "        probabilities = self.predict_proba(X)\n",
    "        return (probabilities >= 0.5).astype(int)\n",
    "    \n",
    "    def _sigmoid(self, z):\n",
    "        z_clipped = np.clip(z, -500, 500)\n",
    "        return 1 / (1 + np.exp(-z_clipped))"
   ]
  },
  {
   "cell_type": "code",
   "execution_count": 20,
   "metadata": {},
   "outputs": [
    {
     "name": "stdout",
     "output_type": "stream",
     "text": [
      "[[ 64.79848844]\n",
      " [  2.64184154]\n",
      " [-24.57731991]\n",
      " [-38.6076736 ]\n",
      " [ 24.13270136]\n",
      " [-18.40053991]\n",
      " [-11.75170579]\n",
      " [  2.56745457]\n",
      " [ 36.07685944]]\n",
      "Accuracy: 0.3286034353995519\n",
      "CPU times: user 5.77 s, sys: 518 ms, total: 6.29 s\n",
      "Wall time: 903 ms\n"
     ]
    }
   ],
   "source": [
    "%%time\n",
    "from sklearn.metrics import accuracy_score\n",
    "\n",
    "lr_mse = LogisticRegressionMSE(eta=0.1, iterations=1000)\n",
    "\n",
    "lr_mse.fit(X_train, y_train)\n",
    "y_pred = lr_mse.predict(X_test)\n",
    "print(np.vstack((lr_mse.weights[0], lr_mse.weights[1:])))\n",
    "accuracy = accuracy_score(y_test, y_pred)\n",
    "print(\"Accuracy:\", accuracy)\n"
   ]
  },
  {
   "cell_type": "code",
   "execution_count": 21,
   "metadata": {},
   "outputs": [],
   "source": [
    "class LogisticRegressionMSEOvR: # One vs. All multiclass with MSE\n",
    "    def __init__(self, eta, iterations=20):\n",
    "        self.eta = eta\n",
    "        self.iters = iterations\n",
    "        self.classifiers = {}  # Dictionary to store binary classifiers\n",
    "        \n",
    "    def fit(self, X, y):\n",
    "        num_samples, num_features = X.shape\n",
    "        unique_classes = np.unique(y)\n",
    "        \n",
    "        for class_label in unique_classes:\n",
    "            y_binary = (y == class_label).astype(int)  # Convert to binary labels\n",
    "            classifier = LogisticRegressionMSE(self.eta, self.iters)\n",
    "            classifier.fit(X, y_binary)\n",
    "            self.classifiers[class_label] = classifier\n",
    "    \n",
    "    def predict_proba(self, X):\n",
    "        num_samples = X.shape[0]\n",
    "        probabilities = np.zeros((num_samples, len(self.classifiers)))\n",
    "        \n",
    "        for i, (class_label, classifier) in enumerate(self.classifiers.items()):\n",
    "            probabilities[:, i] = classifier.predict_proba(X).flatten()\n",
    "        \n",
    "        return probabilities\n",
    "    \n",
    "    def predict(self, X):\n",
    "        probabilities = self.predict_proba(X)\n",
    "        return np.argmax(probabilities, axis=1)\n"
   ]
  },
  {
   "cell_type": "code",
   "execution_count": 22,
   "metadata": {},
   "outputs": [
    {
     "name": "stdout",
     "output_type": "stream",
     "text": [
      "[[-2.19241914 -1.16532679 -1.12508868 -2.04419283]\n",
      " [-0.06983582 -0.03754399 -0.01452815  0.14460761]\n",
      " [ 1.00182664  0.15717914 -0.01487167 -1.14735612]\n",
      " [ 1.68235237  0.31305685 -0.11608272 -1.67110059]\n",
      " [-0.90371917 -0.27550582 -0.11695972  1.27001458]\n",
      " [ 0.9855471   0.19525896 -0.20261799 -0.60294016]\n",
      " [ 0.55358196  0.14641481 -0.30372488 -0.26616815]\n",
      " [-0.04856833 -0.02482165  0.00420405  0.11835526]\n",
      " [-1.42036244 -0.18368465  0.3066078   1.47719106]]\n",
      "Accuracy: 0.5937266616878267\n",
      "CPU times: user 21.5 s, sys: 1.7 s, total: 23.2 s\n",
      "Wall time: 3.23 s\n"
     ]
    }
   ],
   "source": [
    "%%time\n",
    "lr_ovr = LogisticRegressionMSEOvR(eta=0.1, iterations=1000)\n",
    "# Fit the model to your data\n",
    "lr_ovr.fit(X_train, y_train)\n",
    "# Make predictions\n",
    "y_pred = lr_ovr.predict(X_test)\n",
    "weights_stacked = np.hstack([lr_ovr.classifiers[class_label].weights for class_label in lr_ovr.classifiers])\n",
    "print(weights_stacked)\n",
    "accuracy = accuracy_score(y_test, y_pred)\n",
    "print(\"Accuracy:\", accuracy)"
   ]
  },
  {
   "cell_type": "markdown",
   "metadata": {},
   "source": [
    "References:\n",
    "1. https://www.kaggle.com/datasets/kukuroo3/body-performance-data\n",
    "2. https://www.bigdata-culture.kr/bigdata/user/data_market/detail.do?id=ace0aea7-5eee-48b9-b616-637365d665c1"
   ]
  }
 ],
 "metadata": {
  "kernelspec": {
   "display_name": "Python 3 (ipykernel)",
   "language": "python",
   "name": "python3"
  },
  "language_info": {
   "codemirror_mode": {
    "name": "ipython",
    "version": 3
   },
   "file_extension": ".py",
   "mimetype": "text/x-python",
   "name": "python",
   "nbconvert_exporter": "python",
   "pygments_lexer": "ipython3",
   "version": "3.11.5"
  }
 },
 "nbformat": 4,
 "nbformat_minor": 2
}
