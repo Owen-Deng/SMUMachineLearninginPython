{
 "cells": [
  {
   "cell_type": "markdown",
   "metadata": {},
   "source": [
    "# Lab Assignment Three: Extending Logistic Regression"
   ]
  },
  {
   "cell_type": "markdown",
   "metadata": {},
   "source": [
    "### Authors\n",
    "- Juliana Antonio\n",
    "- Xiaona Hang\n",
    "- Chuanqi Deng\n"
   ]
  },
  {
   "cell_type": "markdown",
   "metadata": {},
   "source": [
    "## 1. Preparation and Overview"
<<<<<<< HEAD
   ]
  },
  {
   "cell_type": "markdown",
   "metadata": {},
   "source": [
    "The \"Body Performance Data\" sourced from the [Korea Sports Promotion Foundation](https://www.bigdata-culture.kr/bigdata/user/data_market/detail.do?id=ace0aea7-5eee-48b9-b616-637365d665c1), available on Kaggle, comprises 13,393 rows and encompasses 12 features, such as age, gender, height, weight, and more. This dataset, meticulously curated, demonstrates the correlation between age and various exercise performance metrics, thereby providing insights into individual performance grades.\n",
    "\n",
    "Utilizing this rich dataset, the aim is to classify individuals into distinct performance grades: A (Best), B, C, and D (Worst), based on the aforementioned 12 features. This classification is pivotal for tailoring personalized training plans, catering to diverse needs and abilities. Consequently, gyms and rehabilitation centers stand to benefit significantly from leveraging predictive analytics to craft bespoke training plans, optimizing clients' progress and well-being.\n",
    "\n",
    "Beyond professional institutions, individuals themselves will be interested in understanding their body performance classification. Armed with this knowledge, they can make informed decisions regarding their fitness journey, setting realistic goals and embracing tailored approaches for holistic improvement.\n",
    "\n",
    "The deployment of a robust classification model is expected to achieve an accuracy of approximately 80%. By meeting this benchmark, the model ensures reliable predictions, empowering stakeholders to make data-driven decisions with confidence."
=======
>>>>>>> a1c6996b5267b99a6ae1e220b85d7d5e252092a6
   ]
  },
  {
   "cell_type": "markdown",
   "metadata": {},
   "source": [
    "The \"Body Performance Data\" sourced from the [Korea Sports Promotion Foundation](https://www.bigdata-culture.kr/bigdata/user/data_market/detail.do?id=ace0aea7-5eee-48b9-b616-637365d665c1), available on Kaggle, comprises 13,393 rows and encompasses 12 features, such as age, gender, height, weight, and more. This dataset, meticulously curated, demonstrates the correlation between age and various exercise performance metrics, thereby providing insights into individual performance grades.\n",
    "\n",
    "Utilizing this rich dataset, the aim is to classify individuals into distinct performance grades: A (Best), B, C, and D (Worst), based on the aforementioned 12 features. This classification is pivotal for tailoring personalized training plans, catering to diverse needs and abilities. Consequently, gyms and rehabilitation centers stand to benefit significantly from leveraging predictive analytics to craft bespoke training plans, optimizing clients' progress and well-being.\n",
    "\n",
    "Beyond professional institutions, individuals themselves will be interested in understanding their body performance classification. Armed with this knowledge, they can make informed decisions regarding their fitness journey, setting realistic goals and embracing tailored approaches for holistic improvement.\n",
    "\n",
    "The deployment of a robust classification model is expected to achieve an accuracy of approximately 80%. By meeting this benchmark, the model ensures reliable predictions, empowering stakeholders to make data-driven decisions with confidence."
   ]
  },
  {
   "cell_type": "code",
<<<<<<< HEAD
   "execution_count": 30,
=======
   "execution_count": 1,
>>>>>>> a1c6996b5267b99a6ae1e220b85d7d5e252092a6
   "metadata": {},
   "outputs": [
    {
     "data": {
      "text/plain": [
       "((13393, 12), (13393, 8), 0.9610166822801914)"
      ]
     },
<<<<<<< HEAD
     "execution_count": 30,
=======
     "execution_count": 1,
>>>>>>> a1c6996b5267b99a6ae1e220b85d7d5e252092a6
     "metadata": {},
     "output_type": "execute_result"
    }
   ],
   "source": [
    "import matplotlib.pyplot as plt\n",
    "import numpy as np\n",
    "import pandas as pd\n",
    "from sklearn.decomposition import PCA\n",
    "from sklearn.metrics import accuracy_score\n",
    "from sklearn.model_selection import KFold, train_test_split\n",
    "from sklearn.preprocessing import StandardScaler\n",
    "from sklearn.svm import SVC\n",
    "from tqdm import tqdm\n",
    "import warnings\n",
    "warnings.filterwarnings('ignore', category=FutureWarning)\n",
    "\n",
    "raw_data = pd.read_csv(\"data/bodyPerformance.csv\")\n",
    "\n",
    "# preprocessing\n",
    "data = pd.get_dummies(raw_data, columns=['gender'],dtype=np.int8) # one-hot encoding for gender\n",
    "labels = data['class'].map(lambda c: ord(c) - ord('A')) # encode lables into integer\n",
    "data.drop(['class'], axis=1, inplace=True) # remove class column\n",
    "\n",
    "# scale\n",
    "scaler = StandardScaler()\n",
    "features = scaler.fit_transform(data)\n",
    "\n",
    "# PCA\n",
    "pca = PCA(8)\n",
    "pca_feature = pca.fit_transform(features)\n",
    "raw_data.shape, pca_feature.shape, sum(pca.explained_variance_ratio_)"
   ]
  },
  {
   "cell_type": "markdown",
   "metadata": {},
   "source": [
    "The dataset has one categorical feature, the gender. One-hot encoding is enployed to convert it into numerical data. Next, the lables/class is moved to another separate variable, lables. Then, the Standard Scaling and PCA are applied to mitigate the difference of multiple features and reduce the number of features from 12 to 8. The 8 principal components explain 96.1% of the total variance of the scaled data."
   ]
  },
  {
   "cell_type": "code",
<<<<<<< HEAD
   "execution_count": 31,
=======
   "execution_count": 2,
>>>>>>> a1c6996b5267b99a6ae1e220b85d7d5e252092a6
   "metadata": {},
   "outputs": [
    {
     "data": {
      "text/html": [
       "<div>\n",
       "<style scoped>\n",
       "    .dataframe tbody tr th:only-of-type {\n",
       "        vertical-align: middle;\n",
       "    }\n",
       "\n",
       "    .dataframe tbody tr th {\n",
       "        vertical-align: top;\n",
       "    }\n",
       "\n",
       "    .dataframe thead th {\n",
       "        text-align: right;\n",
       "    }\n",
       "</style>\n",
       "<table border=\"1\" class=\"dataframe\">\n",
       "  <thead>\n",
       "    <tr style=\"text-align: right;\">\n",
       "      <th></th>\n",
       "      <th>0</th>\n",
       "      <th>1</th>\n",
       "      <th>2</th>\n",
       "      <th>3</th>\n",
       "      <th>4</th>\n",
       "      <th>5</th>\n",
       "      <th>6</th>\n",
       "      <th>7</th>\n",
       "    </tr>\n",
       "  </thead>\n",
       "  <tbody>\n",
       "    <tr>\n",
       "      <th>count</th>\n",
       "      <td>1.339300e+04</td>\n",
       "      <td>1.339300e+04</td>\n",
       "      <td>1.339300e+04</td>\n",
       "      <td>1.339300e+04</td>\n",
       "      <td>1.339300e+04</td>\n",
       "      <td>1.339300e+04</td>\n",
       "      <td>1.339300e+04</td>\n",
       "      <td>1.339300e+04</td>\n",
       "    </tr>\n",
       "    <tr>\n",
       "      <th>mean</th>\n",
<<<<<<< HEAD
       "      <td>-7.627240e-17</td>\n",
       "      <td>-1.276595e-18</td>\n",
       "      <td>-4.428292e-17</td>\n",
       "      <td>1.819562e-17</td>\n",
       "      <td>-3.309199e-17</td>\n",
       "      <td>9.789990e-18</td>\n",
       "      <td>-6.697978e-18</td>\n",
       "      <td>2.044469e-17</td>\n",
=======
       "      <td>-5.517542e-17</td>\n",
       "      <td>-5.093116e-17</td>\n",
       "      <td>-2.811824e-17</td>\n",
       "      <td>-5.093116e-17</td>\n",
       "      <td>-1.856865e-17</td>\n",
       "      <td>5.305329e-18</td>\n",
       "      <td>4.350370e-17</td>\n",
       "      <td>2.785298e-17</td>\n",
>>>>>>> a1c6996b5267b99a6ae1e220b85d7d5e252092a6
       "    </tr>\n",
       "    <tr>\n",
       "      <th>std</th>\n",
       "      <td>2.386378e+00</td>\n",
       "      <td>1.462662e+00</td>\n",
       "      <td>1.127011e+00</td>\n",
       "      <td>9.438121e-01</td>\n",
       "      <td>8.081770e-01</td>\n",
       "      <td>5.785046e-01</td>\n",
       "      <td>5.602344e-01</td>\n",
       "      <td>4.860709e-01</td>\n",
       "    </tr>\n",
       "    <tr>\n",
       "      <th>min</th>\n",
       "      <td>-5.041796e+00</td>\n",
       "      <td>-5.384663e+00</td>\n",
       "      <td>-7.437324e+00</td>\n",
       "      <td>-4.140902e+00</td>\n",
       "      <td>-4.012083e+00</td>\n",
       "      <td>-2.242237e+00</td>\n",
       "      <td>-5.062883e+00</td>\n",
       "      <td>-2.246422e+00</td>\n",
       "    </tr>\n",
       "    <tr>\n",
       "      <th>25%</th>\n",
       "      <td>-1.967484e+00</td>\n",
       "      <td>-1.012307e+00</td>\n",
       "      <td>-6.911124e-01</td>\n",
       "      <td>-6.042082e-01</td>\n",
       "      <td>-4.971976e-01</td>\n",
       "      <td>-3.845767e-01</td>\n",
       "      <td>-3.517389e-01</td>\n",
       "      <td>-3.142285e-01</td>\n",
       "    </tr>\n",
       "    <tr>\n",
       "      <th>50%</th>\n",
       "      <td>-8.995369e-01</td>\n",
       "      <td>1.073930e-01</td>\n",
       "      <td>5.143689e-02</td>\n",
       "      <td>1.506179e-02</td>\n",
       "      <td>7.247022e-03</td>\n",
       "      <td>1.665698e-02</td>\n",
       "      <td>8.867419e-03</td>\n",
       "      <td>-3.037003e-03</td>\n",
       "    </tr>\n",
       "    <tr>\n",
       "      <th>75%</th>\n",
       "      <td>2.360703e+00</td>\n",
       "      <td>1.072822e+00</td>\n",
       "      <td>7.628835e-01</td>\n",
       "      <td>6.133066e-01</td>\n",
       "      <td>5.253231e-01</td>\n",
       "      <td>3.905508e-01</td>\n",
       "      <td>3.792356e-01</td>\n",
       "      <td>3.000243e-01</td>\n",
       "    </tr>\n",
       "    <tr>\n",
       "      <th>max</th>\n",
       "      <td>6.506510e+00</td>\n",
       "      <td>7.782459e+00</td>\n",
       "      <td>1.473913e+01</td>\n",
       "      <td>4.345014e+00</td>\n",
       "      <td>1.360873e+01</td>\n",
       "      <td>3.636507e+00</td>\n",
       "      <td>5.873632e+00</td>\n",
       "      <td>6.967697e+00</td>\n",
       "    </tr>\n",
       "  </tbody>\n",
       "</table>\n",
       "</div>"
      ],
      "text/plain": [
       "                  0             1             2             3             4  \\\n",
       "count  1.339300e+04  1.339300e+04  1.339300e+04  1.339300e+04  1.339300e+04   \n",
<<<<<<< HEAD
       "mean  -7.627240e-17 -1.276595e-18 -4.428292e-17  1.819562e-17 -3.309199e-17   \n",
=======
       "mean  -5.517542e-17 -5.093116e-17 -2.811824e-17 -5.093116e-17 -1.856865e-17   \n",
>>>>>>> a1c6996b5267b99a6ae1e220b85d7d5e252092a6
       "std    2.386378e+00  1.462662e+00  1.127011e+00  9.438121e-01  8.081770e-01   \n",
       "min   -5.041796e+00 -5.384663e+00 -7.437324e+00 -4.140902e+00 -4.012083e+00   \n",
       "25%   -1.967484e+00 -1.012307e+00 -6.911124e-01 -6.042082e-01 -4.971976e-01   \n",
       "50%   -8.995369e-01  1.073930e-01  5.143689e-02  1.506179e-02  7.247022e-03   \n",
       "75%    2.360703e+00  1.072822e+00  7.628835e-01  6.133066e-01  5.253231e-01   \n",
       "max    6.506510e+00  7.782459e+00  1.473913e+01  4.345014e+00  1.360873e+01   \n",
       "\n",
       "                  5             6             7  \n",
       "count  1.339300e+04  1.339300e+04  1.339300e+04  \n",
<<<<<<< HEAD
       "mean   9.789990e-18 -6.697978e-18  2.044469e-17  \n",
=======
       "mean   5.305329e-18  4.350370e-17  2.785298e-17  \n",
>>>>>>> a1c6996b5267b99a6ae1e220b85d7d5e252092a6
       "std    5.785046e-01  5.602344e-01  4.860709e-01  \n",
       "min   -2.242237e+00 -5.062883e+00 -2.246422e+00  \n",
       "25%   -3.845767e-01 -3.517389e-01 -3.142285e-01  \n",
       "50%    1.665698e-02  8.867419e-03 -3.037003e-03  \n",
       "75%    3.905508e-01  3.792356e-01  3.000243e-01  \n",
       "max    3.636507e+00  5.873632e+00  6.967697e+00  "
      ]
     },
<<<<<<< HEAD
     "execution_count": 31,
=======
     "execution_count": 2,
>>>>>>> a1c6996b5267b99a6ae1e220b85d7d5e252092a6
     "metadata": {},
     "output_type": "execute_result"
    }
   ],
   "source": [
    "# breakdown of the variables\n",
    "pd.DataFrame(pca_feature).describe()"
   ]
  },
  {
   "cell_type": "code",
<<<<<<< HEAD
   "execution_count": 32,
=======
   "execution_count": 3,
>>>>>>> a1c6996b5267b99a6ae1e220b85d7d5e252092a6
   "metadata": {},
   "outputs": [
    {
     "name": "stderr",
     "output_type": "stream",
     "text": [
<<<<<<< HEAD
      "100%|██████████| 8/8 [06:46<00:00, 50.80s/it]\n"
=======
      "100%|█████████████████████████████████████████████| 8/8 [01:30<00:00, 11.25s/it]\n"
>>>>>>> a1c6996b5267b99a6ae1e220b85d7d5e252092a6
     ]
    }
   ],
   "source": [
    "# test different folds of cross validation\n",
    "cross_validation_accs = {}\n",
    "# n fold cross-validation, n: 3-10\n",
    "for n in tqdm(range(3, 11)):\n",
    "    # n-fold cross-validation\n",
    "    cross_validator = KFold(n_splits=n)\n",
    "    split_indices = cross_validator.split(pca_feature, labels)\n",
    "    \n",
    "    # training and testing\n",
    "    avg_accs = []\n",
    "    for train_indices, test_indices in split_indices:\n",
    "        X_train, y_train = pca_feature[train_indices], labels[train_indices]\n",
    "        X_test, y_test = pca_feature[test_indices], labels[test_indices]\n",
    "        \n",
    "        classifier = SVC()\n",
    "        classifier.fit(X_train, y_train)\n",
    "        y_pred = classifier.predict(X_test)\n",
    "        acc = accuracy_score(y_test, y_pred)\n",
    "        avg_accs.append(acc)\n",
    "    \n",
    "    cross_validation_accs[n] = avg_accs"
   ]
  },
  {
   "cell_type": "code",
<<<<<<< HEAD
   "execution_count": 33,
=======
   "execution_count": 4,
>>>>>>> a1c6996b5267b99a6ae1e220b85d7d5e252092a6
   "metadata": {},
   "outputs": [
    {
     "data": {
      "text/plain": [
       "Text(0.5, 1.0, 'Cross Validation Accuracies')"
      ]
     },
<<<<<<< HEAD
     "execution_count": 33,
=======
     "execution_count": 4,
>>>>>>> a1c6996b5267b99a6ae1e220b85d7d5e252092a6
     "metadata": {},
     "output_type": "execute_result"
    },
    {
     "data": {
<<<<<<< HEAD
      "image/png": "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",
=======
      "image/png": "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",
>>>>>>> a1c6996b5267b99a6ae1e220b85d7d5e252092a6
      "text/plain": [
       "<Figure size 640x480 with 2 Axes>"
      ]
     },
     "metadata": {},
     "output_type": "display_data"
    }
   ],
   "source": [
    "# plot cross validation accuracies\n",
    "plt.boxplot(cross_validation_accs.values(), labels=list(range(3, 11)))\n",
    "ax = plt.twiny()\n",
    "avg_accs = [np.mean(accs) for accs in cross_validation_accs.values()]\n",
    "ax.plot(avg_accs, label='mean accuracies')\n",
    "ax.set_axis_off()\n",
    "ax.legend(loc = 'upper left')\n",
    "plt.title(\"Cross Validation Accuracies\")"
   ]
  },
  {
   "cell_type": "markdown",
   "metadata": {},
   "source": [
    "According to the graph above, it is clear that the 7-fold cross-validation has the best accuracies, considering the stablity and median accuracy. Hence, a rougly 86/14 split would be ideal for this dataset."
   ]
  },
  {
   "cell_type": "code",
<<<<<<< HEAD
   "execution_count": 34,
=======
   "execution_count": 31,
>>>>>>> a1c6996b5267b99a6ae1e220b85d7d5e252092a6
   "metadata": {},
   "outputs": [],
   "source": [
    "# use the optimal number of folds for the following analysis\n",
    "cross_validator = KFold(n_splits=7)\n",
    "split_indices = list(cross_validator.split(pca_feature, labels))"
   ]
  },
  {
   "cell_type": "markdown",
   "metadata": {},
   "source": [
    "## 2. Modeling\n",
    "\n",
    "#### 2.1 \n",
    "Create a custom, one-versus-all logistic regression classifier using numpy and scipy to optimize. Ability to choose optimization technique when class is instantiated.\n",
    "Update the gradient calculation to include a customizable regularization term."
   ]
  },
  {
   "cell_type": "code",
   "execution_count": 7,
   "metadata": {},
   "outputs": [
    {
     "name": "stdout",
     "output_type": "stream",
     "text": [
      "Base Binary Logistic Regression Object, Not Trainable\n"
     ]
    }
   ],
   "source": [
    "import numpy as np\n",
    "\n",
    "\n",
    "class BinaryLogisticRegressionBase:\n",
    "    # private:\n",
    "    def __init__(self, eta, iterations=20):\n",
    "        self.eta = eta\n",
    "        self.iters = iterations\n",
    "        # internally we will store the weights as self.w_ to keep with sklearn conventions\n",
    "\n",
    "    def __str__(self):\n",
    "        return 'Base Binary Logistic Regression Object, Not Trainable'\n",
    "\n",
    "    # convenience, private and static:\n",
    "    @staticmethod\n",
    "    def _sigmoid(theta):\n",
    "        return 1/(1+np.exp(-theta))\n",
    "\n",
    "    @staticmethod\n",
    "    def _add_intercept(X):\n",
    "        return np.hstack((np.ones((X.shape[0], 1)), X))  # add bias term\n",
    "\n",
    "    # public:\n",
    "    def predict_proba(self, X, add_intercept=True):\n",
    "        # add bias term if requested\n",
    "        Xb = self._add_intercept(X) if add_intercept else X\n",
    "        return self._sigmoid(Xb @ self.w_)  # return the probability y=1\n",
    "\n",
    "    def predict(self, X):\n",
    "        return (self.predict_proba(X) > 0.5)  # return the actual prediction\n",
    "\n",
    "\n",
    "blr = BinaryLogisticRegressionBase(0.1)\n",
    "print(blr)"
   ]
  },
  {
   "cell_type": "code",
   "execution_count": 8,
   "metadata": {},
   "outputs": [
    {
     "name": "stdout",
     "output_type": "stream",
     "text": [
      "Untrained Binary Logistic Regression Object\n"
     ]
    }
   ],
   "source": [
    "# inherit from base class\n",
    "class BinaryLogisticRegression(BinaryLogisticRegressionBase):\n",
    "    # private:\n",
    "    def __str__(self):\n",
    "        if (hasattr(self, 'w_')):\n",
    "            # is we have trained the object\n",
    "            return 'Binary Logistic Regression Object with coefficients:\\n' + str(self.w_)\n",
    "        else:\n",
    "            return 'Untrained Binary Logistic Regression Object'\n",
    "\n",
    "    def _get_gradient(self, X, y):\n",
    "        # programming \\sum_i (yi-g(xi))xi\n",
    "        gradient = np.zeros(self.w_.shape)  # set gradient to zero\n",
    "        for (xi, yi) in zip(X, y):\n",
    "            # the actual update inside of sum\n",
    "            gradi = (yi - self.predict_proba(xi, add_intercept=False))*xi\n",
    "            # reshape to be column vector and add to gradient\n",
    "            gradient += gradi.reshape(self.w_.shape)\n",
    "\n",
    "        return gradient/float(len(y))\n",
    "\n",
    "    # public:\n",
    "    def fit(self, X, y):\n",
    "        Xb = self._add_intercept(X)  # add bias term\n",
    "        num_samples, num_features = Xb.shape\n",
    "\n",
    "        self.w_ = np.zeros((num_features, 1))  # init weight vector to zeros\n",
    "\n",
    "        # for as many as the max iterations\n",
    "        for _ in range(self.iters):\n",
    "            gradient = self._get_gradient(Xb, y)\n",
    "            self.w_ += gradient*self.eta  # multiply by learning rate\n",
    "\n",
    "\n",
    "blr = BinaryLogisticRegression(0.1)\n",
    "print(blr)"
   ]
  },
  {
   "cell_type": "code",
   "execution_count": 33,
   "metadata": {},
   "outputs": [
    {
     "name": "stdout",
     "output_type": "stream",
     "text": [
      "Binary Logistic Regression Object with coefficients:\n",
      "[[ 0.0039321 ]\n",
      " [-0.00035995]\n",
      " [ 0.03398188]\n",
      " [ 0.08498044]\n",
      " [ 0.11840724]\n",
      " [ 0.01908529]\n",
      " [ 0.00139827]\n",
      " [-0.05517045]\n",
      " [-0.2474695 ]\n",
      " [-0.18153228]\n",
      " [-0.09903336]\n",
      " [-0.04174797]\n",
      " [ 0.04174797]]\n",
      "Accuracy of using original dataset:  0.7793952967525196\n",
      "=====================================\n",
      "Binary Logistic Regression Object with coefficients:\n",
      "[[ 0.00279706]\n",
      " [ 0.04665467]\n",
      " [-0.23210748]\n",
      " [-0.24562836]\n",
      " [ 0.10206542]\n",
      " [-0.07032439]\n",
      " [-0.03039333]\n",
      " [ 0.0061443 ]\n",
      " [ 0.05713881]]\n",
      "Accuracy of using PCA dataset:  0.765210899589399\n",
      "=====================================\n",
      "Binary Logistic Regression Object with coefficients:\n",
      "[[-0.00029092]\n",
      " [ 0.04395626]\n",
      " [-0.22565824]\n",
      " [-0.248578  ]\n",
      " [ 0.10309809]\n",
      " [-0.07139034]\n",
      " [-0.0323019 ]\n",
      " [ 0.00401275]\n",
      " [ 0.05577395]]\n",
      "Best accuracy of using Data using Cross Validation 0.7873563218390804\n"
     ]
    }
   ],
   "source": [
    "# Train and test the model using datasets using different feature engineering methods to verify performance improvement\n",
    "\n",
    "# Use original data\n",
    "X = features\n",
    "y = labels > 1\n",
    "\n",
    "X_train, X_test, y_train, y_test = train_test_split(X, y, train_size=0.8)\n",
    "\n",
    "blr = BinaryLogisticRegression(eta=0.1, iterations=12)\n",
    "blr.fit(X_train, y_train)\n",
    "print(blr)\n",
    "\n",
    "yhat = blr.predict(X_test)\n",
    "print('Accuracy of using original dataset: ', accuracy_score(y_test, yhat))\n",
    "print(\"=====================================\")\n",
    "\n",
    "\n",
    "# Use PCA data without cross validation\n",
    "X = pca_feature\n",
    "y = labels > 1\n",
    "\n",
    "X_train, X_test, y_train, y_test = train_test_split(X, y, train_size=0.8)\n",
    "\n",
    "blr = BinaryLogisticRegression(eta=0.1, iterations=12)\n",
    "blr.fit(X_train, y_train)\n",
    "print(blr)\n",
    "\n",
    "yhat = blr.predict(X_test)\n",
    "print('Accuracy of using PCA dataset: ', accuracy_score(y_test, yhat))\n",
    "print(\"=====================================\")\n",
    "\n",
    "# Use PCA data with cross validation\n",
    "# binary classification data\n",
    "accs = []\n",
    "for train_indices, test_indices in split_indices:\n",
    "    X_train, y_train = pca_feature[train_indices], (labels[train_indices] > 1)\n",
    "    X_test, y_test = pca_feature[test_indices], (labels[test_indices] > 1)\n",
    "\n",
    "    blr = BinaryLogisticRegression(eta=0.1, iterations=12)\n",
    "    blr.fit(X_train, y_train)\n",
    "    \n",
    "    yhat = blr.predict(X_test)\n",
    "    accs.append(accuracy_score(y_test, yhat))\n",
    "    \n",
    "print(blr)\n",
    "print('Best accuracy of using Data using Cross Validation', np.max(accs))"
   ]
  },
  {
   "cell_type": "code",
   "execution_count": 10,
   "metadata": {},
   "outputs": [
    {
     "name": "stdout",
     "output_type": "stream",
     "text": [
      "Binary Logistic Regression Object with coefficients:\n",
      "[[ 0.01174409]\n",
      " [ 0.06053577]\n",
      " [-0.49916394]\n",
      " [-0.68773908]\n",
      " [ 0.32374941]\n",
      " [-0.24576778]\n",
      " [-0.11727782]\n",
      " [ 0.01352371]\n",
      " [ 0.20394337]]\n",
      "Accuracy of using original dataset:  0.8008363826450601\n",
      "=====================================\n",
      "Binary Logistic Regression Object with coefficients:\n",
      "[[ 0.01174409]\n",
      " [ 0.06053577]\n",
      " [-0.49916394]\n",
      " [-0.68773908]\n",
      " [ 0.32374941]\n",
      " [-0.24576778]\n",
      " [-0.11727782]\n",
      " [ 0.01352371]\n",
      " [ 0.20394337]]\n",
      "Accuracy of using PCA dataset:  0.8008363826450601\n",
      "=====================================\n",
      "Binary Logistic Regression Object with coefficients:\n",
      "[[ 0.01174409]\n",
      " [ 0.06053577]\n",
      " [-0.49916394]\n",
      " [-0.68773908]\n",
      " [ 0.32374941]\n",
      " [-0.24576778]\n",
      " [-0.11727782]\n",
      " [ 0.01352371]\n",
      " [ 0.20394337]]\n",
      "Accuracy of using Data using Cross Validation 0.8008363826450601\n"
     ]
    }
   ],
   "source": [
    "# Train the classifier with more iterations to check if the accuracy improves\n",
    "params = dict(eta=0.01,\n",
    "              iterations=500)\n",
    "\n",
    "# Use original data\n",
    "X = features\n",
    "y = labels > 1\n",
    "\n",
    "blr = BinaryLogisticRegression(**params)\n",
    "blr.fit(X_train, y_train)\n",
    "print(blr)\n",
    "\n",
    "yhat = blr.predict(X_test)\n",
    "print('Accuracy of using original dataset: ', accuracy_score(y_test, yhat))\n",
    "print(\"=====================================\")\n",
    "\n",
    "\n",
    "# Use PCA data without cross validation\n",
    "X = pca_feature\n",
    "y = labels > 1\n",
    "\n",
    "blr = BinaryLogisticRegression(**params)\n",
    "blr.fit(X_train, y_train)\n",
    "print(blr)\n",
    "\n",
    "yhat = blr.predict(X_test)\n",
    "print('Accuracy of using PCA dataset: ', accuracy_score(y_test, yhat))\n",
    "print(\"=====================================\")\n",
    "\n",
    "# Use PCA data with cross validation\n",
    "# binary classification data\n",
    "for train_indices, test_indices in split_indices:\n",
    "    X_train, y_train = pca_feature[train_indices], (labels[train_indices] > 1)\n",
    "    X_test, y_test = pca_feature[test_indices], (labels[test_indices] > 1)\n",
    "\n",
    "blr = BinaryLogisticRegression(**params)\n",
    "blr.fit(X_train, y_train)\n",
    "print(blr)\n",
    "\n",
    "yhat = blr.predict(X_test)\n",
    "print('Accuracy of using Data using Cross Validation',\n",
    "      accuracy_score(y_test, yhat))"
   ]
  },
  {
   "cell_type": "markdown",
   "metadata": {},
   "source": [
    "**Observation**:\n",
    "- Accuracy improved after tuning the hyperparameter of interaction with a higher value. \n",
    "- The Binary Classification Model performs the same level of accuracy when using the original dataset, a dataset that has undergone PCA (Principal Component Analysis), and a dataset that has applied Cross-Validation.  We will continue experimenting with it in the training of the multiclass classifier to verify whether different datasets will affect the performance in a classification problem.\n"
   ]
  },
  {
   "cell_type": "markdown",
   "metadata": {},
   "source": [
    "Use numpy and scipy expit to optimize the Logistic Regression Function"
   ]
  },
  {
   "cell_type": "code",
   "execution_count": 11,
   "metadata": {},
   "outputs": [
    {
     "name": "stdout",
     "output_type": "stream",
     "text": [
      "[[ 0.01174409]\n",
      " [ 0.06053577]\n",
      " [-0.49916394]\n",
      " [-0.68773908]\n",
      " [ 0.32374941]\n",
      " [-0.24576778]\n",
      " [-0.11727782]\n",
      " [ 0.01352371]\n",
      " [ 0.20394337]]\n",
      "Accuracy of Vectorized Programing for Regression:  0.8008363826450601\n"
     ]
    }
   ],
   "source": [
    "# Vectorized Programming for Logistic Regression\n",
    "import numpy as np\n",
    "from scipy.special import expit\n",
    "\n",
    "class VectorBinaryLogisticRegression(BinaryLogisticRegression):\n",
    "    # inherit from our previous class to get same functionality\n",
    "    @staticmethod\n",
    "    def _sigmoid(theta):\n",
    "        # increase stability using expit which is more stable\n",
    "        return expit(theta)  # 1/(1+np.exp(-theta))\n",
    "\n",
    "    # overwrite the gradient calculation\n",
    "    def _get_gradient(self, X, y):\n",
    "        # get y difference\n",
    "        ydiff = y-self.predict_proba(X, add_intercept=False).ravel()\n",
    "            # convert ydiff to a NumPy array\n",
    "        ydiff = np.array(ydiff)\n",
    "        # make ydiff a column vector and multiply through\n",
    "        gradient = np.mean(X * ydiff[:, np.newaxis], axis=0)\n",
    "\n",
    "        return gradient.reshape(self.w_.shape)\n",
    "\n",
    "\n",
    "# use same params as defined above\n",
    "blr = VectorBinaryLogisticRegression(**params)\n",
    "blr.fit(X_train, y_train)\n",
    "print(blr.w_)\n",
    "yhat = blr.predict(X_test)\n",
    "print('Accuracy of Vectorized Programing for Regression: ', accuracy_score(y_test,yhat))"
   ]
  },
  {
   "cell_type": "markdown",
   "metadata": {},
   "source": [
    "One-versus-all to program a Multicalss Logistic Regression"
   ]
  },
  {
   "cell_type": "code",
   "execution_count": 12,
   "metadata": {},
   "outputs": [
    {
     "name": "stdout",
     "output_type": "stream",
     "text": [
      "Untrained MultiClass Logistic Regression Object\n"
     ]
    }
   ],
   "source": [
    "class LogisticRegression:\n",
    "    def __init__(self, eta, iterations=20):\n",
    "        self.eta = eta\n",
    "        self.iters = iterations\n",
    "\n",
    "    def __str__(self):\n",
    "        if (hasattr(self, 'w_')):\n",
    "            # is we have trained the object\n",
    "            return 'MultiClass Logistic Regression Object with coefficients:\\n' + str(self.w_)\n",
    "        else:\n",
    "            return 'Untrained MultiClass Logistic Regression Object'\n",
    "\n",
    "    def fit(self, X, y):\n",
    "        num_samples, num_features = X.shape\n",
    "        self.unique_ = np.unique(y)  # get each unique class value\n",
    "        num_unique_classes = len(self.unique_)\n",
    "        self.classifiers_ = []  # will fill this array with binary classifiers\n",
    "\n",
    "        for i, yval in enumerate(self.unique_):  # for each unique value\n",
    "            y_binary = (y == yval)  # create a binary problem\n",
    "            # train the binary classifier for this class\n",
    "            blr = VectorBinaryLogisticRegression(self.eta,\n",
    "                                                 self.iters)\n",
    "            blr.fit(X, y_binary)\n",
    "            # add the trained classifier to the list\n",
    "            self.classifiers_.append(blr)\n",
    "\n",
    "        # save all the weights into one matrix, separate column for each class\n",
    "        self.w_ = np.hstack([x.w_ for x in self.classifiers_]).T\n",
    "\n",
    "    def predict_proba(self, X):\n",
    "        probs = []\n",
    "        for blr in self.classifiers_:\n",
    "            # get probability for each classifier\n",
    "            probs.append(blr.predict_proba(X))\n",
    "\n",
    "        return np.hstack(probs)  # make into single matrix\n",
    "\n",
    "    def predict(self, X):\n",
    "        # take argmax along row\n",
    "        return self.unique_[np.argmax(self.predict_proba(X), axis=1)]\n",
    "\n",
    "\n",
    "lr = LogisticRegression(0.1, 1500)\n",
    "print(lr)"
   ]
  },
  {
   "cell_type": "code",
   "execution_count": 13,
   "metadata": {},
   "outputs": [
    {
     "name": "stdout",
     "output_type": "stream",
     "text": [
      "MultiClass Logistic Regression Object with coefficients:\n",
      "[[-0.01174409 -0.06053577  0.49916394  0.68773908 -0.32374941  0.24576778\n",
      "   0.11727782 -0.01352371 -0.20394337]\n",
      " [ 0.01174409  0.06053577 -0.49916394 -0.68773908  0.32374941 -0.24576778\n",
      "  -0.11727782  0.01352371  0.20394337]]\n",
      "Accuracy of using original dataset:  0.8008363826450601\n",
      "=====================================\n",
      "MultiClass Logistic Regression Object with coefficients:\n",
      "[[-0.01174409 -0.06053577  0.49916394  0.68773908 -0.32374941  0.24576778\n",
      "   0.11727782 -0.01352371 -0.20394337]\n",
      " [ 0.01174409  0.06053577 -0.49916394 -0.68773908  0.32374941 -0.24576778\n",
      "  -0.11727782  0.01352371  0.20394337]]\n",
      "Accuracy of using PCA dataset:  0.8008363826450601\n",
      "=====================================\n",
      "MultiClass Logistic Regression Object with coefficients:\n",
      "[[-0.01174409 -0.06053577  0.49916394  0.68773908 -0.32374941  0.24576778\n",
      "   0.11727782 -0.01352371 -0.20394337]\n",
      " [ 0.01174409  0.06053577 -0.49916394 -0.68773908  0.32374941 -0.24576778\n",
      "  -0.11727782  0.01352371  0.20394337]]\n",
      "Accuracy of using Data using Cross Validation 0.8008363826450601\n"
     ]
    }
   ],
   "source": [
    "# Use original data\n",
    "X = features\n",
    "y = labels\n",
    "\n",
    "lr = LogisticRegression(**params)\n",
    "lr.fit(X_train, y_train)\n",
    "print(lr)\n",
    "\n",
    "yhat = lr.predict(X_test)\n",
    "print('Accuracy of using original dataset: ', accuracy_score(y_test, yhat))\n",
    "print(\"=====================================\")\n",
    "\n",
    "\n",
    "# Use PCA data without cross validation\n",
    "X = pca_feature\n",
    "y = labels\n",
    "\n",
    "lr = LogisticRegression(**params)\n",
    "lr.fit(X_train, y_train)\n",
    "print(lr)\n",
    "\n",
    "yhat = lr.predict(X_test)\n",
    "print('Accuracy of using PCA dataset: ', accuracy_score(y_test, yhat))\n",
    "print(\"=====================================\")\n",
    "\n",
    "# Use PCA data with cross validation\n",
    "# binary classification data\n",
    "for train_indices, test_indices in split_indices:\n",
    "    X_train, y_train = pca_feature[train_indices], labels[train_indices]\n",
    "    X_test, y_test = pca_feature[test_indices], labels[test_indices]\n",
    "\n",
    "lr = LogisticRegression(**params)\n",
    "lr.fit(X_train, y_train)\n",
    "print(lr)\n",
    "\n",
    "yhat = lr.predict(X_test)\n",
    "print('Accuracy of using Data using Cross Validation',\n",
    "      accuracy_score(y_test, yhat))"
   ]
  },
  {
   "cell_type": "markdown",
   "metadata": {},
   "source": [
    "**Observation:** \n",
    "- The multiclass classifier maintains consistent accuracy across the three distinct datasets. This consistency may indicate that the key features crucial for classification are retained, even after the dimensionality reduction achieved through PCA. The principal components preserved seem to encapsulate the majority of variance and the essential characteristics crucial for effective classification.\n",
    "- The consistent accuracy across different datasets suggests that the model generalizes well. This is particularly highlighted by the cross-validation process, which involves training and testing the model on various data subsets, yielding similar accuracy comparable to that obtained with the original dataset. This consistency suggests that the model is not overly fitted to particular characteristics of the training data.\n",
    "- Therefore, we will proceed with our analysis using the data post-cross-validation.\n"
   ]
  },
  {
   "cell_type": "markdown",
   "metadata": {},
   "source": [
    "Logistic Regression Class Boundaries"
   ]
  },
  {
   "cell_type": "code",
   "execution_count": 14,
   "metadata": {},
   "outputs": [
    {
     "data": {
      "image/png": "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",
      "text/plain": [
       "<Figure size 640x480 with 1 Axes>"
      ]
     },
     "metadata": {},
     "output_type": "display_data"
    }
   ],
   "source": [
    "# linear boundaries visualization from sklearn documentation\n",
    "from matplotlib import pyplot as plt\n",
    "import copy\n",
    "%matplotlib inline\n",
    "plt.style.use('ggplot')\n",
    "\n",
    "def plot_decision_boundaries(lr,Xin,y,title=''):\n",
    "    Xb = copy.deepcopy(Xin)\n",
    "    lr.fit(Xb[:,:2],y) # train only on two features\n",
    "\n",
    "    h=0.01\n",
    "    # create a mesh to plot in\n",
    "    x_min, x_max = Xb[:, 0].min() - 1, Xb[:, 0].max() + 1\n",
    "    y_min, y_max = Xb[:, 1].min() - 1, Xb[:, 1].max() + 1\n",
    "    xx, yy = np.meshgrid(np.arange(x_min, x_max, h),\n",
    "                         np.arange(y_min, y_max, h))\n",
    "\n",
    "    # get prediction values\n",
    "    Z = lr.predict(np.c_[xx.ravel(), yy.ravel()])\n",
    "\n",
    "    # Put the result into a color plot\n",
    "    Z = Z.reshape(xx.shape)\n",
    "    plt.contourf(xx, yy, Z, cmap=plt.cm.Paired, alpha=0.5)\n",
    "\n",
    "    # Plot also the training points\n",
    "    plt.scatter(Xb[:, 0], Xb[:, 1], c=y, cmap=plt.cm.Paired)\n",
    "    plt.xlabel('')\n",
    "    plt.ylabel('')\n",
    "    plt.xlim(xx.min(), xx.max())\n",
    "    plt.ylim(yy.min(), yy.max())\n",
    "    plt.xticks(())\n",
    "    plt.yticks(())\n",
    "    plt.title(title)\n",
    "    plt.show()\n",
    "    \n",
    "lr = LogisticRegression(0.1,1500) # OUR LR implementation\n",
    "plot_decision_boundaries(lr,X,y)"
   ]
  },
  {
   "cell_type": "markdown",
   "metadata": {},
   "source": [
    "Introduce the L2-Norm parameter into the objective function to maintain relatively small weight values, aiming to mitigate overfitting. Modify the objective function by incorporating a new summation term for the weights, which reduces their maximum values when the weights become large.\n",
    "\n",
    "To apply this theory, utilize C as the hyperparameter to balance the optimization of the previous function with the objective of maintaining small weights.\n"
   ]
  },
  {
   "cell_type": "code",
   "execution_count": 15,
   "metadata": {},
   "outputs": [],
   "source": [
    "class RegularizedBinaryLogisticRegression(VectorBinaryLogisticRegression):\n",
    "    # extend init functions\n",
    "    def __init__(self, C=0.0, **kwds):\n",
    "        # need to add to the original initializer\n",
    "        self.C = C\n",
    "        # but keep other keywords\n",
    "        super().__init__(**kwds)  # call parent initializer\n",
    "\n",
    "    # extend previous class to change functionality\n",
    "    def _get_gradient(self, X, y):\n",
    "        # call get gradient from previous class\n",
    "        gradient = super()._get_gradient(X, y)\n",
    "\n",
    "        # add in regularization (to all except bias term)\n",
    "        gradient[1:] += -2 * self.w_[1:] * self.C\n",
    "        return gradient"
   ]
  },
  {
   "cell_type": "code",
   "execution_count": 16,
   "metadata": {},
   "outputs": [],
   "source": [
    "# now redefine the Logistic Regression Function where needed\n",
    "class RegularizedLogisticRegression(LogisticRegression):\n",
    "    def __init__(self, C=0.0, **kwds):        \n",
    "        self.C = C\n",
    "        super().__init__(**kwds)\n",
    "        \n",
    "    def fit(self,X,y):\n",
    "        num_samples, num_features = X.shape\n",
    "        self.unique_ = np.unique(y) \n",
    "        num_unique_classes = len(self.unique_)\n",
    "        self.classifiers_ = [] # will fill this array with binary classifiers\n",
    "        \n",
    "        for i,yval in enumerate(self.unique_): # for each unique value\n",
    "            y_binary = y==yval # create a binary problem\n",
    "            blr = RegularizedBinaryLogisticRegression(eta=self.eta,\n",
    "                                                      iterations=self.iters,\n",
    "                                                      C=self.C)\n",
    "            blr.fit(X,y_binary)\n",
    "            # add the trained classifier to the list\n",
    "            self.classifiers_.append(blr)\n",
    "            \n",
    "        # save all the weights into one matrix, separate column for each class\n",
    "        # now redefine the Logistic Regression Function where needed\n",
    "        self.w_ = np.hstack([x.w_ for x in self.classifiers_]).T"
   ]
  },
  {
   "cell_type": "code",
   "execution_count": 17,
   "metadata": {},
   "outputs": [
    {
     "data": {
      "application/vnd.jupyter.widget-view+json": {
       "model_id": "0ff6770765e9441990e6bc6f5f0167c0",
       "version_major": 2,
       "version_minor": 0
      },
      "text/plain": [
       "interactive(children=(IntSlider(value=7, description='cost_idx', max=14), Output()), _dom_classes=('widget-int…"
      ]
     },
     "metadata": {},
     "output_type": "display_data"
    },
    {
     "data": {
      "text/plain": [
       "<function __main__.lr_explor(cost_idx)>"
      ]
     },
     "execution_count": 17,
     "metadata": {},
     "output_type": "execute_result"
    }
   ],
   "source": [
    "from ipywidgets import widgets as wd\n",
    "\n",
    "cost_vals = np.logspace(-3, 1, 15) # 15 values from 0.001 to 10\n",
    "\n",
    "\n",
    "def lr_explor(cost_idx): \n",
    "    C = cost_vals[cost_idx]\n",
    "    lr_clf = RegularizedLogisticRegression(eta=0.1,\n",
    "                                           # lots of iterations (to help overfit)\n",
    "                                           iterations=2500,\n",
    "                                           C=C)  # get object\n",
    "\n",
    "    plot_decision_boundaries(lr_clf, X, y, title=\"C=%.5f\" % (C))\n",
    "    plt.show()\n",
    "\n",
    "\n",
    "wd.interact(lr_explor, cost_idx=(0, 14, 1), __manual=True)\n",
    "\n",
    "# what happens when C gets too large??\n",
    "# let's explore the different values and see what happens"
   ]
  },
  {
   "cell_type": "markdown",
   "metadata": {},
   "source": [
    "###  Implemente optimization techniques\n",
    "- Use a line search along gradient direction to find the right value of eta\n",
    "    - Optimize eta, with all inputs constant\n",
    "    - Do line search in gradient direction, using scipy function\n",
    "    - Scipy minimize_scaler to optimize the obeject function, bounds and speed\n",
    "    - Get the optimal learning rate\n",
    "- Update the gradient calculation to include a customizable regularization term using L2 \n",
    " regularization. Set up **C** that can be adjusted when the class is instantiated.  \n",
    "- Recall: For logistic regression, the regularization term \"C\" plays a crucial role in controlling overfitting and underfitting as it controls how the gridents will move.\n",
    "\n",
    "- Experimenting with various solver methods— stochastic gradient ascent, and Newton's method—when the class is instantiated"
   ]
  },
  {
   "cell_type": "code",
   "execution_count": 18,
   "metadata": {},
   "outputs": [],
   "source": [
    "class BinaryLogisticRegression:\n",
    "    def __init__(self, eta, iterations=20, C=0.001):\n",
    "        self.eta = eta\n",
    "        self.iters = iterations\n",
    "        self.C = C\n",
    "        # internally we will store the weights as self.w_ to keep with sklearn conventions\n",
    "\n",
    "    def __str__(self):\n",
    "        if (hasattr(self, 'w_')):\n",
    "            return 'Binary Logistic Regression Object with coefficients:\\n' + str(self.w_)\n",
    "        else:\n",
    "            return 'Untrained Binary Logistic Regression Object'\n",
    "\n",
    "    # convenience, private:\n",
    "    @staticmethod\n",
    "    def _add_bias(X):\n",
    "        return np.hstack((np.ones((X.shape[0], 1)), X))  # add bias term\n",
    "\n",
    "    @staticmethod\n",
    "    def _sigmoid(theta):\n",
    "        # increase stability, redefine sigmoid operation\n",
    "        return expit(theta)  # 1/(1+np.exp(-theta))\n",
    "\n",
    "    # vectorized gradient calculation with regularization using L2 Norm\n",
    "    def _get_gradient(self, X, y):\n",
    "        # get y difference\n",
    "        ydiff = y-self.predict_proba(X, add_bias=False).ravel()\n",
    "        # convert ydiff to a NumPy array\n",
    "        ydiff = np.array(ydiff)\n",
    "        # make ydiff a column vector and multiply through\n",
    "        gradient = np.mean(X * ydiff[:, np.newaxis], axis=0)\n",
    "        gradient = gradient.reshape(self.w_.shape)\n",
    "        gradient[1:] += -2 * self.w_[1:] * self.C\n",
    "\n",
    "        return gradient\n",
    "\n",
    "    # public:\n",
    "    def predict_proba(self, X, add_bias=True):\n",
    "        # add bias term if requested\n",
    "        Xb = self._add_bias(X) if add_bias else X\n",
    "        return self._sigmoid(Xb @ self.w_)  # return the probability y=1\n",
    "\n",
    "    def predict(self, X):\n",
    "        return (self.predict_proba(X) > 0.5)  # return the actual prediction\n",
    "\n",
    "    def fit(self, X, y):\n",
    "        Xb = self._add_bias(X)  # add bias term\n",
    "        num_samples, num_features = Xb.shape\n",
    "\n",
    "        self.w_ = np.zeros((num_features, 1))  # init weight vector to zeros\n",
    "\n",
    "        # for as many as the max iterations\n",
    "        for _ in range(self.iters):\n",
    "            gradient = self._get_gradient(Xb, y)\n",
    "            self.w_ += gradient*self.eta  # multiply by learning rate\n",
    "            # add bacause maximizing\n",
    "\n"
   ]
  },
  {
   "cell_type": "code",
   "execution_count": 19,
   "metadata": {},
   "outputs": [
    {
     "name": "stdout",
     "output_type": "stream",
     "text": [
      "Binary Logistic Regression Object with coefficients:\n",
      "[[ 0.01170836]\n",
      " [ 0.06051586]\n",
      " [-0.50016486]\n",
      " [-0.68890173]\n",
      " [ 0.32397866]\n",
      " [-0.24565813]\n",
      " [-0.11706284]\n",
      " [ 0.01350007]\n",
      " [ 0.20346327]]\n",
      "Accuracy of:  0.8008363826450601\n",
      "CPU times: user 303 ms, sys: 54 ms, total: 357 ms\n",
      "Wall time: 52.6 ms\n"
     ]
    }
   ],
   "source": [
    "%%time\n",
    "# binary classification data\n",
    "for train_indices, test_indices in split_indices:\n",
    "    X_train, y_train = pca_feature[train_indices], (labels[train_indices] > 1)\n",
    "    X_test, y_test = pca_feature[test_indices], (labels[test_indices] > 1)\n",
    "\n",
    "\n",
    "blr = BinaryLogisticRegression(eta=0.1, iterations=50, C=0.001)\n",
    "\n",
    "\n",
    "blr.fit(X_train, y_train)\n",
    "print(blr)\n",
    "\n",
    "\n",
    "yhat = blr.predict(X_test)\n",
    "\n",
    "print('Accuracy of: ', accuracy_score(y_test, yhat))"
   ]
  },
  {
   "cell_type": "code",
   "execution_count": 20,
   "metadata": {},
   "outputs": [
    {
     "name": "stdout",
     "output_type": "stream",
     "text": [
      "eta:  1.0\n",
      "Binary Logistic Regression Object with coefficients:\n",
      "[[ 0.09367245]\n",
      " [ 0.04085417]\n",
      " [-0.74545174]\n",
      " [-1.23769665]\n",
      " [ 0.67240934]\n",
      " [-0.55647988]\n",
      " [-0.27388939]\n",
      " [ 0.02347206]\n",
      " [ 0.47391496]]\n",
      "Accuracy of:  0.8154730789336121\n",
      "CPU times: user 366 ms, sys: 78.1 ms, total: 444 ms\n",
      "Wall time: 62.6 ms\n"
     ]
    }
   ],
   "source": [
    "%%time\n",
    "#use a line search along the gradient direction:\n",
    "from scipy.optimize import minimize_scalar\n",
    "import copy\n",
    "# (masked array) this has most numpy functions that work with NaN data.\n",
    "from numpy import ma\n",
    "\n",
    "\n",
    "class LineSearchLogisticRegression(BinaryLogisticRegression):\n",
    "\n",
    "    # define custom line search for problem\n",
    "    def __init__(self, line_iters=0.0, **kwds):\n",
    "        self.line_iters = line_iters\n",
    "        # but keep other keywords\n",
    "        super().__init__(**kwds)  # call parent initializer\n",
    "\n",
    "    # this defines the function with the first input to be optimized\n",
    "    # therefore eta will be optimized, with all inputs constant\n",
    "    @staticmethod\n",
    "    def objective_function(eta, X, y, w, grad, C):\n",
    "        wnew = w - grad*eta\n",
    "        g = expit(X @ wnew)\n",
    "        # the line search is looking for minimization, so take the negative of l(w)\n",
    "        return -np.sum(ma.log(g[y == 1]))-ma.sum(ma.log(1-g[y == 0])) + C*sum(wnew**2)\n",
    "\n",
    "    def fit(self, X, y):\n",
    "        Xb = self._add_bias(X)  # add bias term\n",
    "        num_samples, num_features = Xb.shape\n",
    "\n",
    "        self.w_ = np.zeros((num_features, 1))  # init weight vector to zeros\n",
    "\n",
    "        # for as many as the max iterations\n",
    "        for _ in range(self.iters):\n",
    "            gradient = -self._get_gradient(Xb, y)\n",
    "            # minimization is in opposite direction\n",
    "\n",
    "            # do line search in gradient direction, using scipy function\n",
    "            # unclear exactly what this should be\n",
    "            opts = {'maxiter': self.line_iters}\n",
    "            res = minimize_scalar(self.objective_function,  # objective function to optimize\n",
    "                                  # bounds to optimize\n",
    "                                  bounds=(0, self.eta*10),\n",
    "                                  # additional argument for objective function\n",
    "                                  args=(Xb, y, self.w_, gradient, self.C),\n",
    "                                  method='bounded',  # bounded optimization for speed\n",
    "                                  options=opts)  # set max iterations\n",
    "\n",
    "            eta = res.x  # get optimal learning rate\n",
    "            self.w_ -= gradient*eta  # set new function values\n",
    "            # subtract to minimize\n",
    "\n",
    "\n",
    "lslr = LineSearchLogisticRegression(eta=1.0,\n",
    "                                    iterations=6,\n",
    "                                    line_iters=8,\n",
    "                                    C=0.001)\n",
    "\n",
    "lslr.fit(X_train, y_train)\n",
    "\n",
    "yhat = lslr.predict(X_test)\n",
    "print(\"eta: \", lslr.eta)\n",
    "print(lslr)\n",
    "print('Accuracy of: ', accuracy_score(y_test,yhat))         "
   ]
  },
  {
   "cell_type": "markdown",
   "metadata": {},
   "source": [
    "**Observation:** Performance has improved slightly, but not too much faster, mostly because $\\eta$ was chosen well in the initial example"
   ]
  },
  {
   "cell_type": "markdown",
   "metadata": {},
   "source": [
    "### Stochastic Gradient Descent\n",
    "When calculating the gradient becomes too computationally intensive with large datasets, we can approximate the gradient using a single instance, with the underlying theory supporting the notion that the steps may appear somewhat random"
   ]
  },
  {
   "cell_type": "code",
   "execution_count": 21,
   "metadata": {},
   "outputs": [
    {
     "name": "stdout",
     "output_type": "stream",
     "text": [
      "Binary Logistic Regression Object with coefficients:\n",
      "[[-0.01478173]\n",
      " [ 0.04631331]\n",
      " [-0.4001288 ]\n",
      " [-0.50357488]\n",
      " [ 0.23318346]\n",
      " [-0.15733512]\n",
      " [-0.08406285]\n",
      " [ 0.00869755]\n",
      " [ 0.12281681]]\n",
      "Accuracy of:  0.7945635128071092\n"
     ]
    }
   ],
   "source": [
    "class StochasticLogisticRegression(BinaryLogisticRegression):\n",
    "    # stochastic gradient calculation\n",
    "    def _get_gradient(self, X, y):\n",
    "\n",
    "        # grab a subset of samples in a mini-batch\n",
    "        # and calculate the gradient according to the small batch only\n",
    "        mini_batch_size = 16\n",
    "        idxs = np.random.choice(len(y), mini_batch_size)\n",
    "\n",
    "        # get y difference (now scalar)\n",
    "        ydiff = y[idxs]-self.predict_proba(X[idxs], add_bias=False).ravel()\n",
    "        # convert ydiff to a NumPy array\n",
    "        ydiff = np.array(ydiff)\n",
    "        # make ydiff a column vector and multiply through\n",
    "        gradient = np.mean(X[idxs] * ydiff[:, np.newaxis], axis=0)\n",
    "\n",
    "        gradient = gradient.reshape(self.w_.shape)\n",
    "        gradient[1:] += -2 * self.w_[1:] * self.C\n",
    "\n",
    "        return gradient\n",
    "\n",
    "\n",
    "slr = StochasticLogisticRegression(\n",
    "    eta=0.01, iterations=300, C=0.001)  # take a lot more steps!!\n",
    "\n",
    "slr.fit(X_train, y_train)\n",
    "\n",
    "yhat = slr.predict(X_test)\n",
    "print(slr)\n",
    "print('Accuracy of: ', accuracy_score(y_test,yhat))      "
   ]
  },
  {
   "cell_type": "markdown",
   "metadata": {},
   "source": [
    "### Newton's Update Method - Hessian\n",
    "- In multiple dimensions when dealing with functions of several variables, this involves using the Hessian matrix (a square matrix of second-order partial derivatives of the function) and the gradient of the function. This method is used to find points where the function reaches its local maxima or minima. The inclusion of the Hessian allows Newton's method to consider the curvature of the function, potentially leading to faster convergence compared to methods that only use the first derivative, such as Gradient Descent."
   ]
  },
  {
   "cell_type": "code",
   "execution_count": 22,
   "metadata": {},
   "outputs": [
    {
     "name": "stdout",
     "output_type": "stream",
     "text": [
      "Binary Logistic Regression Object with coefficients:\n",
      "[[ 0.23638944]\n",
      " [ 0.09982295]\n",
      " [-1.00021084]\n",
      " [-1.74812429]\n",
      " [ 1.05315017]\n",
      " [-0.98454332]\n",
      " [-0.67658935]\n",
      " [ 0.05085698]\n",
      " [ 1.49621441]]\n",
      "Accuracy of:  0.8332462101411395\n"
     ]
    }
   ],
   "source": [
    "# code Hessian up using numpy:\n",
    "\n",
    "from numpy.linalg import pinv\n",
    "\n",
    "\n",
    "class HessianBinaryLogisticRegression(BinaryLogisticRegression):\n",
    "    # just overwrite gradient function\n",
    "    def _get_gradient(self, X, y):\n",
    "        # get sigmoid value for all classes\n",
    "        g = self.predict_proba(X, add_bias=False).ravel()\n",
    "        hessian = X.T @ np.diag(g*(1-g)) @ X - 2 * \\\n",
    "            self.C  # calculate the hessian\n",
    "\n",
    "        ydiff = y-g  # get y difference\n",
    "        # convert ydiff to a NumPy array\n",
    "        ydiff = np.array(ydiff)\n",
    "        # make ydiff a column vector and multiply through\n",
    "        gradient = np.sum(X * ydiff[:, np.newaxis], axis=0)\n",
    "        gradient = gradient.reshape(self.w_.shape)\n",
    "        gradient[1:] += -2 * self.w_[1:] * self.C\n",
    "\n",
    "        return pinv(hessian) @ gradient\n",
    "\n",
    "\n",
    "hlr = HessianBinaryLogisticRegression(eta=1.0,\n",
    "                                      iterations=4,\n",
    "                                      C=0.001)  # note that we need only a few iterations here\n",
    "\n",
    "hlr.fit(X_train, y_train)\n",
    "yhat = hlr.predict(X_test)\n",
    "print(hlr)\n",
    "print('Accuracy of: ', accuracy_score(y_test,yhat))\n"
   ]
  },
  {
   "cell_type": "markdown",
   "metadata": {},
   "source": [
    "**Observation:**\n",
    "Stochastic Gradient Descent exhibits relatively lower accuracy compared to other methods. The Newton's Update method, utilizing the Hessian matrix, performs the best, achieving the highest accuracy. Therefore, it is advisable to construct the Multiclass Classifier using the Hessian-based approach for enhanced performance."
   ]
  },
  {
   "cell_type": "code",
   "execution_count": 23,
   "metadata": {},
   "outputs": [
    {
     "name": "stdout",
     "output_type": "stream",
     "text": [
      "Binary Logistic Regression Object with coefficients:\n",
      "[[ 0.01535405]\n",
      " [ 0.07412901]\n",
      " [-0.78817433]\n",
      " [-1.0732757 ]\n",
      " [ 0.48730721]\n",
      " [-0.35556927]\n",
      " [-0.16370402]\n",
      " [ 0.01889513]\n",
      " [ 0.28151004]]\n",
      "Accuracy of:  0.796131730266597\n"
     ]
    }
   ],
   "source": [
    "\n",
    "from scipy.optimize import fmin_bfgs\n",
    "from scipy.optimize import fmin_bfgs\n",
    "from numpy import ma\n",
    "\n",
    "\n",
    "class BFGSBinaryLogisticRegression(BinaryLogisticRegression):\n",
    "\n",
    "    @staticmethod\n",
    "    def objective_function(w, X, y, C):\n",
    "        g = expit(X @ w)\n",
    "        # invert this because scipy minimizes, but we derived all formulas for maximzing\n",
    "        return -ma.sum(ma.log(g[y == 1]))-ma.sum(ma.log(1-g[y == 0])) + C*sum(w**2)\n",
    "        # -np.sum(y*np.log(g)+(1-y)*np.log(1-g))\n",
    "\n",
    "    @staticmethod\n",
    "    def objective_gradient(w, X, y, C):\n",
    "        g = expit(X @ w)\n",
    "        ydiff = y-g  # get y difference\n",
    "        # convert ydiff to a NumPy array\n",
    "        ydiff = np.array(ydiff)\n",
    "        gradient = np.mean(X * ydiff[:, np.newaxis], axis=0)\n",
    "        gradient = gradient.reshape(w.shape)\n",
    "        gradient[1:] += -2 * w[1:] * C\n",
    "        return -gradient\n",
    "\n",
    "    # just overwrite fit function\n",
    "    def fit(self, X, y):\n",
    "        Xb = self._add_bias(X)  # add bias term\n",
    "        num_samples, num_features = Xb.shape\n",
    "\n",
    "        self.w_ = fmin_bfgs(self.objective_function,  # what to optimize\n",
    "                            np.zeros((num_features, 1)),  # starting point\n",
    "                            fprime=self.objective_gradient,  # gradient function\n",
    "                            # extra args for gradient and objective function\n",
    "                            args=(Xb, y, self.C),\n",
    "                            gtol=1e-03,  # stopping criteria for gradient, |v_k|\n",
    "                            maxiter=self.iters,  # stopping criteria iterations\n",
    "                            disp=False)\n",
    "\n",
    "        self.w_ = self.w_.reshape((num_features, 1))\n",
    "\n",
    "\n",
    "# note that we need only a few iterations here\n",
    "bfgslr = BFGSBinaryLogisticRegression(_, iterations=3, C=0.001)\n",
    "\n",
    "bfgslr.fit(X_train, y_train)\n",
    "yhat = bfgslr.predict(X_test)\n",
    "print(bfgslr)\n",
    "print('Accuracy of: ', accuracy_score(y_test,yhat))"
   ]
  },
  {
   "cell_type": "code",
   "execution_count": 24,
   "metadata": {},
   "outputs": [],
   "source": [
    "class MultiClassLogisticRegression:\n",
    "    def __init__(self, eta, iterations=20,\n",
    "                 C=0.0001,\n",
    "                 solver=BFGSBinaryLogisticRegression):\n",
    "        self.eta = eta\n",
    "        self.iters = iterations\n",
    "        self.C = C\n",
    "        self.solver = solver\n",
    "        self.classifiers_ = []\n",
    "        # internally we will store the weights as self.w_ to keep with sklearn conventions\n",
    "\n",
    "    def __str__(self):\n",
    "        if (hasattr(self, 'w_')):\n",
    "            # is we have trained the object\n",
    "            return 'MultiClass Logistic Regression Object with coefficients:\\n' + str(self.w_)\n",
    "        else:\n",
    "            return 'Untrained MultiClass Logistic Regression Object'\n",
    "\n",
    "    def fit(self, X, y):\n",
    "        num_samples, num_features = X.shape\n",
    "        self.unique_ = np.sort(np.unique(y))  # get each unique class value\n",
    "        num_unique_classes = len(self.unique_)\n",
    "        self.classifiers_ = []\n",
    "        for i, yval in enumerate(self.unique_):  # for each unique value\n",
    "            y_binary = np.array(y == yval).astype(\n",
    "                int)  # create a binary problem\n",
    "            # train the binary classifier for this class\n",
    "\n",
    "            hblr = self.solver(eta=self.eta, iterations=self.iters, C=self.C)\n",
    "            hblr.fit(X, y_binary)\n",
    "\n",
    "            # add the trained classifier to the list\n",
    "            self.classifiers_.append(hblr)\n",
    "\n",
    "        # save all the weights into one matrix, separate column for each class\n",
    "        self.w_ = np.hstack([x.w_ for x in self.classifiers_]).T\n",
    "\n",
    "    def predict_proba(self, X):\n",
    "        probs = []\n",
    "        for hblr in self.classifiers_:\n",
    "            # get probability for each classifier\n",
    "            probs.append(hblr.predict_proba(X).reshape((len(X), 1)))\n",
    "\n",
    "        return np.hstack(probs)  # make into single matrix\n",
    "\n",
    "    def predict(self, X):\n",
    "        return self.unique_[np.argmax(self.predict_proba(X), axis=1)] # take argmax along row"
   ]
  },
  {
   "cell_type": "code",
   "execution_count": 25,
   "metadata": {},
   "outputs": [
    {
     "name": "stdout",
     "output_type": "stream",
     "text": [
      "MultiClass Logistic Regression Object with coefficients:\n",
      "[[-0.23801312 -0.10016086  1.00354372  1.7543245  -1.05701163  0.98820404\n",
      "   0.67876754 -0.05088131 -1.50072152]\n",
      " [ 0.23801312  0.10016086 -1.00354372 -1.7543245   1.05701163 -0.98820404\n",
      "  -0.67876754  0.05088131  1.50072152]]\n",
      "Accuracy of:  0.8332462101411395\n"
     ]
    }
   ],
   "source": [
    "# train the MultiClass classifier\n",
    "for train_indices, test_indices in split_indices:\n",
    "    X_train, y_train = pca_feature[train_indices], (labels[train_indices])\n",
    "    X_test, y_test = pca_feature[test_indices], (labels[test_indices])\n",
    "\n",
    "lr = MultiClassLogisticRegression(eta=1.0,\n",
    "                                  iterations=5,\n",
    "                                  C=0.001,\n",
    "                                  solver=HessianBinaryLogisticRegression\n",
    "                                  )\n",
    "lr.fit(X_train, y_train)\n",
    "print(lr)\n",
    "\n",
    "yhat = lr.predict(X_test)\n",
    "print('Accuracy of: ', accuracy_score(y_test, yhat))"
   ]
  },
  {
   "cell_type": "markdown",
   "metadata": {},
   "source": [
    "**Observation:**\n",
    "Accuracy improved from approximately 0.8 using the objective-oriented logistic function to approximately 0.833 after employing the Hessian optimization with SciPy."
   ]
  },
  {
   "cell_type": "markdown",
   "metadata": {},
   "source": [
    "### 2.2 Train your classifier to achieve good generalization performance. \n",
    "Ajust the optimization technique and the value of the regularization term(s) \"C\" to achieve the best performance on the test set.\n",
    "Visualize the performance of the classifier versus the parameters that is investigated.\n"
   ]
  },
  {
   "cell_type": "code",
   "execution_count": 26,
   "metadata": {},
   "outputs": [
    {
     "name": "stdout",
     "output_type": "stream",
     "text": [
      "C=0.001: Validation Accuracy=0.833\n",
      "C=0.0026826957952797246: Validation Accuracy=0.833\n",
      "C=0.0071968567300115215: Validation Accuracy=0.833\n",
      "C=0.019306977288832496: Validation Accuracy=0.833\n",
      "C=0.0517947467923121: Validation Accuracy=0.833\n",
      "C=0.13894954943731375: Validation Accuracy=0.833\n",
      "C=0.3727593720314938: Validation Accuracy=0.833\n",
      "C=1.0: Validation Accuracy=0.833\n",
      "C=2.6826957952797246: Validation Accuracy=0.835\n",
      "C=7.196856730011514: Validation Accuracy=0.834\n",
      "C=19.306977288832496: Validation Accuracy=0.833\n",
      "C=51.794746792312125: Validation Accuracy=0.613\n",
      "C=138.9495494373136: Validation Accuracy=0.631\n",
      "C=372.7593720314938: Validation Accuracy=0.710\n",
      "C=1000.0: Validation Accuracy=0.645\n",
      "Best C=2.6826957952797246: Test Set Accuracy=0.8348144276006273\n"
     ]
    }
   ],
   "source": [
    "for train_indices, test_indices in split_indices:\n",
    "    X_train, y_train = pca_feature[train_indices], (labels[train_indices])\n",
    "    X_test, y_test = pca_feature[test_indices], (labels[test_indices])\n",
    "\n",
    "# Set up the range of \"C\" values to explore\n",
    "C_vals = np.logspace(-3, 3, 15)  # from 0.001 to 1000\n",
    "best_accuracy = 0\n",
    "best_C = None\n",
    "accuracies = []  # List to store the accuracy for each value of C\n",
    "\n",
    "# Iterate over all values of C\n",
    "for C in C_vals:\n",
    "    lr = MultiClassLogisticRegression(eta=1.0,\n",
    "                                      iterations=5,\n",
    "                                      C=C,\n",
    "                                      solver=HessianBinaryLogisticRegression\n",
    "                                      )\n",
    "    lr.fit(X_train, y_train)\n",
    "    yhat = lr.predict(X_test)\n",
    "    accuracy = accuracy_score(y_test, yhat)\n",
    "    accuracies.append(accuracy)\n",
    "    print(f\"C={C}: Validation Accuracy={accuracy:.3f}\")\n",
    "\n",
    "    if accuracy > best_accuracy:\n",
    "        best_accuracy = accuracy\n",
    "        best_C = C\n",
    "        \n",
    "# Retrain the model using the best C value\n",
    "lr = MultiClassLogisticRegression(eta=1.0,\n",
    "                                  iterations=5,\n",
    "                                  C=best_C,\n",
    "                                  solver=HessianBinaryLogisticRegression\n",
    "                                  )\n",
    "lr.fit(X_train, y_train)\n",
    "yhat = lr.predict(X_test)\n",
    "final_accuracy = accuracy_score(y_test, yhat)\n",
    "print(f\"Best C={best_C}: Test Set Accuracy={final_accuracy}\")"
   ]
  },
  {
   "cell_type": "markdown",
   "metadata": {},
   "source": [
    "Visualize the performance of the classifier versus the \"C\" parameter"
   ]
  },
  {
   "cell_type": "code",
   "execution_count": 27,
   "metadata": {},
   "outputs": [
    {
     "data": {
      "image/png": "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",
      "text/plain": [
       "<Figure size 1000x600 with 1 Axes>"
      ]
     },
     "metadata": {},
     "output_type": "display_data"
    }
   ],
   "source": [
    "import matplotlib.pyplot as plt\n",
    "\n",
    "# Plot the accuracy vs C values\n",
    "plt.figure(figsize=(10, 6))\n",
    "plt.plot(C_vals, accuracies, marker='o', linestyle='-', color='b')\n",
    "plt.xscale('log') # Because C values are in log scale\n",
    "plt.title('Performance of the MultiClass Logistic Regression vs C value')\n",
    "plt.xlabel('C Value')\n",
    "plt.ylabel('Accuracy')\n",
    "plt.grid(True)\n",
    "plt.show()"
   ]
  },
  {
   "cell_type": "markdown",
   "metadata": {},
   "source": [
    "**Observation: **\n",
    "- **High Accuracy before one point of C value:** It can observed apparently from the visualization that the performance of the Multiclass Logistic Regression model maintained a consistently high accuracy (at a level of 0.833) for values of “C” ranging from 0.001 to around 10. This suggests that the model performance is good with a relatively smaller C value with more regularization but also looks like it benefits from a higher “C” which implies less regulation when C is increased to 10. \n",
    "- **Sharp Drop in Accuracy:** There is a sharp drop in accuracy as \"C\" increases beyond 10. This suggests that reducing regularization beyond a certain point (i.e., making \"C\" too large) leads to overfitting. The model starts to fit the noise in the training data, which harms its performance on the validation set.\n",
    "- **Variability at Very High \"C\" Values:** The variability in model performance at very high \"C\" values (from 10 to 100) indicates instability, likely due to overfitting. As \"C\" increases, the regularization effect diminishes, which might cause the model to capture noise and specific patterns of the training data that do not generalize well to unseen data.\n",
    "- **Optimal Range of \"C\":** The optimal range of \"C\" appears to be between approximately 0.001 and 10, where the model achieves the highest validation accuracy. This is the range we should consider for the best balance between bias and variance, leading to better generalization on unseen data.\n",
    "- **Choosing the Best \"C\":** Based on this graph, we should choose a \"C\" value within the range where the model maintains high accuracy before the sharp drop. This ensures the model is regularized appropriately to generalize well without overfitting.\n",
    "\n",
    "In conclusion, to achieve the best generalization performance on unseen data, we should select a \"C\" value within the optimal range identified above.\n"
   ]
  },
  {
   "cell_type": "markdown",
   "metadata": {},
   "source": [
    "#### Questions:\n",
    "**Is your method of selecting parameters justified?**\n",
    "- The method of selecting parameters should be justified based on whether it allows for the generalization of the model to unseen data without introducing bias or overfitting. From the practices we conducted, there appears to be a methodical approach to tuning parameters, which is a good practice. \n",
    "- The careful selection of the \"C\" parameter, as executed, shows an awareness of the balance between bias and variance, which is crucial for model generalization. The observation that there is an optimal range for \"C\" and that going beyond this range leads to overfitting is an important insight that suggests a thoughtful approach to parameter tuning.\n",
    "\n",
    "\n",
    "**That is, do you think there is any \"data snooping\" involved with this method of selecting parameters?**\n",
    "- The concept of \"data snooping\" refers to the practice of using the same dataset to both tune the parameters of a model and evaluate its performance. If the parameter selection is heavily influenced by the specifics of the test data, this could lead to overfitting and less generalizable results.\n",
    "The use of cross-validation is a good defense against data snooping because it ensures that multiple subsets of the data are used for training and validation. This process helps to verify that any performance improvements from parameter tuning are likely to generalize to unseen data. Since we applied cross-validation and observed consistent model performance across different datasets, it suggests cross-validation is used appropriately to assess model performance across different subsets of data. It idicates our approach to parameter selection is less likely to suffer from data snooping, assuming cross-validation was done correctly and independently from the test set.\n",
    "\n",
    "\n",
    "The consistent performance of our multiclass classifier across datasets with dimensionality reduction (PCA) and across different folds in cross-validation indicates that our model generalizes well and is not overfitting to the training data. Datasets used for parameter tuning were separate from the final test set and the cross-validation was conducted properly.\n",
    "\n",
    "This suggests that the parameter selection process, in this case, is likely justified and not a result of data snooping."
   ]
  },
  {
   "cell_type": "markdown",
   "metadata": {},
   "source": [
    "### 2.3 Performance Comparison with Scikit-learn"
   ]
  },
  {
   "cell_type": "code",
   "execution_count": 28,
   "metadata": {},
   "outputs": [
    {
     "name": "stdout",
     "output_type": "stream",
     "text": [
      "[[ 0.23697413  0.09992083 -1.00092125 -1.74918855  1.05353977 -0.98484111\n",
      "  -0.67578183  0.05062958  1.49264595]]\n",
      "Accuracy of SciKit Learn: 0.8332462101411395\n",
      "CPU times: user 76.2 ms, sys: 11.1 ms, total: 87.3 ms\n",
      "Wall time: 14.2 ms\n"
     ]
    }
   ],
   "source": [
    "%%time\n",
    "from sklearn.linear_model import LogisticRegression as SKLogisticRegression\n",
    "lr_sk = SKLogisticRegression(max_iter=1000) # all params default\n",
    "lr_sk.fit(X_train,y_train)\n",
    "print(np.hstack((lr_sk.intercept_[:,np.newaxis],lr_sk.coef_)))\n",
    "yhat = lr_sk.predict(X_test)\n",
    "\n",
    "accuracy = accuracy_score(y_test, yhat)\n",
    "\n",
    "print(\"Accuracy of SciKit Learn:\", accuracy)"
   ]
  },
  {
   "cell_type": "code",
   "execution_count": 37,
   "metadata": {},
   "outputs": [
    {
     "name": "stdout",
     "output_type": "stream",
     "text": [
      "MultiClass Logistic Regression Object with coefficients:\n",
      "[[-0.23255028 -0.09890698  0.98980971  1.72742943 -1.03881455  0.97058076\n",
      "   0.66317249 -0.04970248 -1.45872832]\n",
      " [ 0.23255028  0.09890698 -0.98980971 -1.72742943  1.03881455 -0.97058076\n",
      "  -0.66317249  0.04970248  1.45872832]]\n",
      "Accuracy of Multiclass Logistic Regression with Hessian:  0.8348144276006273\n",
      "CPU times: user 11.5 s, sys: 4.09 s, total: 15.6 s\n",
      "Wall time: 2.38 s\n"
     ]
    }
   ],
   "source": [
    "%%time\n",
    "lr = MultiClassLogisticRegression(eta=1.0,\n",
    "                                  iterations=5,\n",
    "                                  C=2.68269,\n",
    "                                  solver=HessianBinaryLogisticRegression\n",
    "                                  )\n",
    "lr.fit(X_train, y_train)\n",
    "print(lr)\n",
    "\n",
    "yhat = lr.predict(X_test)\n",
    "print('Accuracy of Multiclass Logistic Regression with Hessian: ', accuracy_score(y_test, yhat))"
   ]
  },
  {
   "cell_type": "code",
   "execution_count": 38,
   "metadata": {},
   "outputs": [
    {
     "data": {
      "image/png": "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",
      "text/plain": [
       "<Figure size 1000x600 with 1 Axes>"
      ]
     },
     "metadata": {},
     "output_type": "display_data"
    }
   ],
   "source": [
    "import numpy as np\n",
    "import matplotlib.pyplot as plt\n",
    "\n",
    "# Define the data\n",
    "labels = ['Custom Implementation', 'Scikit-Learn']\n",
    "training_times = [15.6, 0.873]  # Custom implementation, scikit-learn\n",
    "accuracies = [0.8348, 0.8332]  # Custom implementation, scikit-learn\n",
    "\n",
    "x = np.arange(len(labels))  # the label locations\n",
    "width = 0.35  # the width of the bars\n",
    "\n",
    "fig, ax = plt.subplots(figsize=(10, 6))\n",
    "\n",
    "# Plot training times\n",
    "rects1 = ax.bar(x - width/2, training_times, width, label='Training Time', color='blue')\n",
    "\n",
    "# Plot accuracies\n",
    "rects2 = ax.bar(x + width/2, accuracies, width, label='Accuracy', color='green')\n",
    "\n",
    "# Add labels, title, and legend\n",
    "ax.set_xlabel('Implementation')\n",
    "ax.set_ylabel('Value')\n",
    "ax.set_title('Comparison between Custom Implementation and Scikit-Learn')\n",
    "ax.set_xticks(x)\n",
    "ax.set_xticklabels(labels)\n",
    "ax.legend()\n",
    "\n",
    "# Add value labels on top of the bars\n",
    "def add_value_labels(ax, rects):\n",
    "    for rect in rects:\n",
    "        height = rect.get_height()\n",
    "        ax.annotate('{}'.format(height),\n",
    "                    xy=(rect.get_x() + rect.get_width() / 2, height),\n",
    "                    xytext=(0, 3),  # 3 points vertical offset\n",
    "                    textcoords=\"offset points\",\n",
    "                    ha='center', va='bottom')\n",
    "\n",
    "add_value_labels(ax, rects1)\n",
    "add_value_labels(ax, rects2)\n",
    "\n",
    "plt.show()"
   ]
  },
  {
   "cell_type": "markdown",
   "metadata": {},
   "source": [
    "Scikit-learn's logistic regression is multitudes faster (0.873 ms) then our best custom regression optimization techniques (15.6 s). Both have relatively good accuracy at ~0.83."
   ]
  },
  {
   "cell_type": "markdown",
   "metadata": {},
   "source": [
    "## 3. Deployment\n",
    "\n",
    "Since we are utilizing this data to predict a body's performance and tailor to someone's personal training needs, a robust and well-tested model must be utilized. Therefore, we recommend utilizing scikit-learn's logistic regression model. Not only does it have great optimization techniques, it is well established and would create an easier pipeline in the machine learning algorithims, leading to less numerical instabilities or maintenance issues down the line. "
   ]
  },
  {
   "cell_type": "markdown",
   "metadata": {},
   "source": [
    "## 4. Exceptional Work\n",
    "\n",
    "### Mean Squared Error (MSE) Approach \n",
    "\n",
    "In logistic regression, the Mean Squared Error (MSE) approach minimizes the squared difference between predicted probabilities and actual labels.\n",
    "\n",
    "$$\n",
    "\\text{MSE} = \\frac{1}{N} \\sum_{i=1}^{N} (y_i - \\hat{y}_i)^2\n",
    "$$\n",
    "\n",
    "The gradient of the MSE loss with respect to the weights is computed as:\n",
    "\n",
    "$$\n",
    "\\nabla l(\\mathbf{w}) = \\frac{1}{N} \\mathbf{X}^T (\\mathbf{y} - \\hat{\\mathbf{y}})\n",
    "$$\n",
    "\n",
    "where:\n",
    "- $\\mathbf{X}$ is the design matrix\n",
    "- $\\mathbf{y}$ is the true labels\n",
    "- $\\hat{\\mathbf{y}}$ is the predicted labels\n",
    "\n",
    "We compute the gradient of the MSE loss function with respect to the model parameters and update the parameters iteratively until convergence.\n"
   ]
  },
  {
   "cell_type": "code",
   "execution_count": 31,
   "metadata": {},
   "outputs": [],
   "source": [
    "class LogisticRegressionMSE:\n",
    "    def __init__(self, eta, C=1.0, iterations=20):\n",
    "        self.eta = eta\n",
    "        self.C = C  # Regularization parameter\n",
    "        self.iters = iterations\n",
    "        self.weights = None  # Initialize weights\n",
    "        \n",
    "    def fit(self, X, y):\n",
    "        num_samples, num_features = X.shape\n",
    "        self.w_ = np.zeros((num_features + 1, 1))\n",
    "        X = np.c_[np.ones((num_samples, 1)), X]  # Add intercept\n",
    "        \n",
    "        for _ in range(self.iters):\n",
    "            y_pred = self._sigmoid(X @ self.w_)\n",
    "            y_pred = y_pred.flatten()\n",
    "            gradient = X.T @ (y_pred - y) / num_samples\n",
    "            hessian = X.T @ X / num_samples + np.diag([self.C] * (num_features + 1))  # Add regularization to Hessian\n",
    "            gradient = gradient.reshape(-1, 1) # Reshape gradient to ensure it's treated as a column vector\n",
    "            self.w_ -= self.eta * np.linalg.inv(hessian) @ gradient # Update the model parameters using Newton's method\n",
    "        \n",
    "        self.weights = self.w_  # Store weights\n",
    "    \n",
    "    def predict_proba(self, X):\n",
    "        X = np.c_[np.ones((X.shape[0], 1)), X]\n",
    "        return self._sigmoid(X @ self.w_)\n",
    "    \n",
    "    def predict(self, X):\n",
    "        probabilities = self.predict_proba(X)\n",
    "        return (probabilities >= 0.5).astype(int)\n",
    "    \n",
    "    def _sigmoid(self, z):\n",
    "        z_clipped = np.clip(z, -500, 500)\n",
    "        return 1 / (1 + np.exp(-z_clipped))\n"
   ]
  },
  {
   "cell_type": "code",
   "execution_count": 32,
   "metadata": {},
   "outputs": [
    {
     "name": "stdout",
     "output_type": "stream",
     "text": [
      "[[-0.00063576]\n",
      " [ 0.03126832]\n",
      " [-0.20711313]\n",
      " [-0.26349092]\n",
      " [ 0.11935669]\n",
      " [-0.08740166]\n",
      " [-0.04392327]\n",
      " [ 0.00611131]\n",
      " [ 0.07889322]]\n",
      "Accuracy of Logistic Regression MSE: 0.7992681651855724\n",
      "CPU times: user 39.9 ms, sys: 20.9 ms, total: 60.8 ms\n",
      "Wall time: 8.4 ms\n"
     ]
    }
   ],
   "source": [
    "%%time\n",
    "lr_mse = LogisticRegressionMSE(eta=1, C=2.68269, iterations=5)\n",
    "\n",
    "lr_mse.fit(X_train, y_train)\n",
    "y_pred = lr_mse.predict(X_test)\n",
    "print(np.vstack((lr_mse.weights[0], lr_mse.weights[1:])))\n",
    "accuracy = accuracy_score(y_test, y_pred)\n",
    "print(\"Accuracy of Logistic Regression MSE:\", accuracy)\n"
   ]
  },
  {
   "cell_type": "markdown",
   "metadata": {},
   "source": [
    "Now let's make a class with One Vs. Rest Multiclass with MSE"
   ]
  },
  {
   "cell_type": "code",
   "execution_count": 33,
   "metadata": {},
   "outputs": [],
   "source": [
    "class LogisticRegressionMSEOvR:\n",
    "    def __init__(self, eta, C=1.0, iterations=20):\n",
    "        self.eta = eta\n",
    "        self.C = C  # Regularization parameter\n",
    "        self.iters = iterations\n",
    "        self.classifiers = {}  # Dictionary to store binary classifiers\n",
    "        \n",
    "    def fit(self, X, y):\n",
    "        num_samples, num_features = X.shape\n",
    "        unique_classes = np.unique(y)\n",
    "        \n",
    "        for class_label in unique_classes:\n",
    "            y_binary = (y == class_label).astype(int)  # Convert to binary labels\n",
    "            classifier = LogisticRegressionMSE(self.eta, self.C, self.iters)  # Pass C parameter\n",
    "            classifier.fit(X, y_binary)\n",
    "            self.classifiers[class_label] = classifier\n",
    "    \n",
    "    def predict_proba(self, X):\n",
    "        num_samples = X.shape[0]\n",
    "        probabilities = np.zeros((num_samples, len(self.classifiers)))\n",
    "        \n",
    "        for i, (class_label, classifier) in enumerate(self.classifiers.items()):\n",
    "            probabilities[:, i] = classifier.predict_proba(X).flatten()\n",
    "        \n",
    "        return probabilities\n",
    "    \n",
    "    def predict(self, X):\n",
    "        probabilities = self.predict_proba(X)\n",
    "        return np.argmax(probabilities, axis=1)\n"
   ]
  },
  {
   "cell_type": "code",
   "execution_count": 34,
   "metadata": {},
   "outputs": [
    {
     "name": "stdout",
     "output_type": "stream",
     "text": [
      "[[ 0.00063576 -0.00063576]\n",
      " [-0.03126832  0.03126832]\n",
      " [ 0.20711313 -0.20711313]\n",
      " [ 0.26349092 -0.26349092]\n",
      " [-0.11935669  0.11935669]\n",
      " [ 0.08740166 -0.08740166]\n",
      " [ 0.04392327 -0.04392327]\n",
      " [-0.00611131  0.00611131]\n",
      " [-0.07889322  0.07889322]]\n",
      "Accuracy of Logistc Regression MSE One Over Rest: 0.7992681651855724\n",
      "CPU times: user 78.6 ms, sys: 26.3 ms, total: 105 ms\n",
      "Wall time: 14.2 ms\n"
     ]
    }
   ],
   "source": [
    "%%time\n",
    "lr_ovr = LogisticRegressionMSEOvR(eta=1, iterations=5, C=2.68269)\n",
    "lr_ovr.fit(X_train, y_train)\n",
    "y_pred = lr_ovr.predict(X_test)\n",
    "weights_stacked = np.hstack([lr_ovr.classifiers[class_label].weights for class_label in lr_ovr.classifiers])\n",
    "print(weights_stacked)\n",
    "accuracy = accuracy_score(y_test, y_pred)\n",
    "print(\"Accuracy of Logistc Regression MSE One Over Rest:\", accuracy)"
   ]
  },
  {
   "cell_type": "code",
   "execution_count": 36,
   "metadata": {},
   "outputs": [
    {
     "name": "stdout",
     "output_type": "stream",
     "text": [
      "MultiClass Logistic Regression Object with coefficients:\n",
      "[[-0.23255028 -0.09890698  0.98980971  1.72742943 -1.03881455  0.97058076\n",
      "   0.66317249 -0.04970248 -1.45872832]\n",
      " [ 0.23255028  0.09890698 -0.98980971 -1.72742943  1.03881455 -0.97058076\n",
      "  -0.66317249  0.04970248  1.45872832]]\n",
      "Accuracy of Multiclass Logistic Regression with Hessian:  0.8348144276006273\n",
      "CPU times: user 9.8 s, sys: 3.9 s, total: 13.7 s\n",
      "Wall time: 2.08 s\n"
     ]
    }
   ],
   "source": [
    "%%time\n",
    "lr = MultiClassLogisticRegression(eta=1.0,\n",
    "                                  iterations=5,\n",
    "                                  C=2.68269,\n",
    "                                  solver=HessianBinaryLogisticRegression\n",
    "                                  )\n",
    "lr.fit(X_train, y_train)\n",
    "print(lr)\n",
    "\n",
    "yhat = lr.predict(X_test)\n",
    "print('Accuracy of Multiclass Logistic Regression with Hessian: ', accuracy_score(y_test, yhat))\n"
   ]
  },
  {
   "cell_type": "markdown",
   "metadata": {},
   "source": [
    "Between maxiumum likelihood estimation (MLE) and mean-squared error (MSE), we prefer MLE, due to it's ability to find the parameter values that make our model's predictions match the observed outcomes as closely as possible, as shown with the accuracy of ~0.80 for both binary logistic regression and multiclass logistic regression with MSE, and 0.83 accuracy for the multiclass logistic regression utilizing MLE. "
   ]
  },
  {
   "cell_type": "markdown",
   "metadata": {},
   "source": [
    "## 2. Modeling\n",
    "\n",
    "#### 2.1 \n",
    "Create a custom, one-versus-all logistic regression classifier using numpy and scipy to optimize. Ability to choose optimization technique when class is instantiated.\n",
    "Update the gradient calculation to include a customizable regularization term."
   ]
  },
  {
   "cell_type": "code",
   "execution_count": 35,
   "metadata": {},
   "outputs": [
    {
     "name": "stdout",
     "output_type": "stream",
     "text": [
      "Base Binary Logistic Regression Object, Not Trainable\n"
     ]
    }
   ],
   "source": [
    "import numpy as np\n",
    "\n",
    "\n",
    "class BinaryLogisticRegressionBase:\n",
    "    # private:\n",
    "    def __init__(self, eta, iterations=20):\n",
    "        self.eta = eta\n",
    "        self.iters = iterations\n",
    "        # internally we will store the weights as self.w_ to keep with sklearn conventions\n",
    "\n",
    "    def __str__(self):\n",
    "        return 'Base Binary Logistic Regression Object, Not Trainable'\n",
    "\n",
    "    # convenience, private and static:\n",
    "    @staticmethod\n",
    "    def _sigmoid(theta):\n",
    "        return 1/(1+np.exp(-theta))\n",
    "\n",
    "    @staticmethod\n",
    "    def _add_intercept(X):\n",
    "        return np.hstack((np.ones((X.shape[0], 1)), X))  # add bias term\n",
    "\n",
    "    # public:\n",
    "    def predict_proba(self, X, add_intercept=True):\n",
    "        # add bias term if requested\n",
    "        Xb = self._add_intercept(X) if add_intercept else X\n",
    "        return self._sigmoid(Xb @ self.w_)  # return the probability y=1\n",
    "\n",
    "    def predict(self, X):\n",
    "        return (self.predict_proba(X) > 0.5)  # return the actual prediction\n",
    "\n",
    "\n",
    "blr = BinaryLogisticRegressionBase(0.1)\n",
    "print(blr)"
   ]
  },
  {
   "cell_type": "code",
   "execution_count": 36,
   "metadata": {},
   "outputs": [
    {
     "name": "stdout",
     "output_type": "stream",
     "text": [
      "Untrained Binary Logistic Regression Object\n"
     ]
    }
   ],
   "source": [
    "# inherit from base class\n",
    "class BinaryLogisticRegression(BinaryLogisticRegressionBase):\n",
    "    # private:\n",
    "    def __str__(self):\n",
    "        if (hasattr(self, 'w_')):\n",
    "            # is we have trained the object\n",
    "            return 'Binary Logistic Regression Object with coefficients:\\n' + str(self.w_)\n",
    "        else:\n",
    "            return 'Untrained Binary Logistic Regression Object'\n",
    "\n",
    "    def _get_gradient(self, X, y):\n",
    "        # programming \\sum_i (yi-g(xi))xi\n",
    "        gradient = np.zeros(self.w_.shape)  # set gradient to zero\n",
    "        for (xi, yi) in zip(X, y):\n",
    "            # the actual update inside of sum\n",
    "            gradi = (yi - self.predict_proba(xi, add_intercept=False))*xi\n",
    "            # reshape to be column vector and add to gradient\n",
    "            gradient += gradi.reshape(self.w_.shape)\n",
    "\n",
    "        return gradient/float(len(y))\n",
    "\n",
    "    # public:\n",
    "    def fit(self, X, y):\n",
    "        Xb = self._add_intercept(X)  # add bias term\n",
    "        num_samples, num_features = Xb.shape\n",
    "\n",
    "        self.w_ = np.zeros((num_features, 1))  # init weight vector to zeros\n",
    "\n",
    "        # for as many as the max iterations\n",
    "        for _ in range(self.iters):\n",
    "            gradient = self._get_gradient(Xb, y)\n",
    "            self.w_ += gradient*self.eta  # multiply by learning rate\n",
    "\n",
    "\n",
    "blr = BinaryLogisticRegression(0.1)\n",
    "print(blr)"
   ]
  },
  {
   "cell_type": "code",
   "execution_count": 37,
   "metadata": {},
   "outputs": [
    {
     "name": "stdout",
     "output_type": "stream",
     "text": [
      "Binary Logistic Regression Object with coefficients:\n",
      "[[ 0.00109463]\n",
      " [-0.00322765]\n",
      " [ 0.03427808]\n",
      " [ 0.08486472]\n",
      " [ 0.11756695]\n",
      " [ 0.0183248 ]\n",
      " [ 0.00110716]\n",
      " [-0.05532021]\n",
      " [-0.25294986]\n",
      " [-0.17958845]\n",
      " [-0.0943051 ]\n",
      " [-0.0414957 ]\n",
      " [ 0.0414957 ]]\n",
      "Accuracy of using original dataset:  0.7771556550951848\n",
      "=====================================\n",
      "Binary Logistic Regression Object with coefficients:\n",
      "[[ 0.00109317]\n",
      " [ 0.04458127]\n",
      " [-0.2252972 ]\n",
      " [-0.2473322 ]\n",
      " [ 0.10332196]\n",
      " [-0.07203594]\n",
      " [-0.03337148]\n",
      " [ 0.00718589]\n",
      " [ 0.0548416 ]]\n",
      "Accuracy of using PCA dataset:  0.7771556550951848\n",
      "=====================================\n"
     ]
    }
   ],
   "source": [
    "# Train and test the model using datasets using different feature engineering methods to verify performance improvement\n",
    "\n",
    "# # Use original data\n",
    "X_train, X_test, y_train, y_test = train_test_split(features, labels>1, train_size=0.8, test_size=0.2, random_state=42)\n",
    "\n",
    "blr = BinaryLogisticRegression(eta=0.1, iterations=12)\n",
    "blr.fit(X_train, y_train)\n",
    "print(blr)\n",
    "\n",
    "yhat = blr.predict(X_test)\n",
    "print('Accuracy of using original dataset: ', accuracy_score(y_test, yhat))\n",
    "print(\"=====================================\")\n",
    "\n",
    "\n",
    "# Use PCA data without cross validation\n",
    "X_train, X_test, y_train, y_test = train_test_split(pca_feature, labels>1, train_size=0.8, test_size=0.2, random_state=42)\n",
    "\n",
    "blr = BinaryLogisticRegression(eta=0.1, iterations=12)\n",
    "blr.fit(X_train, y_train)\n",
    "print(blr)\n",
    "\n",
    "yhat = blr.predict(X_test)\n",
    "print('Accuracy of using PCA dataset: ', accuracy_score(y_test, yhat))\n",
    "print(\"=====================================\")\n",
    "\n"
   ]
  },
  {
   "cell_type": "code",
   "execution_count": 38,
   "metadata": {},
   "outputs": [
    {
     "name": "stdout",
     "output_type": "stream",
     "text": [
      "Binary Logistic Regression Object with coefficients:\n",
      "[[ 0.0171976 ]\n",
      " [-0.13503079]\n",
      " [ 0.12261499]\n",
      " [ 0.21883226]\n",
      " [ 0.26064048]\n",
      " [ 0.02528584]\n",
      " [-0.03388647]\n",
      " [-0.16337931]\n",
      " [-0.68768268]\n",
      " [-0.47088493]\n",
      " [-0.21516643]\n",
      " [-0.13099775]\n",
      " [ 0.13099775]]\n",
      "Accuracy of using original dataset:  0.7973124300111982\n",
      "=====================================\n",
      "Binary Logistic Regression Object with coefficients:\n",
      "[[ 0.01711285]\n",
      " [ 0.06151229]\n",
      " [-0.50023012]\n",
      " [-0.68692673]\n",
      " [ 0.32376052]\n",
      " [-0.24934156]\n",
      " [-0.12075615]\n",
      " [ 0.0245485 ]\n",
      " [ 0.2028872 ]]\n",
      "Accuracy of using PCA dataset:  0.799552071668533\n",
      "=====================================\n"
     ]
    }
   ],
   "source": [
    "# Train the classifier with more iterations to check if the accuracy improves\n",
    "params = dict(eta=0.01,\n",
    "              iterations=500)\n",
    "\n",
    "\n",
    "# Use original data\n",
    "X_train, X_test, y_train, y_test = train_test_split(features, labels > 1, train_size=0.8, test_size=0.2, random_state=42)\n",
    "\n",
    "blr = BinaryLogisticRegression(**params)\n",
    "blr.fit(X_train, y_train)\n",
    "print(blr)\n",
    "\n",
    "yhat = blr.predict(X_test)\n",
    "print('Accuracy of using original dataset: ', accuracy_score(y_test, yhat))\n",
    "print(\"=====================================\")\n",
    "\n",
    "\n",
    "# Use PCA data without cross validation\n",
    "\n",
    "X_train, X_test, y_train, y_test = train_test_split(pca_feature, labels > 1, train_size=0.8, test_size=0.2, random_state=42)\n",
    "\n",
    "blr = BinaryLogisticRegression(**params)\n",
    "blr.fit(X_train, y_train)\n",
    "print(blr)\n",
    "\n",
    "yhat = blr.predict(X_test)\n",
    "print('Accuracy of using PCA dataset: ', accuracy_score(y_test, yhat))\n",
    "print(\"=====================================\")"
   ]
  },
  {
   "cell_type": "markdown",
   "metadata": {},
   "source": [
    "**Observation**:\n",
    "- The Binary Classification Model performs a similar level of accuracy when using the original dataset versus using a dataset that has undergone PCA (Principal Component Analysis). It means the principal components retained capture most of the variance and the essential characteristics crucial for effective classification.\n",
    "\n",
    "- The accuracy improved after tuning the hyperparameter of interaction with an increased value for all datasets.\n",
    "\n",
    "- It was also observed that as the interaction level was raised, the accuracy when using PCA-transformed data improved slightly compared to using the original data. This suggests that our dataset is likely to obtain better generalization for machine learning studies after applying Principal Component Analysis (PCA).\n",
    "\n",
    "- We will continue to experiment with this approach in the training of the multiclass classifier to determine whether using two different datasets impacts performance in a multiclass classification problem.\n"
   ]
  },
  {
   "cell_type": "markdown",
   "metadata": {},
   "source": [
    "Use numpy and scipy expit to optimize the Logistic Regression Function"
   ]
  },
  {
   "cell_type": "code",
   "execution_count": 39,
   "metadata": {},
   "outputs": [],
   "source": [
    "# Vectorized Programming for Logistic Regression\n",
    "import numpy as np\n",
    "from scipy.special import expit\n",
    "\n",
    "class VectorBinaryLogisticRegression(BinaryLogisticRegression):\n",
    "    # inherit from our previous class to get same functionality\n",
    "    @staticmethod\n",
    "    def _sigmoid(theta):\n",
    "        # increase stability using expit which is more stable\n",
    "        return expit(theta)  # 1/(1+np.exp(-theta))\n",
    "\n",
    "    # overwrite the gradient calculation\n",
    "    def _get_gradient(self, X, y):\n",
    "        # get y difference\n",
    "        ydiff = y-self.predict_proba(X, add_intercept=False).ravel()\n",
    "            # convert ydiff to a NumPy array\n",
    "        ydiff = np.array(ydiff)\n",
    "        # make ydiff a column vector and multiply through\n",
    "        gradient = np.mean(X * ydiff[:, np.newaxis], axis=0)\n",
    "\n",
    "        return gradient.reshape(self.w_.shape)\n"
   ]
  },
  {
   "cell_type": "markdown",
   "metadata": {},
   "source": [
    "One-versus-all to program a Multicalss Logistic Regression"
   ]
  },
  {
   "cell_type": "code",
   "execution_count": 40,
   "metadata": {},
   "outputs": [
    {
     "name": "stdout",
     "output_type": "stream",
     "text": [
      "Untrained MultiClass Logistic Regression Object\n"
     ]
    }
   ],
   "source": [
    "class LogisticRegression:\n",
    "    def __init__(self, eta, iterations=20):\n",
    "        self.eta = eta\n",
    "        self.iters = iterations\n",
    "\n",
    "    def __str__(self):\n",
    "        if (hasattr(self, 'w_')):\n",
    "            # is we have trained the object\n",
    "            return 'MultiClass Logistic Regression Object with coefficients:\\n' + str(self.w_)\n",
    "        else:\n",
    "            return 'Untrained MultiClass Logistic Regression Object'\n",
    "\n",
    "    def fit(self, X, y):\n",
    "        num_samples, num_features = X.shape\n",
    "        self.unique_ = np.unique(y)  # get each unique class value\n",
    "        num_unique_classes = len(self.unique_)\n",
    "        self.classifiers_ = []  # will fill this array with binary classifiers\n",
    "\n",
    "        for i, yval in enumerate(self.unique_):  # for each unique value\n",
    "            y_binary = (y == yval)  # create a binary problem\n",
    "            # train the binary classifier for this class\n",
    "            blr = VectorBinaryLogisticRegression(self.eta,\n",
    "                                                 self.iters)\n",
    "            blr.fit(X, y_binary)\n",
    "            # add the trained classifier to the list\n",
    "            self.classifiers_.append(blr)\n",
    "\n",
    "        # save all the weights into one matrix, separate column for each class\n",
    "        self.w_ = np.hstack([x.w_ for x in self.classifiers_]).T\n",
    "\n",
    "    def predict_proba(self, X):\n",
    "        probs = []\n",
    "        for blr in self.classifiers_:\n",
    "            # get probability for each classifier\n",
    "            probs.append(blr.predict_proba(X))\n",
    "\n",
    "        return np.hstack(probs)  # make into single matrix\n",
    "\n",
    "    def predict(self, X):\n",
    "        # take argmax along row\n",
    "        return self.unique_[np.argmax(self.predict_proba(X), axis=1)]\n",
    "\n",
    "\n",
    "lr = LogisticRegression(0.1, 1500)\n",
    "print(lr)"
   ]
  },
  {
   "cell_type": "code",
   "execution_count": 41,
   "metadata": {},
   "outputs": [
    {
     "name": "stdout",
     "output_type": "stream",
     "text": [
      "MultiClass Logistic Regression Object with coefficients:\n",
      "[[-1.91801958  0.74968078 -0.22944868 -0.43992261 -0.29939116 -0.05469933\n",
      "   0.03717653  0.62296605  1.34802534  1.21206523  0.50374463  0.47796967\n",
      "  -0.47796967]\n",
      " [-1.17104521  0.22776819 -0.01004329 -0.17018946 -0.03079478 -0.05262035\n",
      "   0.0661083   0.10525525  0.39972543  0.28677999  0.02924323 -0.01998878\n",
      "   0.01998878]\n",
      " [-1.11820814 -0.15931746  0.27084148 -0.27182703 -0.12156112  0.01318999\n",
      "  -0.01738208 -0.18422125 -0.00943049 -0.24709648 -0.19896711 -0.20597979\n",
      "   0.20597979]\n",
      " [-1.81588694 -0.72759273  0.03423097  0.78949416  0.63400521  0.0983367\n",
      "  -0.05746709 -0.44685188 -1.47840601 -1.25980602 -0.27719258 -0.2579491\n",
      "   0.2579491 ]]\n",
      "Accuracy of using original dataset:  0.5882792086599478\n",
      "=====================================\n",
      "MultiClass Logistic Regression Object with coefficients:\n",
      "[[-1.91117084 -0.05689814  0.88899762  1.43258541 -0.7386978   0.77344192\n",
      "   0.41363663 -0.03615732 -0.94269326]\n",
      " [-1.16938649 -0.04266054  0.1559793   0.34211662 -0.27473308  0.22008424\n",
      "   0.12911446 -0.05123151 -0.12949785]\n",
      " [-1.11389306 -0.01333789 -0.00936092 -0.11989903 -0.10761596 -0.21031853\n",
      "  -0.30231019  0.04263114  0.33249252]\n",
      " [-1.82524699  0.13621398 -1.04630946 -1.49579238  1.09922858 -0.53655582\n",
      "  -0.20292242  0.06865908  0.80439719]]\n",
      "Accuracy of using PCA dataset:  0.5890257558790594\n",
      "=====================================\n"
     ]
    }
   ],
   "source": [
    "# Train and test the multiclassifer model using datasets using different feature engineering methods to verify performance improvement\n",
    "\n",
    "# Use original data\n",
    "X_train, X_test, y_train, y_test = train_test_split(features, labels, train_size=0.8, test_size=0.2, random_state=42)\n",
    "\n",
    "blr = LogisticRegression(0.1, 500)\n",
    "blr.fit(X_train, y_train)\n",
    "print(blr)\n",
    "\n",
    "yhat = blr.predict(X_test)\n",
    "print('Accuracy of using original dataset: ', accuracy_score(y_test, yhat))\n",
    "print(\"=====================================\")\n",
    "\n",
    "\n",
    "# Use PCA data \n",
    "\n",
    "X_train, X_test, y_train, y_test = train_test_split(pca_feature, labels, train_size=0.8, test_size=0.2, random_state=42)\n",
    "\n",
    "blr = LogisticRegression(0.1, 500)\n",
    "blr.fit(X_train, y_train)\n",
    "print(blr)\n",
    "\n",
    "yhat = blr.predict(X_test)\n",
    "print('Accuracy of using PCA dataset: ', accuracy_score(y_test, yhat))\n",
    "print(\"=====================================\")"
   ]
  },
  {
   "cell_type": "markdown",
   "metadata": {},
   "source": [
    "**Observation:** \n",
    "- The multiclass classifier maintains a similar level of accuracy across both the original and the PCA-transformed datasets. This further confirms that the principal components retained encapsulate the majority of the variance and the essential characteristics crucial for effective classification. Therefore, we will proceed with our analysis using the PCA-transformed data in the subsequent steps.\n",
    "- The consistent accuracy across various datasets suggests that the model generalizes well. However, the accuracy rate is approximately 0.58, which is considerably low. We will continue exploring ways to see if we can improve the model's accuracy.\n"
   ]
  },
  {
   "cell_type": "markdown",
   "metadata": {},
   "source": [
    "Logistic Regression Class Boundaries"
   ]
  },
  {
   "cell_type": "code",
   "execution_count": 60,
   "metadata": {},
   "outputs": [
    {
     "data": {
      "image/png": "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",
      "text/plain": [
       "<Figure size 640x480 with 1 Axes>"
      ]
     },
     "metadata": {},
     "output_type": "display_data"
    }
   ],
   "source": [
    "# linear boundaries visualization from sklearn documentation\n",
    "from matplotlib import pyplot as plt\n",
    "import copy\n",
    "%matplotlib inline\n",
    "plt.style.use('ggplot')\n",
    "\n",
    "def plot_decision_boundaries(lr,Xin,y,title=''):\n",
    "    Xb = copy.deepcopy(Xin)\n",
    "    lr.fit(Xb[:,:2],y) # train only on two features\n",
    "\n",
    "    h=0.01\n",
    "    # create a mesh to plot in\n",
    "    x_min, x_max = Xb[:, 0].min() - 1, Xb[:, 0].max() + 1\n",
    "    y_min, y_max = Xb[:, 1].min() - 1, Xb[:, 1].max() + 1\n",
    "    xx, yy = np.meshgrid(np.arange(x_min, x_max, h),\n",
    "                         np.arange(y_min, y_max, h))\n",
    "\n",
    "    # get prediction values\n",
    "    Z = lr.predict(np.c_[xx.ravel(), yy.ravel()])\n",
    "\n",
    "    # Put the result into a color plot\n",
    "    Z = Z.reshape(xx.shape)\n",
    "    plt.contourf(xx, yy, Z, cmap=plt.cm.Paired, alpha=0.5)\n",
    "\n",
    "    # Plot also the training points\n",
    "    plt.scatter(Xb[:, 0], Xb[:, 1], c=y, cmap=plt.cm.Paired)\n",
    "    plt.xlabel('')\n",
    "    plt.ylabel('')\n",
    "    plt.xlim(xx.min(), xx.max())\n",
    "    plt.ylim(yy.min(), yy.max())\n",
    "    plt.xticks(())\n",
    "    plt.yticks(())\n",
    "    plt.title(title)\n",
    "    plt.show()\n",
    "    \n",
    "lr = LogisticRegression(0.1,1500) # OUR LR implementation\n",
    "plot_decision_boundaries(lr,pca_feature,labels,title='Decision Boundaries using PCA')"
   ]
  },
  {
   "cell_type": "markdown",
   "metadata": {},
   "source": [
    "Introduce the L2-Norm parameter into the objective function to maintain relatively small weight values, aiming to mitigate overfitting. Modify the objective function by incorporating a new summation term for the weights, which reduces their maximum values when the weights become large.\n",
    "\n",
    "To apply this theory, utilize C as the hyperparameter to balance the optimization of the previous function with the objective of maintaining small weights.\n"
   ]
  },
  {
   "cell_type": "code",
   "execution_count": 61,
   "metadata": {},
   "outputs": [],
   "source": [
    "class RegularizedBinaryLogisticRegression(VectorBinaryLogisticRegression):\n",
    "    # extend init functions\n",
    "    def __init__(self, C=0.0, **kwds):\n",
    "        # need to add to the original initializer\n",
    "        self.C = C\n",
    "        # but keep other keywords\n",
    "        super().__init__(**kwds)  # call parent initializer\n",
    "\n",
    "    # extend previous class to change functionality\n",
    "    def _get_gradient(self, X, y):\n",
    "        # call get gradient from previous class\n",
    "        gradient = super()._get_gradient(X, y)\n",
    "\n",
    "        # add in regularization (to all except bias term)\n",
    "        gradient[1:] += -2 * self.w_[1:] * self.C\n",
    "        return gradient"
   ]
  },
  {
   "cell_type": "code",
   "execution_count": 62,
   "metadata": {},
   "outputs": [],
   "source": [
    "# now redefine the Logistic Regression Function where needed\n",
    "class RegularizedLogisticRegression(LogisticRegression):\n",
    "    def __init__(self, C=0.0, **kwds):        \n",
    "        self.C = C\n",
    "        super().__init__(**kwds)\n",
    "        \n",
    "    def fit(self,X,y):\n",
    "        num_samples, num_features = X.shape\n",
    "        self.unique_ = np.unique(y) \n",
    "        num_unique_classes = len(self.unique_)\n",
    "        self.classifiers_ = [] # will fill this array with binary classifiers\n",
    "        \n",
    "        for i,yval in enumerate(self.unique_): # for each unique value\n",
    "            y_binary = y==yval # create a binary problem\n",
    "            blr = RegularizedBinaryLogisticRegression(eta=self.eta,\n",
    "                                                      iterations=self.iters,\n",
    "                                                      C=self.C)\n",
    "            blr.fit(X,y_binary)\n",
    "            # add the trained classifier to the list\n",
    "            self.classifiers_.append(blr)\n",
    "            \n",
    "        # save all the weights into one matrix, separate column for each class\n",
    "        # now redefine the Logistic Regression Function where needed\n",
    "        self.w_ = np.hstack([x.w_ for x in self.classifiers_]).T"
   ]
  },
  {
   "cell_type": "code",
   "execution_count": 63,
   "metadata": {},
   "outputs": [
    {
     "data": {
      "application/vnd.jupyter.widget-view+json": {
       "model_id": "967d67c45aa846c39d0cf9283e1917f4",
       "version_major": 2,
       "version_minor": 0
      },
      "text/plain": [
       "interactive(children=(IntSlider(value=7, description='cost_idx', max=14), Output()), _dom_classes=('widget-int…"
      ]
     },
     "metadata": {},
     "output_type": "display_data"
    },
    {
     "data": {
      "text/plain": [
       "<function __main__.lr_explor(cost_idx)>"
      ]
     },
     "execution_count": 63,
     "metadata": {},
     "output_type": "execute_result"
    }
   ],
   "source": [
    "from ipywidgets import widgets as wd\n",
    "\n",
    "cost_vals = np.logspace(-3, 1, 15) # 15 values from 0.001 to 10\n",
    "\n",
    "\n",
    "def lr_explor(cost_idx): \n",
    "    C = cost_vals[cost_idx]\n",
    "    lr_clf = RegularizedLogisticRegression(eta=0.1,\n",
    "                                           # lots of iterations (to help overfit)\n",
    "                                           iterations=2500,\n",
    "                                           C=C)  # get object\n",
    "\n",
    "    plot_decision_boundaries(lr_clf, pca_feature, labels, title=\"C=%.5f\" % (C))\n",
    "    plt.show()\n",
    "\n",
    "\n",
    "wd.interact(lr_explor, cost_idx=(0, 14, 1), __manual=True)\n",
    "\n",
    "# what happens when C gets too large??\n",
    "# let's explore the different values and see what happens"
   ]
  },
  {
   "cell_type": "markdown",
   "metadata": {},
   "source": [
    "###  Implemente optimization techniques\n",
    "- Use a line search along gradient direction to find the right value of eta\n",
    "    - Optimize eta, with all inputs constant\n",
    "    - Do line search in gradient direction, using scipy function\n",
    "    - Scipy minimize_scaler to optimize the obeject function, bounds and speed\n",
    "    - Get the optimal learning rate\n",
    "- Update the gradient calculation to include a customizable regularization term using L2 \n",
    " regularization. Set up **C** that can be adjusted when the class is instantiated.  \n",
    "- Recall: For logistic regression, the regularization term \"C\" plays a crucial role in controlling overfitting and underfitting as it controls how the gridents will move.\n",
    "\n",
    "- Experimenting with various solver methods— stochastic gradient ascent, and Newton's method—when the class is instantiated"
   ]
  },
  {
   "cell_type": "code",
   "execution_count": 64,
   "metadata": {},
   "outputs": [],
   "source": [
    "class BinaryLogisticRegression:\n",
    "    def __init__(self, eta, iterations=20, C=0.001):\n",
    "        self.eta = eta\n",
    "        self.iters = iterations\n",
    "        self.C = C\n",
    "        # internally we will store the weights as self.w_ to keep with sklearn conventions\n",
    "\n",
    "    def __str__(self):\n",
    "        if (hasattr(self, 'w_')):\n",
    "            return 'Binary Logistic Regression Object with coefficients:\\n' + str(self.w_)\n",
    "        else:\n",
    "            return 'Untrained Binary Logistic Regression Object'\n",
    "\n",
    "    # convenience, private:\n",
    "    @staticmethod\n",
    "    def _add_bias(X):\n",
    "        return np.hstack((np.ones((X.shape[0], 1)), X))  # add bias term\n",
    "\n",
    "    @staticmethod\n",
    "    def _sigmoid(theta):\n",
    "        # increase stability, redefine sigmoid operation\n",
    "        return expit(theta)  # 1/(1+np.exp(-theta))\n",
    "\n",
    "    # vectorized gradient calculation with regularization using L2 Norm\n",
    "    def _get_gradient(self, X, y):\n",
    "        # get y difference\n",
    "        ydiff = y-self.predict_proba(X, add_bias=False).ravel()\n",
    "        # convert ydiff to a NumPy array\n",
    "        ydiff = np.array(ydiff)\n",
    "        # make ydiff a column vector and multiply through\n",
    "        gradient = np.mean(X * ydiff[:, np.newaxis], axis=0)\n",
    "        gradient = gradient.reshape(self.w_.shape)\n",
    "        gradient[1:] += -2 * self.w_[1:] * self.C\n",
    "\n",
    "        return gradient\n",
    "\n",
    "    # public:\n",
    "    def predict_proba(self, X, add_bias=True):\n",
    "        # add bias term if requested\n",
    "        Xb = self._add_bias(X) if add_bias else X\n",
    "        return self._sigmoid(Xb @ self.w_)  # return the probability y=1\n",
    "\n",
    "    def predict(self, X):\n",
    "        return (self.predict_proba(X) > 0.5)  # return the actual prediction\n",
    "\n",
    "    def fit(self, X, y):\n",
    "        Xb = self._add_bias(X)  # add bias term\n",
    "        num_samples, num_features = Xb.shape\n",
    "\n",
    "        self.w_ = np.zeros((num_features, 1))  # init weight vector to zeros\n",
    "\n",
    "        # for as many as the max iterations\n",
    "        for _ in range(self.iters):\n",
    "            gradient = self._get_gradient(Xb, y)\n",
    "            self.w_ += gradient*self.eta  # multiply by learning rate\n",
    "            # add bacause maximizing\n",
    "\n"
   ]
  },
  {
   "cell_type": "code",
   "execution_count": 65,
   "metadata": {},
   "outputs": [
    {
     "name": "stdout",
     "output_type": "stream",
     "text": [
      "Binary Logistic Regression Object with coefficients:\n",
      "[[ 0.01708465]\n",
      " [ 0.06148686]\n",
      " [-0.50122078]\n",
      " [-0.68806271]\n",
      " [ 0.32399782]\n",
      " [-0.24921249]\n",
      " [-0.12053534]\n",
      " [ 0.02451663]\n",
      " [ 0.20238971]]\n",
      "Accuracy of:  0.7991787980589772\n",
      "Wall time: 74.4 ms\n"
     ]
    }
   ],
   "source": [
    "%%time\n",
    "# Use PCA data without cross validation\n",
    "\n",
    "X_train, X_test, y_train, y_test = train_test_split(\n",
    "    pca_feature, labels > 1, train_size=0.8, test_size=0.2, random_state=42)\n",
    "\n",
    "blr = BinaryLogisticRegression(eta=0.1, iterations=50, C=0.001)\n",
    "\n",
    "\n",
    "blr.fit(X_train, y_train)\n",
    "print(blr)\n",
    "\n",
    "yhat = blr.predict(X_test)\n",
    "\n",
    "print('Accuracy of: ', accuracy_score(y_test, yhat))"
   ]
  },
  {
   "cell_type": "code",
   "execution_count": 66,
   "metadata": {},
   "outputs": [
    {
     "name": "stdout",
     "output_type": "stream",
     "text": [
      "eta:  1.0\n",
      "Binary Logistic Regression Object with coefficients:\n",
      "[[ 0.10637941]\n",
      " [ 0.04375375]\n",
      " [-0.7485619 ]\n",
      " [-1.24122836]\n",
      " [ 0.67076075]\n",
      " [-0.56642281]\n",
      " [-0.28217899]\n",
      " [ 0.04729982]\n",
      " [ 0.4776516 ]]\n",
      "Accuracy of:  0.8167226577081\n",
      "Wall time: 103 ms\n"
     ]
    }
   ],
   "source": [
    "%%time\n",
    "#use a line search along the gradient direction:\n",
    "from scipy.optimize import minimize_scalar\n",
    "import copy\n",
    "# (masked array) this has most numpy functions that work with NaN data.\n",
    "from numpy import ma\n",
    "\n",
    "\n",
    "class LineSearchLogisticRegression(BinaryLogisticRegression):\n",
    "\n",
    "    # define custom line search for problem\n",
    "    def __init__(self, line_iters=0.0, **kwds):\n",
    "        self.line_iters = line_iters\n",
    "        # but keep other keywords\n",
    "        super().__init__(**kwds)  # call parent initializer\n",
    "\n",
    "    # this defines the function with the first input to be optimized\n",
    "    # therefore eta will be optimized, with all inputs constant\n",
    "    @staticmethod\n",
    "    def objective_function(eta, X, y, w, grad, C):\n",
    "        wnew = w - grad*eta\n",
    "        g = expit(X @ wnew)\n",
    "        # the line search is looking for minimization, so take the negative of l(w)\n",
    "        return -np.sum(ma.log(g[y == 1]))-ma.sum(ma.log(1-g[y == 0])) + C*sum(wnew**2)\n",
    "\n",
    "    def fit(self, X, y):\n",
    "        Xb = self._add_bias(X)  # add bias term\n",
    "        num_samples, num_features = Xb.shape\n",
    "\n",
    "        self.w_ = np.zeros((num_features, 1))  # init weight vector to zeros\n",
    "\n",
    "        # for as many as the max iterations\n",
    "        for _ in range(self.iters):\n",
    "            gradient = -self._get_gradient(Xb, y)\n",
    "            # minimization is in opposite direction\n",
    "\n",
    "            # do line search in gradient direction, using scipy function\n",
    "            # unclear exactly what this should be\n",
    "            opts = {'maxiter': self.line_iters}\n",
    "            res = minimize_scalar(self.objective_function,  # objective function to optimize\n",
    "                                  # bounds to optimize\n",
    "                                  bounds=(0, self.eta*10),\n",
    "                                  # additional argument for objective function\n",
    "                                  args=(Xb, y, self.w_, gradient, self.C),\n",
    "                                  method='bounded',  # bounded optimization for speed\n",
    "                                  options=opts)  # set max iterations\n",
    "\n",
    "            eta = res.x  # get optimal learning rate\n",
    "            self.w_ -= gradient*eta  # set new function values\n",
    "            # subtract to minimize\n",
    "\n",
    "\n",
    "lslr = LineSearchLogisticRegression(eta=1.0,\n",
    "                                    iterations=6,\n",
    "                                    line_iters=8,\n",
    "                                    C=0.001)\n",
    "\n",
    "lslr.fit(X_train, y_train)\n",
    "\n",
    "yhat = lslr.predict(X_test)\n",
    "print(\"eta: \", lslr.eta)\n",
    "print(lslr)\n",
    "print('Accuracy of: ', accuracy_score(y_test,yhat))         "
   ]
  },
  {
   "cell_type": "markdown",
   "metadata": {},
   "source": [
    "**Observation:** Performance has improved slightly after using Line Search, but not too much faster, mostly because $\\eta$ was chosen well in the initial example"
   ]
  },
  {
   "cell_type": "markdown",
   "metadata": {},
   "source": [
    "### Stochastic Gradient Descent\n",
    "When calculating the gradient becomes too computationally intensive with large datasets, we can approximate the gradient using a single instance, with the underlying theory supporting the notion that the steps may appear somewhat random"
   ]
  },
  {
   "cell_type": "code",
   "execution_count": 67,
   "metadata": {},
   "outputs": [
    {
     "name": "stdout",
     "output_type": "stream",
     "text": [
      "Binary Logistic Regression Object with coefficients:\n",
      "[[ 0.02710014]\n",
      " [ 0.06615381]\n",
      " [-0.38164494]\n",
      " [-0.50989686]\n",
      " [ 0.22286003]\n",
      " [-0.1546496 ]\n",
      " [-0.07087731]\n",
      " [ 0.01534709]\n",
      " [ 0.12334199]]\n",
      "Accuracy of:  0.7894736842105263\n"
     ]
    }
   ],
   "source": [
    "class StochasticLogisticRegression(BinaryLogisticRegression):\n",
    "    # stochastic gradient calculation\n",
    "    def _get_gradient(self, X, y):\n",
    "\n",
    "        # grab a subset of samples in a mini-batch\n",
    "        # and calculate the gradient according to the small batch only\n",
    "        mini_batch_size = 16\n",
    "        idxs = np.random.choice(len(y), mini_batch_size)\n",
    "\n",
    "        # get y difference (now scalar)\n",
    "        ydiff = y[idxs]-self.predict_proba(X[idxs], add_bias=False).ravel()\n",
    "        # convert ydiff to a NumPy array\n",
    "        ydiff = np.array(ydiff)\n",
    "        # make ydiff a column vector and multiply through\n",
    "        gradient = np.mean(X[idxs] * ydiff[:, np.newaxis], axis=0)\n",
    "\n",
    "        gradient = gradient.reshape(self.w_.shape)\n",
    "        gradient[1:] += -2 * self.w_[1:] * self.C\n",
    "\n",
    "        return gradient\n",
    "\n",
    "\n",
    "X_train, X_test, y_train, y_test = train_test_split(\n",
    "    pca_feature, labels > 1, train_size=0.8, test_size=0.2, random_state=42)\n",
    "\n",
    "slr = StochasticLogisticRegression(eta=0.01, iterations=300, C=0.001)  # take a lot more steps!!\n",
    "\n",
    "slr.fit(X_train, y_train.to_numpy())\n",
    "\n",
    "yhat = slr.predict(X_test)\n",
    "print(slr)\n",
    "print('Accuracy of: ', accuracy_score(y_test,yhat))      \n"
   ]
  },
  {
   "cell_type": "markdown",
   "metadata": {},
   "source": [
    "### Newton's Update Method - Hessian\n",
    "- In multiple dimensions when dealing with functions of several variables, this involves using the Hessian matrix (a square matrix of second-order partial derivatives of the function) and the gradient of the function. This method is used to find points where the function reaches its local maxima or minima. The inclusion of the Hessian allows Newton's method to consider the curvature of the function, potentially leading to faster convergence compared to methods that only use the first derivative, such as Gradient Descent.\n",
    "\n",
    "References:\n",
    "- https://www.quora.com/Why-is-Newtons-method-only-appropriate-when-the-Hessian-is-positive-definite\n",
    "- https://www.khanacademy.org/math/multivariable-calculus/applications-of-multivariable-derivatives/quadratic-approximations/a/the-hessian\n",
    "\n"
   ]
  },
  {
   "cell_type": "code",
   "execution_count": 69,
   "metadata": {},
   "outputs": [
    {
     "name": "stdout",
     "output_type": "stream",
     "text": [
      "Binary Logistic Regression Object with coefficients:\n",
      "[[ 0.25864146]\n",
      " [ 0.106703  ]\n",
      " [-1.01329193]\n",
      " [-1.77227632]\n",
      " [ 1.04971677]\n",
      " [-1.01372997]\n",
      " [-0.69865771]\n",
      " [ 0.09431737]\n",
      " [ 1.5519017 ]]\n",
      "Accuracy of:  0.8223217618514371\n"
     ]
    }
   ],
   "source": [
    "# code Hessian up using numpy:\n",
    "\n",
    "from numpy.linalg import pinv\n",
    "\n",
    "\n",
    "class HessianBinaryLogisticRegression(BinaryLogisticRegression):\n",
    "    # just overwrite gradient function\n",
    "    def _get_gradient(self, X, y):\n",
    "        # get sigmoid value for all classes\n",
    "        g = self.predict_proba(X, add_bias=False).ravel()\n",
    "        hessian = X.T @ np.diag(g*(1-g)) @ X - 2 * \\\n",
    "            self.C  # calculate the hessian\n",
    "\n",
    "        ydiff = y-g  # get y difference\n",
    "        # convert ydiff to a NumPy array\n",
    "        ydiff = np.array(ydiff)\n",
    "        # make ydiff a column vector and multiply through\n",
    "        gradient = np.sum(X * ydiff[:, np.newaxis], axis=0)\n",
    "        gradient = gradient.reshape(self.w_.shape)\n",
    "        gradient[1:] += -2 * self.w_[1:] * self.C\n",
    "\n",
    "        return pinv(hessian) @ gradient\n",
    "\n",
    "\n",
    "hlr = HessianBinaryLogisticRegression(eta=1.0,\n",
    "                                      iterations=4,\n",
    "                                      C=0.001)  # note that we need only a few iterations here\n",
    "\n",
    "hlr.fit(X_train, y_train)\n",
    "yhat = hlr.predict(X_test)\n",
    "print(hlr)\n",
    "print('Accuracy of: ', accuracy_score(y_test,yhat))\n"
   ]
  },
  {
   "cell_type": "markdown",
   "metadata": {},
   "source": [
    "**Observation:**\n",
    "- Stochastic Gradient Descent exhibits relatively lower accuracy compared to other methods. The Newton's Update method, utilizing the Hessian matrix, performs the best, achieving the highest accuracy. \n",
    "- It indicatrs, with the nature of our current dataset, Newton's updated method is likely to offer faster convergence and potentially more accurate updates by adjusting the learning steps based on the curvature of the error surface (Hessian matrix) across the full dataset.\n",
    "- Therefore, it is advisable to construct the Multiclass Classifier using the Hessian-based approach for enhanced performance."
   ]
  },
  {
   "cell_type": "code",
   "execution_count": 70,
   "metadata": {},
   "outputs": [
    {
     "name": "stdout",
     "output_type": "stream",
     "text": [
      "Binary Logistic Regression Object with coefficients:\n",
      "[[ 0.02266496]\n",
      " [ 0.07481617]\n",
      " [-0.79533154]\n",
      " [-1.07812974]\n",
      " [ 0.4908105 ]\n",
      " [-0.36232924]\n",
      " [-0.16957945]\n",
      " [ 0.03492747]\n",
      " [ 0.28067543]]\n",
      "Accuracy of:  0.7980589772303098\n"
     ]
    }
   ],
   "source": [
    "\n",
    "from scipy.optimize import fmin_bfgs\n",
    "from scipy.optimize import fmin_bfgs\n",
    "from numpy import ma\n",
    "\n",
    "\n",
    "class BFGSBinaryLogisticRegression(BinaryLogisticRegression):\n",
    "\n",
    "    @staticmethod\n",
    "    def objective_function(w, X, y, C):\n",
    "        g = expit(X @ w)\n",
    "        # invert this because scipy minimizes, but we derived all formulas for maximzing\n",
    "        return -ma.sum(ma.log(g[y == 1]))-ma.sum(ma.log(1-g[y == 0])) + C*sum(w**2)\n",
    "        # -np.sum(y*np.log(g)+(1-y)*np.log(1-g))\n",
    "\n",
    "    @staticmethod\n",
    "    def objective_gradient(w, X, y, C):\n",
    "        g = expit(X @ w)\n",
    "        ydiff = y-g  # get y difference\n",
    "        # convert ydiff to a NumPy array\n",
    "        ydiff = np.array(ydiff)\n",
    "        gradient = np.mean(X * ydiff[:, np.newaxis], axis=0)\n",
    "        gradient = gradient.reshape(w.shape)\n",
    "        gradient[1:] += -2 * w[1:] * C\n",
    "        return -gradient\n",
    "\n",
    "    # just overwrite fit function\n",
    "    def fit(self, X, y):\n",
    "        Xb = self._add_bias(X)  # add bias term\n",
    "        num_samples, num_features = Xb.shape\n",
    "\n",
    "        self.w_ = fmin_bfgs(self.objective_function,  # what to optimize\n",
    "                            np.zeros((num_features, 1)),  # starting point\n",
    "                            fprime=self.objective_gradient,  # gradient function\n",
    "                            # extra args for gradient and objective function\n",
    "                            args=(Xb, y, self.C),\n",
    "                            gtol=1e-03,  # stopping criteria for gradient, |v_k|\n",
    "                            maxiter=self.iters,  # stopping criteria iterations\n",
    "                            disp=False)\n",
    "\n",
    "        self.w_ = self.w_.reshape((num_features, 1))\n",
    "\n",
    "\n",
    "# note that we need only a few iterations here\n",
    "bfgslr = BFGSBinaryLogisticRegression(_, iterations=3, C=0.001)\n",
    "\n",
    "bfgslr.fit(X_train, y_train)\n",
    "yhat = bfgslr.predict(X_test)\n",
    "print(bfgslr)\n",
    "print('Accuracy of: ', accuracy_score(y_test,yhat))"
   ]
  },
  {
   "cell_type": "code",
   "execution_count": 71,
   "metadata": {},
   "outputs": [],
   "source": [
    "class MultiClassLogisticRegression:\n",
    "    def __init__(self, eta, iterations=20,\n",
    "                 C=0.0001,\n",
    "                 solver=BFGSBinaryLogisticRegression):\n",
    "        self.eta = eta\n",
    "        self.iters = iterations\n",
    "        self.C = C\n",
    "        self.solver = solver\n",
    "        self.classifiers_ = []\n",
    "        # internally we will store the weights as self.w_ to keep with sklearn conventions\n",
    "\n",
    "    def __str__(self):\n",
    "        if (hasattr(self, 'w_')):\n",
    "            # is we have trained the object\n",
    "            return 'MultiClass Logistic Regression Object with coefficients:\\n' + str(self.w_)\n",
    "        else:\n",
    "            return 'Untrained MultiClass Logistic Regression Object'\n",
    "\n",
    "    def fit(self, X, y):\n",
    "        num_samples, num_features = X.shape\n",
    "        self.unique_ = np.sort(np.unique(y))  # get each unique class value\n",
    "        num_unique_classes = len(self.unique_)\n",
    "        self.classifiers_ = []\n",
    "        for i, yval in enumerate(self.unique_):  # for each unique value\n",
    "            y_binary = np.array(y == yval).astype(\n",
    "                int)  # create a binary problem\n",
    "            # train the binary classifier for this class\n",
    "\n",
    "            hblr = self.solver(eta=self.eta, iterations=self.iters, C=self.C)\n",
    "            hblr.fit(X, y_binary)\n",
    "\n",
    "            # add the trained classifier to the list\n",
    "            self.classifiers_.append(hblr)\n",
    "\n",
    "        # save all the weights into one matrix, separate column for each class\n",
    "        self.w_ = np.hstack([x.w_ for x in self.classifiers_]).T\n",
    "\n",
    "    def predict_proba(self, X):\n",
    "        probs = []\n",
    "        for hblr in self.classifiers_:\n",
    "            # get probability for each classifier\n",
    "            probs.append(hblr.predict_proba(X).reshape((len(X), 1)))\n",
    "\n",
    "        return np.hstack(probs)  # make into single matrix\n",
    "\n",
    "    def predict(self, X):\n",
    "        return self.unique_[np.argmax(self.predict_proba(X), axis=1)] # take argmax along row"
   ]
  },
  {
   "cell_type": "code",
   "execution_count": 72,
   "metadata": {},
   "outputs": [
    {
     "name": "stdout",
     "output_type": "stream",
     "text": [
      "MultiClass Logistic Regression Object with coefficients:\n",
      "[[-2.54939119e+00  1.37143524e+00  4.08114921e-02 -1.09320247e+00\n",
      "  -9.30949836e-03 -1.12186373e-01  5.40714959e-02  1.18535742e+00\n",
      "   1.68997947e+00  1.89788019e+00  8.75816038e-01 -4.37527212e+00\n",
      "  -5.93041087e+00]\n",
      " [-1.17599724e+00  2.45022510e-01  5.33061109e-02 -2.57175657e-01\n",
      "   3.38004686e-02 -6.07485809e-02  7.15542201e-02  1.34435130e-01\n",
      "   4.02454947e-01  3.22572407e-01  1.49709093e-02  6.76695525e-01\n",
      "   7.37366013e-01]\n",
      " [-1.12586759e+00 -1.81228824e-01  3.43989993e-01 -3.65290215e-01\n",
      "  -6.44526108e-02  8.36591128e-03 -1.09584524e-02 -1.77164361e-01\n",
      "   1.84458260e-02 -2.54925974e-01 -2.42032095e-01  4.62802808e+00\n",
      "   5.12340578e+00]\n",
      " [-2.18228966e+00 -1.19908183e+00 -3.45841559e-01  1.41150438e+00\n",
      "   4.34334036e-01  1.39972297e-01 -6.38034252e-02 -8.39643493e-01\n",
      "  -1.70529083e+00 -1.97616237e+00 -2.43401218e-01  1.12730783e+01\n",
      "   1.21375793e+01]]\n",
      "Accuracy of:  0.5994774169466218\n"
     ]
    }
   ],
   "source": [
    "# train the MultiClass classifier\n",
    "X_train, X_test, y_train, y_test = train_test_split(\n",
    "    features, labels, train_size=0.8, test_size=0.2, random_state=42)\n",
    "\n",
    "lr = MultiClassLogisticRegression(eta=1.0,\n",
    "                                  iterations=5,\n",
    "                                  C=0.001,\n",
    "                                  solver=HessianBinaryLogisticRegression\n",
    "                                  )\n",
    "lr.fit(X_train, y_train)\n",
    "print(lr)\n",
    "\n",
    "yhat = lr.predict(X_test)\n",
    "print('Accuracy of: ', accuracy_score(y_test, yhat))"
   ]
  },
  {
   "cell_type": "markdown",
   "metadata": {},
   "source": [
    "**Observation:**\n",
    "The accuracy has not improved significantly. It improved slightly from 0.589 to approximately 0.599 after applying Hessian optimization with SciPy to the objective-oriented logistic function. "
   ]
  },
  {
   "cell_type": "markdown",
   "metadata": {},
   "source": [
    "### 2.2 Train your classifier to achieve good generalization performance. \n",
    "Ajust the optimization technique and the value of the regularization term(s) \"C\" to achieve the best performance on the test set.\n",
    "Visualize the performance of the classifier versus the parameters that is investigated.\n"
   ]
  },
  {
   "cell_type": "code",
   "execution_count": 73,
   "metadata": {},
   "outputs": [
    {
     "name": "stdout",
     "output_type": "stream",
     "text": [
      "C=0.001: Validation Accuracy=0.599\n",
      "C=0.0026826957952797246: Validation Accuracy=0.599\n",
      "C=0.0071968567300115215: Validation Accuracy=0.599\n",
      "C=0.019306977288832496: Validation Accuracy=0.599\n",
      "C=0.0517947467923121: Validation Accuracy=0.599\n",
      "C=0.13894954943731375: Validation Accuracy=0.599\n",
      "C=0.3727593720314938: Validation Accuracy=0.599\n",
      "C=1.0: Validation Accuracy=0.598\n",
      "C=2.6826957952797246: Validation Accuracy=0.595\n",
      "C=7.196856730011514: Validation Accuracy=0.588\n",
      "C=19.306977288832496: Validation Accuracy=0.572\n",
      "C=51.794746792312125: Validation Accuracy=0.546\n",
      "C=138.9495494373136: Validation Accuracy=0.342\n",
      "C=372.7593720314938: Validation Accuracy=0.270\n",
      "C=1000.0: Validation Accuracy=0.181\n",
      "Best C=0.001: Test Set Accuracy=0.5994774169466218\n"
     ]
    }
   ],
   "source": [
    "X_train, X_test, y_train, y_test = train_test_split(\n",
    "    features, labels, train_size=0.8, test_size=0.2, random_state=42)\n",
    "\n",
    "# Set up the range of \"C\" values to explore\n",
    "C_vals = np.logspace(-3, 3, 15)  # from 0.001 to 1000\n",
    "best_accuracy = 0\n",
    "best_C = None\n",
    "accuracies = []  # List to store the accuracy for each value of C\n",
    "\n",
    "# Iterate over all values of C\n",
    "for C in C_vals:\n",
    "    lr = MultiClassLogisticRegression(eta=1.0,\n",
    "                                      iterations=5,\n",
    "                                      C=C,\n",
    "                                      solver=HessianBinaryLogisticRegression\n",
    "                                      )\n",
    "    lr.fit(X_train, y_train)\n",
    "    yhat = lr.predict(X_test)\n",
    "    accuracy = accuracy_score(y_test, yhat)\n",
    "    accuracies.append(accuracy)\n",
    "    print(f\"C={C}: Validation Accuracy={accuracy:.3f}\")\n",
    "\n",
    "    if accuracy > best_accuracy:\n",
    "        best_accuracy = accuracy\n",
    "        best_C = C\n",
    "        \n",
    "# Retrain the model using the best C value\n",
    "lr = MultiClassLogisticRegression(eta=1.0,\n",
    "                                  iterations=5,\n",
    "                                  C=best_C,\n",
    "                                  solver=HessianBinaryLogisticRegression\n",
    "                                  )\n",
    "lr.fit(X_train, y_train)\n",
    "yhat = lr.predict(X_test)\n",
    "final_accuracy = accuracy_score(y_test, yhat)\n",
    "print(f\"Best C={best_C}: Test Set Accuracy={final_accuracy}\")"
   ]
  },
  {
   "cell_type": "markdown",
   "metadata": {},
   "source": [
    "Visualize the performance of the classifier versus the \"C\" parameter"
   ]
  },
  {
   "cell_type": "code",
   "execution_count": 74,
   "metadata": {},
   "outputs": [
    {
     "data": {
      "image/png": "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",
      "text/plain": [
       "<Figure size 1000x600 with 1 Axes>"
      ]
     },
     "metadata": {},
     "output_type": "display_data"
    }
   ],
   "source": [
    "import matplotlib.pyplot as plt\n",
    "\n",
    "# Plot the accuracy vs C values\n",
    "plt.figure(figsize=(10, 6))\n",
    "plt.plot(C_vals, accuracies, marker='o', linestyle='-', color='b')\n",
    "plt.xscale('log') # Because C values are in log scale\n",
    "plt.title('Performance of the MultiClass Logistic Regression vs C value')\n",
    "plt.xlabel('C Value')\n",
    "plt.ylabel('Accuracy')\n",
    "plt.grid(True)\n",
    "plt.show()"
   ]
  },
  {
   "cell_type": "markdown",
   "metadata": {},
   "source": [
    "**Observation: **\n",
    "- **High Accuracy with lower C values:** It can observed apparently from the visualization that the performance of the Multiclass Logistic Regression model maintained a consistently high accuracy (at a level range between 0.60 and 0.55) for values of “C” ranging from 0.001 to around 10. \n",
    "\n",
    "- **Sharp Drop in Accuracy:** There is a sharp drop in accuracy as \"C\" increases beyond 10. This suggests that reducing regularization beyond a certain point (i.e., making \"C\" too large) leads to overfitting. The model starts to fit the noise in the training data, which harms its performance on the validation set.\n",
    "\n",
    "- **Optimal Range of \"C\":** The optimal range of \"C\" appears to be between approximately 0.001 and 10, where the model achieves the highest validation accuracy. This suggests that the model performance is robust with a relatively smaller C value with more regularization. This is the range (0.001 and 10) we should consider for the best balance between bias and variance, leading to better generalization on unseen data.\n",
    "\n",
    "- **Choosing the Best \"C\":** Based on this graph, we should choose a \"C\" value within the range where the model maintains high accuracy before the sharp drop. This ensures the model is regularized appropriately to generalize well without overfitting.\n",
    "\n",
    "In conclusion, to achieve the best generalization performance on unseen data, we should select a \"C\" value within the optimal range identified above."
   ]
  },
  {
   "cell_type": "markdown",
   "metadata": {},
   "source": [
    "#### Questions:\n",
    "**Is your method of selecting parameters justified?**\n",
    "- The method of selecting parameters should be justified based on whether it allows for the generalization of the model to unseen data without introducing bias or overfitting. From the practices we conducted, there appears to be a methodical approach to tuning parameters, which is a good practice. \n",
    "- The careful selection of the \"C\" parameter, as executed, shows an awareness of the balance between bias and variance, which is crucial for model generalization. The observation that there is an optimal range for \"C\" and that going beyond this range leads to overfitting is an important insight that suggests a thoughtful approach to parameter tuning.\n",
    "\n",
    "\n",
    "**That is, do you think there is any \"data snooping\" involved with this method of selecting parameters?**\n",
    "- The concept of \"data snooping\" refers to the practice of using the same dataset to both tune the parameters of a model and evaluate its performance. If the parameter selection is heavily influenced by the specifics of the test data, this could lead to overfitting and less generalizable results.\n",
    "\n",
    "- The concept of \"data snooping\" refers to the practice of using the same dataset to both tune the parameters of a model and evaluate its performance. If the parameter selection is heavily influenced by the specifics of the test data, this could lead to overfitting and less generalizable results.\n",
    "\n",
    "- From the observations of the outcomes, there does not seem to be evidence of \"data snooping\".\n",
    "\n",
    "- Our approach's consistency, applying the cross-validation process, PCA, and adjusting parameters, supports a disciplined method in avoiding data snooping, assuming the final evaluations are correctly segregated.\n",
    "\n",
    "\n",
    "Overall, our applied method and outcomes seem to adhere to good practices in machine learning, aiming for generalization and avoiding data snooping, provided that the datasets for parameter tuning and final evaluation are kept separate."
   ]
  },
  {
   "cell_type": "markdown",
   "metadata": {},
   "source": [
    "### 2.3 Performance Comparison with Scikit-learn"
   ]
  },
  {
   "cell_type": "code",
   "execution_count": 28,
   "metadata": {},
   "outputs": [
    {
     "name": "stdout",
     "output_type": "stream",
     "text": [
      "[[ 0.23697413  0.09992083 -1.00092125 -1.74918855  1.05353977 -0.98484111\n",
      "  -0.67578183  0.05062958  1.49264595]]\n",
      "Accuracy of SciKit Learn: 0.8332462101411395\n",
      "CPU times: user 76.2 ms, sys: 11.1 ms, total: 87.3 ms\n",
      "Wall time: 14.2 ms\n"
     ]
    }
   ],
   "source": [
    "%%time\n",
    "from sklearn.linear_model import LogisticRegression as SKLogisticRegression\n",
    "lr_sk = SKLogisticRegression(max_iter=1000) # all params default\n",
    "lr_sk.fit(X_train,y_train)\n",
    "print(np.hstack((lr_sk.intercept_[:,np.newaxis],lr_sk.coef_)))\n",
    "yhat = lr_sk.predict(X_test)\n",
    "\n",
    "accuracy = accuracy_score(y_test, yhat)\n",
    "\n",
    "print(\"Accuracy of SciKit Learn:\", accuracy)"
   ]
  },
  {
   "cell_type": "code",
   "execution_count": 37,
   "metadata": {},
   "outputs": [
    {
     "name": "stdout",
     "output_type": "stream",
     "text": [
      "MultiClass Logistic Regression Object with coefficients:\n",
      "[[-0.23255028 -0.09890698  0.98980971  1.72742943 -1.03881455  0.97058076\n",
      "   0.66317249 -0.04970248 -1.45872832]\n",
      " [ 0.23255028  0.09890698 -0.98980971 -1.72742943  1.03881455 -0.97058076\n",
      "  -0.66317249  0.04970248  1.45872832]]\n",
      "Accuracy of Multiclass Logistic Regression with Hessian:  0.8348144276006273\n",
      "CPU times: user 11.5 s, sys: 4.09 s, total: 15.6 s\n",
      "Wall time: 2.38 s\n"
     ]
    }
   ],
   "source": [
    "%%time\n",
    "lr = MultiClassLogisticRegression(eta=1.0,\n",
    "                                  iterations=5,\n",
    "                                  C=2.68269,\n",
    "                                  solver=HessianBinaryLogisticRegression\n",
    "                                  )\n",
    "lr.fit(X_train, y_train)\n",
    "print(lr)\n",
    "\n",
    "yhat = lr.predict(X_test)\n",
    "print('Accuracy of Multiclass Logistic Regression with Hessian: ', accuracy_score(y_test, yhat))"
   ]
  },
  {
   "cell_type": "code",
   "execution_count": 38,
   "metadata": {},
   "outputs": [
    {
     "data": {
      "image/png": "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",
      "text/plain": [
       "<Figure size 1000x600 with 1 Axes>"
      ]
     },
     "metadata": {},
     "output_type": "display_data"
    }
   ],
   "source": [
    "import numpy as np\n",
    "import matplotlib.pyplot as plt\n",
    "\n",
    "# Define the data\n",
    "labels = ['Custom Implementation', 'Scikit-Learn']\n",
    "training_times = [15.6, 0.873]  # Custom implementation, scikit-learn\n",
    "accuracies = [0.8348, 0.8332]  # Custom implementation, scikit-learn\n",
    "\n",
    "x = np.arange(len(labels))  # the label locations\n",
    "width = 0.35  # the width of the bars\n",
    "\n",
    "fig, ax = plt.subplots(figsize=(10, 6))\n",
    "\n",
    "# Plot training times\n",
    "rects1 = ax.bar(x - width/2, training_times, width, label='Training Time', color='blue')\n",
    "\n",
    "# Plot accuracies\n",
    "rects2 = ax.bar(x + width/2, accuracies, width, label='Accuracy', color='green')\n",
    "\n",
    "# Add labels, title, and legend\n",
    "ax.set_xlabel('Implementation')\n",
    "ax.set_ylabel('Value')\n",
    "ax.set_title('Comparison between Custom Implementation and Scikit-Learn')\n",
    "ax.set_xticks(x)\n",
    "ax.set_xticklabels(labels)\n",
    "ax.legend()\n",
    "\n",
    "# Add value labels on top of the bars\n",
    "def add_value_labels(ax, rects):\n",
    "    for rect in rects:\n",
    "        height = rect.get_height()\n",
    "        ax.annotate('{}'.format(height),\n",
    "                    xy=(rect.get_x() + rect.get_width() / 2, height),\n",
    "                    xytext=(0, 3),  # 3 points vertical offset\n",
    "                    textcoords=\"offset points\",\n",
    "                    ha='center', va='bottom')\n",
    "\n",
    "add_value_labels(ax, rects1)\n",
    "add_value_labels(ax, rects2)\n",
    "\n",
    "plt.show()"
   ]
  },
  {
   "cell_type": "markdown",
   "metadata": {},
   "source": [
    "Scikit-learn's logistic regression is multitudes faster (0.873 ms) then our best custom regression optimization techniques (15.6 s). Both have relatively good accuracy at ~0.83."
   ]
  },
  {
   "cell_type": "markdown",
   "metadata": {},
   "source": [
    "## 3. Deployment\n",
    "\n",
    "Since we are utilizing this data to predict a body's performance and tailor to someone's personal training needs, a robust and well-tested model must be utilized. Therefore, we recommend utilizing scikit-learn's logistic regression model. Not only does it have great optimization techniques, it is well established and would create an easier pipeline in the machine learning algorithims, leading to less numerical instabilities or maintenance issues down the line. "
   ]
  },
  {
   "cell_type": "markdown",
   "metadata": {},
   "source": [
    "## 4. Exceptional Work\n",
    "\n",
    "### Mean Squared Error (MSE) Approach \n",
    "\n",
    "In logistic regression, the Mean Squared Error (MSE) approach minimizes the squared difference between predicted probabilities and actual labels.\n",
    "\n",
    "$$\n",
    "\\text{MSE} = \\frac{1}{N} \\sum_{i=1}^{N} (y_i - \\hat{y}_i)^2\n",
    "$$\n",
    "\n",
    "The gradient of the MSE loss with respect to the weights is computed as:\n",
    "\n",
    "$$\n",
    "\\nabla l(\\mathbf{w}) = \\frac{1}{N} \\mathbf{X}^T (\\mathbf{y} - \\hat{\\mathbf{y}})\n",
    "$$\n",
    "\n",
    "where:\n",
    "- $\\mathbf{X}$ is the design matrix\n",
    "- $\\mathbf{y}$ is the true labels\n",
    "- $\\hat{\\mathbf{y}}$ is the predicted labels\n",
    "\n",
    "We compute the gradient of the MSE loss function with respect to the model parameters and update the parameters iteratively until convergence.\n"
   ]
  },
  {
   "cell_type": "code",
   "execution_count": 31,
   "metadata": {},
   "outputs": [],
   "source": [
    "class LogisticRegressionMSE:\n",
    "    def __init__(self, eta, C=1.0, iterations=20):\n",
    "        self.eta = eta\n",
    "        self.C = C  # Regularization parameter\n",
    "        self.iters = iterations\n",
    "        self.weights = None  # Initialize weights\n",
    "        \n",
    "    def fit(self, X, y):\n",
    "        num_samples, num_features = X.shape\n",
    "        self.w_ = np.zeros((num_features + 1, 1))\n",
    "        X = np.c_[np.ones((num_samples, 1)), X]  # Add intercept\n",
    "        \n",
    "        for _ in range(self.iters):\n",
    "            y_pred = self._sigmoid(X @ self.w_)\n",
    "            y_pred = y_pred.flatten()\n",
    "            gradient = X.T @ (y_pred - y) / num_samples\n",
    "            hessian = X.T @ X / num_samples + np.diag([self.C] * (num_features + 1))  # Add regularization to Hessian\n",
    "            gradient = gradient.reshape(-1, 1) # Reshape gradient to ensure it's treated as a column vector\n",
    "            self.w_ -= self.eta * np.linalg.inv(hessian) @ gradient # Update the model parameters using Newton's method\n",
    "        \n",
    "        self.weights = self.w_  # Store weights\n",
    "    \n",
    "    def predict_proba(self, X):\n",
    "        X = np.c_[np.ones((X.shape[0], 1)), X]\n",
    "        return self._sigmoid(X @ self.w_)\n",
    "    \n",
    "    def predict(self, X):\n",
    "        probabilities = self.predict_proba(X)\n",
    "        return (probabilities >= 0.5).astype(int)\n",
    "    \n",
    "    def _sigmoid(self, z):\n",
    "        z_clipped = np.clip(z, -500, 500)\n",
    "        return 1 / (1 + np.exp(-z_clipped))\n"
   ]
  },
  {
   "cell_type": "code",
   "execution_count": 32,
   "metadata": {},
   "outputs": [
    {
     "name": "stdout",
     "output_type": "stream",
     "text": [
      "[[-0.00063576]\n",
      " [ 0.03126832]\n",
      " [-0.20711313]\n",
      " [-0.26349092]\n",
      " [ 0.11935669]\n",
      " [-0.08740166]\n",
      " [-0.04392327]\n",
      " [ 0.00611131]\n",
      " [ 0.07889322]]\n",
      "Accuracy of Logistic Regression MSE: 0.7992681651855724\n",
      "CPU times: user 39.9 ms, sys: 20.9 ms, total: 60.8 ms\n",
      "Wall time: 8.4 ms\n"
     ]
    }
   ],
   "source": [
    "%%time\n",
    "lr_mse = LogisticRegressionMSE(eta=1, C=2.68269, iterations=5)\n",
    "\n",
    "lr_mse.fit(X_train, y_train)\n",
    "y_pred = lr_mse.predict(X_test)\n",
    "print(np.vstack((lr_mse.weights[0], lr_mse.weights[1:])))\n",
    "accuracy = accuracy_score(y_test, y_pred)\n",
    "print(\"Accuracy of Logistic Regression MSE:\", accuracy)\n"
   ]
  },
  {
   "cell_type": "markdown",
   "metadata": {},
   "source": [
    "Now let's make a class with One Vs. Rest Multiclass with MSE"
   ]
  },
  {
   "cell_type": "code",
   "execution_count": 33,
   "metadata": {},
   "outputs": [],
   "source": [
    "class LogisticRegressionMSEOvR:\n",
    "    def __init__(self, eta, C=1.0, iterations=20):\n",
    "        self.eta = eta\n",
    "        self.C = C  # Regularization parameter\n",
    "        self.iters = iterations\n",
    "        self.classifiers = {}  # Dictionary to store binary classifiers\n",
    "        \n",
    "    def fit(self, X, y):\n",
    "        num_samples, num_features = X.shape\n",
    "        unique_classes = np.unique(y)\n",
    "        \n",
    "        for class_label in unique_classes:\n",
    "            y_binary = (y == class_label).astype(int)  # Convert to binary labels\n",
    "            classifier = LogisticRegressionMSE(self.eta, self.C, self.iters)  # Pass C parameter\n",
    "            classifier.fit(X, y_binary)\n",
    "            self.classifiers[class_label] = classifier\n",
    "    \n",
    "    def predict_proba(self, X):\n",
    "        num_samples = X.shape[0]\n",
    "        probabilities = np.zeros((num_samples, len(self.classifiers)))\n",
    "        \n",
    "        for i, (class_label, classifier) in enumerate(self.classifiers.items()):\n",
    "            probabilities[:, i] = classifier.predict_proba(X).flatten()\n",
    "        \n",
    "        return probabilities\n",
    "    \n",
    "    def predict(self, X):\n",
    "        probabilities = self.predict_proba(X)\n",
    "        return np.argmax(probabilities, axis=1)\n"
   ]
  },
  {
   "cell_type": "code",
   "execution_count": 34,
   "metadata": {},
   "outputs": [
    {
     "name": "stdout",
     "output_type": "stream",
     "text": [
      "[[ 0.00063576 -0.00063576]\n",
      " [-0.03126832  0.03126832]\n",
      " [ 0.20711313 -0.20711313]\n",
      " [ 0.26349092 -0.26349092]\n",
      " [-0.11935669  0.11935669]\n",
      " [ 0.08740166 -0.08740166]\n",
      " [ 0.04392327 -0.04392327]\n",
      " [-0.00611131  0.00611131]\n",
      " [-0.07889322  0.07889322]]\n",
      "Accuracy of Logistc Regression MSE One Over Rest: 0.7992681651855724\n",
      "CPU times: user 78.6 ms, sys: 26.3 ms, total: 105 ms\n",
      "Wall time: 14.2 ms\n"
     ]
    }
   ],
   "source": [
    "%%time\n",
    "lr_ovr = LogisticRegressionMSEOvR(eta=1, iterations=5, C=2.68269)\n",
    "lr_ovr.fit(X_train, y_train)\n",
    "y_pred = lr_ovr.predict(X_test)\n",
    "weights_stacked = np.hstack([lr_ovr.classifiers[class_label].weights for class_label in lr_ovr.classifiers])\n",
    "print(weights_stacked)\n",
    "accuracy = accuracy_score(y_test, y_pred)\n",
    "print(\"Accuracy of Logistc Regression MSE One Over Rest:\", accuracy)"
   ]
  },
  {
   "cell_type": "code",
   "execution_count": 36,
   "metadata": {},
   "outputs": [
    {
     "name": "stdout",
     "output_type": "stream",
     "text": [
      "MultiClass Logistic Regression Object with coefficients:\n",
      "[[-0.23255028 -0.09890698  0.98980971  1.72742943 -1.03881455  0.97058076\n",
      "   0.66317249 -0.04970248 -1.45872832]\n",
      " [ 0.23255028  0.09890698 -0.98980971 -1.72742943  1.03881455 -0.97058076\n",
      "  -0.66317249  0.04970248  1.45872832]]\n",
      "Accuracy of Multiclass Logistic Regression with Hessian:  0.8348144276006273\n",
      "CPU times: user 9.8 s, sys: 3.9 s, total: 13.7 s\n",
      "Wall time: 2.08 s\n"
     ]
    }
   ],
   "source": [
    "%%time\n",
    "lr = MultiClassLogisticRegression(eta=1.0,\n",
    "                                  iterations=5,\n",
    "                                  C=2.68269,\n",
    "                                  solver=HessianBinaryLogisticRegression\n",
    "                                  )\n",
    "lr.fit(X_train, y_train)\n",
    "print(lr)\n",
    "\n",
    "yhat = lr.predict(X_test)\n",
    "print('Accuracy of Multiclass Logistic Regression with Hessian: ', accuracy_score(y_test, yhat))\n"
   ]
  },
  {
   "cell_type": "markdown",
   "metadata": {},
   "source": [
    "Between maxiumum likelihood estimation (MLE) and mean-squared error (MSE), we prefer MLE, due to it's ability to find the parameter values that make our model's predictions match the observed outcomes as closely as possible, as shown with the accuracy of ~0.80 for both binary logistic regression and multiclass logistic regression with MSE, and 0.83 accuracy for the multiclass logistic regression utilizing MLE. "
   ]
  },
  {
   "cell_type": "markdown",
   "metadata": {},
   "source": [
    "References:\n",
    "1. https://www.kaggle.com/datasets/kukuroo3/body-performance-data\n",
    "2. https://www.bigdata-culture.kr/bigdata/user/data_market/detail.do?id=ace0aea7-5eee-48b9-b616-637365d665c1\n",
    "3. https://www.quora.com/Why-is-Newtons-method-only-appropriate-when-the-Hessian-is-positive-definite\n",
    "4. https://www.khanacademy.org/math/multivariable-calculus/applications-of-multivariable-derivatives/quadratic-approximations/a/the-hessian"
   ]
  }
 ],
 "metadata": {
  "kernelspec": {
   "display_name": "Python 3 (ipykernel)",
   "language": "python",
   "name": "python3"
  },
  "language_info": {
   "codemirror_mode": {
    "name": "ipython",
    "version": 3
   },
   "file_extension": ".py",
   "mimetype": "text/x-python",
   "name": "python",
   "nbconvert_exporter": "python",
   "pygments_lexer": "ipython3",
   "version": "3.9.13"
  }
 },
 "nbformat": 4,
 "nbformat_minor": 2
}
