{
 "cells": [
  {
   "cell_type": "markdown",
   "metadata": {},
   "source": [
    "# Lab Assignment Three: Extending Logistic Regression"
   ]
  },
  {
   "cell_type": "markdown",
   "metadata": {},
   "source": [
    "### Authors\n",
    "- Juliana Antonio\n",
    "- Xiaona Hang\n",
    "- Chuanqi Deng\n"
   ]
  },
  {
   "cell_type": "markdown",
   "metadata": {},
   "source": [
    "## 1. Preparation and Overview"
   ]
  },
  {
   "cell_type": "markdown",
   "metadata": {},
   "source": [
    "The \"Body Performance Data\" sourced from the [Korea Sports Promotion Foundation](https://www.bigdata-culture.kr/bigdata/user/data_market/detail.do?id=ace0aea7-5eee-48b9-b616-637365d665c1), available on Kaggle, comprises 13,393 rows and encompasses 12 features, such as age, gender, height, weight, and more. This dataset, meticulously curated, demonstrates the correlation between age and various exercise performance metrics, thereby providing insights into individual performance grades.\n",
    "\n",
    "Utilizing this rich dataset, the aim is to classify individuals into distinct performance grades: A (Best), B, C, and D (Worst), based on the aforementioned 12 features. This classification is pivotal for tailoring personalized training plans, catering to diverse needs and abilities. Consequently, gyms and rehabilitation centers stand to benefit significantly from leveraging predictive analytics to craft bespoke training plans, optimizing clients' progress and well-being.\n",
    "\n",
    "Beyond professional institutions, individuals themselves will be interested in understanding their body performance classification. Armed with this knowledge, they can make informed decisions regarding their fitness journey, setting realistic goals and embracing tailored approaches for holistic improvement.\n",
    "\n",
    "The deployment of a robust classification model is expected to achieve an accuracy of approximately 80%. By meeting this benchmark, the model ensures reliable predictions, empowering stakeholders to make data-driven decisions with confidence."
   ]
  },
  {
   "cell_type": "markdown",
   "metadata": {},
   "source": [
    "The \"Body Performance Data\" sourced from the [Korea Sports Promotion Foundation](https://www.bigdata-culture.kr/bigdata/user/data_market/detail.do?id=ace0aea7-5eee-48b9-b616-637365d665c1), available on Kaggle, comprises 13,393 rows and encompasses 12 features, such as age, gender, height, weight, and more. This dataset, meticulously curated, demonstrates the correlation between age and various exercise performance metrics, thereby providing insights into individual performance grades.\n",
    "\n",
    "Utilizing this rich dataset, the aim is to classify individuals into distinct performance grades: A (Best), B, C, and D (Worst), based on the aforementioned 12 features. This classification is pivotal for tailoring personalized training plans, catering to diverse needs and abilities. Consequently, gyms and rehabilitation centers stand to benefit significantly from leveraging predictive analytics to craft bespoke training plans, optimizing clients' progress and well-being.\n",
    "\n",
    "Beyond professional institutions, individuals themselves will be interested in understanding their body performance classification. Armed with this knowledge, they can make informed decisions regarding their fitness journey, setting realistic goals and embracing tailored approaches for holistic improvement.\n",
    "\n",
    "The deployment of a robust classification model is expected to achieve an accuracy of approximately 80%. By meeting this benchmark, the model ensures reliable predictions, empowering stakeholders to make data-driven decisions with confidence."
   ]
  },
  {
   "cell_type": "code",
   "execution_count": 1,
   "metadata": {},
   "outputs": [
    {
     "data": {
      "text/plain": [
       "((13393, 12), (13393, 8), 0.9610166822801914)"
      ]
     },
     "execution_count": 1,
     "metadata": {},
     "output_type": "execute_result"
    }
   ],
   "source": [
    "import matplotlib.pyplot as plt\n",
    "import numpy as np\n",
    "import pandas as pd\n",
    "from sklearn.decomposition import PCA\n",
    "from sklearn.metrics import accuracy_score\n",
    "from sklearn.model_selection import KFold, train_test_split\n",
    "from sklearn.preprocessing import StandardScaler\n",
    "from sklearn.svm import SVC\n",
    "from tqdm import tqdm\n",
    "import warnings\n",
    "warnings.filterwarnings('ignore', category=FutureWarning)\n",
    "\n",
    "raw_data = pd.read_csv(\"data/bodyPerformance.csv\")\n",
    "\n",
    "# preprocessing\n",
    "data = pd.get_dummies(raw_data, columns=['gender'],dtype=np.int8) # one-hot encoding for gender\n",
    "labels = data['class'].map(lambda c: ord(c) - ord('A')) # encode lables into integer\n",
    "data.drop(['class'], axis=1, inplace=True) # remove class column\n",
    "\n",
    "# scale\n",
    "scaler = StandardScaler()\n",
    "features = scaler.fit_transform(data)\n",
    "\n",
    "# PCA\n",
    "pca = PCA(8)\n",
    "pca_feature = pca.fit_transform(features)\n",
    "raw_data.shape, pca_feature.shape, sum(pca.explained_variance_ratio_)"
   ]
  },
  {
   "cell_type": "markdown",
   "metadata": {},
   "source": [
    "The dataset has one categorical feature, the gender. One-hot encoding is enployed to convert it into numerical data. Next, the lables/class is moved to another separate variable, lables. Then, the Standard Scaling and PCA are applied to mitigate the difference of multiple features and reduce the number of features from 12 to 8. The 8 principal components explain 96.1% of the total variance of the scaled data."
   ]
  },
  {
   "cell_type": "code",
   "execution_count": 2,
   "metadata": {},
   "outputs": [
    {
     "data": {
      "text/html": [
       "<div>\n",
       "<style scoped>\n",
       "    .dataframe tbody tr th:only-of-type {\n",
       "        vertical-align: middle;\n",
       "    }\n",
       "\n",
       "    .dataframe tbody tr th {\n",
       "        vertical-align: top;\n",
       "    }\n",
       "\n",
       "    .dataframe thead th {\n",
       "        text-align: right;\n",
       "    }\n",
       "</style>\n",
       "<table border=\"1\" class=\"dataframe\">\n",
       "  <thead>\n",
       "    <tr style=\"text-align: right;\">\n",
       "      <th></th>\n",
       "      <th>0</th>\n",
       "      <th>1</th>\n",
       "      <th>2</th>\n",
       "      <th>3</th>\n",
       "      <th>4</th>\n",
       "      <th>5</th>\n",
       "      <th>6</th>\n",
       "      <th>7</th>\n",
       "    </tr>\n",
       "  </thead>\n",
       "  <tbody>\n",
       "    <tr>\n",
       "      <th>count</th>\n",
       "      <td>1.339300e+04</td>\n",
       "      <td>1.339300e+04</td>\n",
       "      <td>1.339300e+04</td>\n",
       "      <td>1.339300e+04</td>\n",
       "      <td>1.339300e+04</td>\n",
       "      <td>1.339300e+04</td>\n",
       "      <td>1.339300e+04</td>\n",
       "      <td>1.339300e+04</td>\n",
       "    </tr>\n",
       "    <tr>\n",
       "      <th>mean</th>\n",
       "      <td>-5.517542e-17</td>\n",
       "      <td>-5.093116e-17</td>\n",
       "      <td>-2.811824e-17</td>\n",
       "      <td>-5.093116e-17</td>\n",
       "      <td>-1.856865e-17</td>\n",
       "      <td>5.305329e-18</td>\n",
       "      <td>4.350370e-17</td>\n",
       "      <td>2.785298e-17</td>\n",
       "    </tr>\n",
       "    <tr>\n",
       "      <th>std</th>\n",
       "      <td>2.386378e+00</td>\n",
       "      <td>1.462662e+00</td>\n",
       "      <td>1.127011e+00</td>\n",
       "      <td>9.438121e-01</td>\n",
       "      <td>8.081770e-01</td>\n",
       "      <td>5.785046e-01</td>\n",
       "      <td>5.602344e-01</td>\n",
       "      <td>4.860709e-01</td>\n",
       "    </tr>\n",
       "    <tr>\n",
       "      <th>min</th>\n",
       "      <td>-5.041796e+00</td>\n",
       "      <td>-5.384663e+00</td>\n",
       "      <td>-7.437324e+00</td>\n",
       "      <td>-4.140902e+00</td>\n",
       "      <td>-4.012083e+00</td>\n",
       "      <td>-2.242237e+00</td>\n",
       "      <td>-5.062883e+00</td>\n",
       "      <td>-2.246422e+00</td>\n",
       "    </tr>\n",
       "    <tr>\n",
       "      <th>25%</th>\n",
       "      <td>-1.967484e+00</td>\n",
       "      <td>-1.012307e+00</td>\n",
       "      <td>-6.911124e-01</td>\n",
       "      <td>-6.042082e-01</td>\n",
       "      <td>-4.971976e-01</td>\n",
       "      <td>-3.845767e-01</td>\n",
       "      <td>-3.517389e-01</td>\n",
       "      <td>-3.142285e-01</td>\n",
       "    </tr>\n",
       "    <tr>\n",
       "      <th>50%</th>\n",
       "      <td>-8.995369e-01</td>\n",
       "      <td>1.073930e-01</td>\n",
       "      <td>5.143689e-02</td>\n",
       "      <td>1.506179e-02</td>\n",
       "      <td>7.247022e-03</td>\n",
       "      <td>1.665698e-02</td>\n",
       "      <td>8.867419e-03</td>\n",
       "      <td>-3.037003e-03</td>\n",
       "    </tr>\n",
       "    <tr>\n",
       "      <th>75%</th>\n",
       "      <td>2.360703e+00</td>\n",
       "      <td>1.072822e+00</td>\n",
       "      <td>7.628835e-01</td>\n",
       "      <td>6.133066e-01</td>\n",
       "      <td>5.253231e-01</td>\n",
       "      <td>3.905508e-01</td>\n",
       "      <td>3.792356e-01</td>\n",
       "      <td>3.000243e-01</td>\n",
       "    </tr>\n",
       "    <tr>\n",
       "      <th>max</th>\n",
       "      <td>6.506510e+00</td>\n",
       "      <td>7.782459e+00</td>\n",
       "      <td>1.473913e+01</td>\n",
       "      <td>4.345014e+00</td>\n",
       "      <td>1.360873e+01</td>\n",
       "      <td>3.636507e+00</td>\n",
       "      <td>5.873632e+00</td>\n",
       "      <td>6.967697e+00</td>\n",
       "    </tr>\n",
       "  </tbody>\n",
       "</table>\n",
       "</div>"
      ],
      "text/plain": [
       "                  0             1             2             3             4  \\\n",
       "count  1.339300e+04  1.339300e+04  1.339300e+04  1.339300e+04  1.339300e+04   \n",
       "mean  -5.517542e-17 -5.093116e-17 -2.811824e-17 -5.093116e-17 -1.856865e-17   \n",
       "std    2.386378e+00  1.462662e+00  1.127011e+00  9.438121e-01  8.081770e-01   \n",
       "min   -5.041796e+00 -5.384663e+00 -7.437324e+00 -4.140902e+00 -4.012083e+00   \n",
       "25%   -1.967484e+00 -1.012307e+00 -6.911124e-01 -6.042082e-01 -4.971976e-01   \n",
       "50%   -8.995369e-01  1.073930e-01  5.143689e-02  1.506179e-02  7.247022e-03   \n",
       "75%    2.360703e+00  1.072822e+00  7.628835e-01  6.133066e-01  5.253231e-01   \n",
       "max    6.506510e+00  7.782459e+00  1.473913e+01  4.345014e+00  1.360873e+01   \n",
       "\n",
       "                  5             6             7  \n",
       "count  1.339300e+04  1.339300e+04  1.339300e+04  \n",
       "mean   5.305329e-18  4.350370e-17  2.785298e-17  \n",
       "std    5.785046e-01  5.602344e-01  4.860709e-01  \n",
       "min   -2.242237e+00 -5.062883e+00 -2.246422e+00  \n",
       "25%   -3.845767e-01 -3.517389e-01 -3.142285e-01  \n",
       "50%    1.665698e-02  8.867419e-03 -3.037003e-03  \n",
       "75%    3.905508e-01  3.792356e-01  3.000243e-01  \n",
       "max    3.636507e+00  5.873632e+00  6.967697e+00  "
      ]
     },
     "execution_count": 2,
     "metadata": {},
     "output_type": "execute_result"
    }
   ],
   "source": [
    "# breakdown of the variables\n",
    "pd.DataFrame(pca_feature).describe()"
   ]
  },
  {
   "cell_type": "code",
   "execution_count": 3,
   "metadata": {},
   "outputs": [
    {
     "name": "stderr",
     "output_type": "stream",
     "text": [
      "100%|█████████████████████████████████████████████| 8/8 [01:30<00:00, 11.25s/it]\n"
     ]
    }
   ],
   "source": [
    "# test different folds of cross validation\n",
    "cross_validation_accs = {}\n",
    "# n fold cross-validation, n: 3-10\n",
    "for n in tqdm(range(3, 11)):\n",
    "    # n-fold cross-validation\n",
    "    cross_validator = KFold(n_splits=n)\n",
    "    split_indices = cross_validator.split(pca_feature, labels)\n",
    "    \n",
    "    # training and testing\n",
    "    avg_accs = []\n",
    "    for train_indices, test_indices in split_indices:\n",
    "        X_train, y_train = pca_feature[train_indices], labels[train_indices]\n",
    "        X_test, y_test = pca_feature[test_indices], labels[test_indices]\n",
    "        \n",
    "        classifier = SVC()\n",
    "        classifier.fit(X_train, y_train)\n",
    "        y_pred = classifier.predict(X_test)\n",
    "        acc = accuracy_score(y_test, y_pred)\n",
    "        avg_accs.append(acc)\n",
    "    \n",
    "    cross_validation_accs[n] = avg_accs"
   ]
  },
  {
   "cell_type": "code",
   "execution_count": 4,
   "metadata": {},
   "outputs": [
    {
     "data": {
      "text/plain": [
       "Text(0.5, 1.0, 'Cross Validation Accuracies')"
      ]
     },
     "execution_count": 4,
     "metadata": {},
     "output_type": "execute_result"
    },
    {
     "data": {
      "image/png": "[encoded data removed]",
      "text/plain": [
       "<Figure size 640x480 with 2 Axes>"
      ]
     },
     "metadata": {},
     "output_type": "display_data"
    }
   ],
   "source": [
    "# plot cross validation accuracies\n",
    "plt.boxplot(cross_validation_accs.values(), labels=list(range(3, 11)))\n",
    "ax = plt.twiny()\n",
    "avg_accs = [np.mean(accs) for accs in cross_validation_accs.values()]\n",
    "ax.plot(avg_accs, label='mean accuracies')\n",
    "ax.set_axis_off()\n",
    "ax.legend(loc = 'upper left')\n",
    "plt.title(\"Cross Validation Accuracies\")"
   ]
  },
  {
   "cell_type": "markdown",
   "metadata": {},
   "source": [
    "According to the graph above, it is clear that the 7-fold cross-validation has the best accuracies, considering the stablity and median accuracy. Hence, a rougly 86/14 split would be ideal for this dataset."
   ]
  },
  {
   "cell_type": "code",
   "execution_count": 5,
   "metadata": {},
   "outputs": [],
   "source": [
    "# use the optimal number of folds for the following analysis\n",
    "cross_validator = KFold(n_splits=7)\n",
    "split_indices = cross_validator.split(pca_feature, labels)"
   ]
  },
  {
   "cell_type": "code",
   "execution_count": 6,
   "metadata": {},
   "outputs": [],
   "source": [
    "# Train and test the model using different feature engineering methods to verify performance improvement\n",
    "\n",
    "# Use original data\n",
    "X = features\n",
    "y = labels\n",
    "\n",
    "# Use PCA data without cross validation\n",
    "X = pca_feature\n",
    "y = labels\n",
    "\n",
    "# Use PCA data with cross validation\n",
    "# binary classification data\n",
    "for train_indices, test_indices in split_indices:\n",
    "    X_train, y_train = pca_feature[train_indices], (labels[train_indices] >1)\n",
    "    X_test, y_test = pca_feature[test_indices], (labels[test_indices] > 1)\n",
    "# multi-class classification data\n",
    "for train_indices, test_indices in split_indices:\n",
    "    X_train, y_train = pca_feature[train_indices], labels[train_indices]\n",
    "    X_test, y_test = pca_feature[test_indices], labels[test_indices]\n"
   ]
  },
  {
   "cell_type": "markdown",
   "metadata": {},
   "source": [
    "## 2. Modeling\n",
    "\n",
    "#### 2.1 \n",
    "Create a custom, one-versus-all logistic regression classifier using numpy and scipy to optimize. Ability to choose optimization technique when class is instantiated.\n",
    "Update the gradient calculation to include a customizable regularization term."
   ]
  },
  {
   "cell_type": "code",
   "execution_count": 7,
   "metadata": {},
   "outputs": [
    {
     "name": "stdout",
     "output_type": "stream",
     "text": [
      "Base Binary Logistic Regression Object, Not Trainable\n"
     ]
    }
   ],
   "source": [
    "import numpy as np\n",
    "\n",
    "\n",
    "class BinaryLogisticRegressionBase:\n",
    "    # private:\n",
    "    def __init__(self, eta, iterations=20):\n",
    "        self.eta = eta\n",
    "        self.iters = iterations\n",
    "        # internally we will store the weights as self.w_ to keep with sklearn conventions\n",
    "\n",
    "    def __str__(self):\n",
    "        return 'Base Binary Logistic Regression Object, Not Trainable'\n",
    "\n",
    "    # convenience, private and static:\n",
    "    @staticmethod\n",
    "    def _sigmoid(theta):\n",
    "        return 1/(1+np.exp(-theta))\n",
    "\n",
    "    @staticmethod\n",
    "    def _add_intercept(X):\n",
    "        return np.hstack((np.ones((X.shape[0], 1)), X))  # add bias term\n",
    "\n",
    "    # public:\n",
    "    def predict_proba(self, X, add_intercept=True):\n",
    "        # add bias term if requested\n",
    "        Xb = self._add_intercept(X) if add_intercept else X\n",
    "        return self._sigmoid(Xb @ self.w_)  # return the probability y=1\n",
    "\n",
    "    def predict(self, X):\n",
    "        return (self.predict_proba(X) > 0.5)  # return the actual prediction\n",
    "\n",
    "\n",
    "blr = BinaryLogisticRegressionBase(0.1)\n",
    "print(blr)"
   ]
  },
  {
   "cell_type": "code",
   "execution_count": 8,
   "metadata": {},
   "outputs": [
    {
     "name": "stdout",
     "output_type": "stream",
     "text": [
      "Untrained Binary Logistic Regression Object\n"
     ]
    }
   ],
   "source": [
    "# inherit from base class\n",
    "class BinaryLogisticRegression(BinaryLogisticRegressionBase):\n",
    "    # private:\n",
    "    def __str__(self):\n",
    "        if (hasattr(self, 'w_')):\n",
    "            # is we have trained the object\n",
    "            return 'Binary Logistic Regression Object with coefficients:\\n' + str(self.w_)\n",
    "        else:\n",
    "            return 'Untrained Binary Logistic Regression Object'\n",
    "\n",
    "    def _get_gradient(self, X, y):\n",
    "        # programming \\sum_i (yi-g(xi))xi\n",
    "        gradient = np.zeros(self.w_.shape)  # set gradient to zero\n",
    "        for (xi, yi) in zip(X, y):\n",
    "            # the actual update inside of sum\n",
    "            gradi = (yi - self.predict_proba(xi, add_intercept=False))*xi\n",
    "            # reshape to be column vector and add to gradient\n",
    "            gradient += gradi.reshape(self.w_.shape)\n",
    "\n",
    "        return gradient/float(len(y))\n",
    "\n",
    "    # public:\n",
    "    def fit(self, X, y):\n",
    "        Xb = self._add_intercept(X)  # add bias term\n",
    "        num_samples, num_features = Xb.shape\n",
    "\n",
    "        self.w_ = np.zeros((num_features, 1))  # init weight vector to zeros\n",
    "\n",
    "        # for as many as the max iterations\n",
    "        for _ in range(self.iters):\n",
    "            gradient = self._get_gradient(Xb, y)\n",
    "            self.w_ += gradient*self.eta  # multiply by learning rate\n",
    "\n",
    "\n",
    "blr = BinaryLogisticRegression(0.1)\n",
    "print(blr)"
   ]
  },
  {
   "cell_type": "code",
   "execution_count": 9,
   "metadata": {},
   "outputs": [
    {
     "name": "stdout",
     "output_type": "stream",
     "text": [
      "Binary Logistic Regression Object with coefficients:\n",
      "[[-0.00029092]\n",
      " [ 0.04395626]\n",
      " [-0.22565824]\n",
      " [-0.248578  ]\n",
      " [ 0.10309809]\n",
      " [-0.07139034]\n",
      " [-0.0323019 ]\n",
      " [ 0.00401275]\n",
      " [ 0.05577395]]\n",
      "Accuracy of using original dataset:  0.7841087297438578\n",
      "=====================================\n",
      "Binary Logistic Regression Object with coefficients:\n",
      "[[-0.00029092]\n",
      " [ 0.04395626]\n",
      " [-0.22565824]\n",
      " [-0.248578  ]\n",
      " [ 0.10309809]\n",
      " [-0.07139034]\n",
      " [-0.0323019 ]\n",
      " [ 0.00401275]\n",
      " [ 0.05577395]]\n",
      "Accuracy of using PCA dataset:  0.7841087297438578\n",
      "=====================================\n",
      "Binary Logistic Regression Object with coefficients:\n",
      "[[-0.00029092]\n",
      " [ 0.04395626]\n",
      " [-0.22565824]\n",
      " [-0.248578  ]\n",
      " [ 0.10309809]\n",
      " [-0.07139034]\n",
      " [-0.0323019 ]\n",
      " [ 0.00401275]\n",
      " [ 0.05577395]]\n",
      "Accuracy of using Data using Cross Validation 0.7841087297438578\n"
     ]
    }
   ],
   "source": [
    "# Train and test the model using datasets using different feature engineering methods to verify performance improvement\n",
    "\n",
    "# Use original data\n",
    "X = features\n",
    "y = labels > 1\n",
    "\n",
    "blr = BinaryLogisticRegression(eta=0.1, iterations=12)\n",
    "blr.fit(X_train, y_train)\n",
    "print(blr)\n",
    "\n",
    "yhat = blr.predict(X_test)\n",
    "print('Accuracy of using original dataset: ', accuracy_score(y_test, yhat))\n",
    "print(\"=====================================\")\n",
    "\n",
    "\n",
    "# Use PCA data without cross validation\n",
    "X = pca_feature\n",
    "y = labels > 1\n",
    "\n",
    "blr = BinaryLogisticRegression(eta=0.1, iterations=12)\n",
    "blr.fit(X_train, y_train)\n",
    "print(blr)\n",
    "\n",
    "yhat = blr.predict(X_test)\n",
    "print('Accuracy of using PCA dataset: ', accuracy_score(y_test, yhat))\n",
    "print(\"=====================================\")\n",
    "\n",
    "# Use PCA data with cross validation\n",
    "# binary classification data\n",
    "for train_indices, test_indices in split_indices:\n",
    "    X_train, y_train = pca_feature[train_indices], (labels[train_indices] > 1)\n",
    "    X_test, y_test = pca_feature[test_indices], (labels[test_indices] > 1)\n",
    "\n",
    "blr = BinaryLogisticRegression(eta=0.1, iterations=12)\n",
    "blr.fit(X_train, y_train)\n",
    "print(blr)\n",
    "\n",
    "yhat = blr.predict(X_test)\n",
    "print('Accuracy of using Data using Cross Validation', accuracy_score(y_test, yhat))\n"
   ]
  },
  {
   "cell_type": "code",
   "execution_count": 10,
   "metadata": {},
   "outputs": [
    {
     "name": "stdout",
     "output_type": "stream",
     "text": [
      "Binary Logistic Regression Object with coefficients:\n",
      "[[ 0.01174409]\n",
      " [ 0.06053577]\n",
      " [-0.49916394]\n",
      " [-0.68773908]\n",
      " [ 0.32374941]\n",
      " [-0.24576778]\n",
      " [-0.11727782]\n",
      " [ 0.01352371]\n",
      " [ 0.20394337]]\n",
      "Accuracy of using original dataset:  0.8008363826450601\n",
      "=====================================\n",
      "Binary Logistic Regression Object with coefficients:\n",
      "[[ 0.01174409]\n",
      " [ 0.06053577]\n",
      " [-0.49916394]\n",
      " [-0.68773908]\n",
      " [ 0.32374941]\n",
      " [-0.24576778]\n",
      " [-0.11727782]\n",
      " [ 0.01352371]\n",
      " [ 0.20394337]]\n",
      "Accuracy of using PCA dataset:  0.8008363826450601\n",
      "=====================================\n",
      "Binary Logistic Regression Object with coefficients:\n",
      "[[ 0.01174409]\n",
      " [ 0.06053577]\n",
      " [-0.49916394]\n",
      " [-0.68773908]\n",
      " [ 0.32374941]\n",
      " [-0.24576778]\n",
      " [-0.11727782]\n",
      " [ 0.01352371]\n",
      " [ 0.20394337]]\n",
      "Accuracy of using Data using Cross Validation 0.8008363826450601\n"
     ]
    }
   ],
   "source": [
    "# Train the classifier with more iterations to check if the accuracy improves\n",
    "params = dict(eta=0.01,\n",
    "              iterations=500)\n",
    "\n",
    "# Use original data\n",
    "X = features\n",
    "y = labels > 1\n",
    "\n",
    "blr = BinaryLogisticRegression(**params)\n",
    "blr.fit(X_train, y_train)\n",
    "print(blr)\n",
    "\n",
    "yhat = blr.predict(X_test)\n",
    "print('Accuracy of using original dataset: ', accuracy_score(y_test, yhat))\n",
    "print(\"=====================================\")\n",
    "\n",
    "\n",
    "# Use PCA data without cross validation\n",
    "X = pca_feature\n",
    "y = labels > 1\n",
    "\n",
    "blr = BinaryLogisticRegression(**params)\n",
    "blr.fit(X_train, y_train)\n",
    "print(blr)\n",
    "\n",
    "yhat = blr.predict(X_test)\n",
    "print('Accuracy of using PCA dataset: ', accuracy_score(y_test, yhat))\n",
    "print(\"=====================================\")\n",
    "\n",
    "# Use PCA data with cross validation\n",
    "# binary classification data\n",
    "for train_indices, test_indices in split_indices:\n",
    "    X_train, y_train = pca_feature[train_indices], (labels[train_indices] > 1)\n",
    "    X_test, y_test = pca_feature[test_indices], (labels[test_indices] > 1)\n",
    "\n",
    "blr = BinaryLogisticRegression(**params)\n",
    "blr.fit(X_train, y_train)\n",
    "print(blr)\n",
    "\n",
    "yhat = blr.predict(X_test)\n",
    "print('Accuracy of using Data using Cross Validation',\n",
    "      accuracy_score(y_test, yhat))"
   ]
  },
  {
   "cell_type": "markdown",
   "metadata": {},
   "source": [
    "**Observation**:\n",
    "- Accuracy improved after tuning the hyperparameter of interaction with a higher value. \n",
    "- The Binary Classification Model performs the same level of accuracy when using the original dataset, a dataset that has undergone PCA (Principal Component Analysis), and a dataset that has applied Cross-Validation.  We will continue experimenting with it in the training of the multiclass classifier to verify whether different datasets will affect the performance in a classification problem.\n"
   ]
  },
  {
   "cell_type": "markdown",
   "metadata": {},
   "source": [
    "Use numpy and scipy expit to optimize the Logistic Regression Function"
   ]
  },
  {
   "cell_type": "code",
   "execution_count": 11,
   "metadata": {},
   "outputs": [
    {
     "name": "stdout",
     "output_type": "stream",
     "text": [
      "[[ 0.01174409]\n",
      " [ 0.06053577]\n",
      " [-0.49916394]\n",
      " [-0.68773908]\n",
      " [ 0.32374941]\n",
      " [-0.24576778]\n",
      " [-0.11727782]\n",
      " [ 0.01352371]\n",
      " [ 0.20394337]]\n",
      "Accuracy of Vectorized Programing for Regression:  0.8008363826450601\n"
     ]
    }
   ],
   "source": [
    "# Vectorized Programming for Logistic Regression\n",
    "import numpy as np\n",
    "from scipy.special import expit\n",
    "\n",
    "class VectorBinaryLogisticRegression(BinaryLogisticRegression):\n",
    "    # inherit from our previous class to get same functionality\n",
    "    @staticmethod\n",
    "    def _sigmoid(theta):\n",
    "        # increase stability using expit which is more stable\n",
    "        return expit(theta)  # 1/(1+np.exp(-theta))\n",
    "\n",
    "    # overwrite the gradient calculation\n",
    "    def _get_gradient(self, X, y):\n",
    "        # get y difference\n",
    "        ydiff = y-self.predict_proba(X, add_intercept=False).ravel()\n",
    "            # convert ydiff to a NumPy array\n",
    "        ydiff = np.array(ydiff)\n",
    "        # make ydiff a column vector and multiply through\n",
    "        gradient = np.mean(X * ydiff[:, np.newaxis], axis=0)\n",
    "\n",
    "        return gradient.reshape(self.w_.shape)\n",
    "\n",
    "\n",
    "# use same params as defined above\n",
    "blr = VectorBinaryLogisticRegression(**params)\n",
    "blr.fit(X_train, y_train)\n",
    "print(blr.w_)\n",
    "yhat = blr.predict(X_test)\n",
    "print('Accuracy of Vectorized Programing for Regression: ', accuracy_score(y_test,yhat))"
   ]
  },
  {
   "cell_type": "markdown",
   "metadata": {},
   "source": [
    "One-versus-all to program a Multicalss Logistic Regression"
   ]
  },
  {
   "cell_type": "code",
   "execution_count": 12,
   "metadata": {},
   "outputs": [
    {
     "name": "stdout",
     "output_type": "stream",
     "text": [
      "Untrained MultiClass Logistic Regression Object\n"
     ]
    }
   ],
   "source": [
    "class LogisticRegression:\n",
    "    def __init__(self, eta, iterations=20):\n",
    "        self.eta = eta\n",
    "        self.iters = iterations\n",
    "\n",
    "    def __str__(self):\n",
    "        if (hasattr(self, 'w_')):\n",
    "            # is we have trained the object\n",
    "            return 'MultiClass Logistic Regression Object with coefficients:\\n' + str(self.w_)\n",
    "        else:\n",
    "            return 'Untrained MultiClass Logistic Regression Object'\n",
    "\n",
    "    def fit(self, X, y):\n",
    "        num_samples, num_features = X.shape\n",
    "        self.unique_ = np.unique(y)  # get each unique class value\n",
    "        num_unique_classes = len(self.unique_)\n",
    "        self.classifiers_ = []  # will fill this array with binary classifiers\n",
    "\n",
    "        for i, yval in enumerate(self.unique_):  # for each unique value\n",
    "            y_binary = (y == yval)  # create a binary problem\n",
    "            # train the binary classifier for this class\n",
    "            blr = VectorBinaryLogisticRegression(self.eta,\n",
    "                                                 self.iters)\n",
    "            blr.fit(X, y_binary)\n",
    "            # add the trained classifier to the list\n",
    "            self.classifiers_.append(blr)\n",
    "\n",
    "        # save all the weights into one matrix, separate column for each class\n",
    "        self.w_ = np.hstack([x.w_ for x in self.classifiers_]).T\n",
    "\n",
    "    def predict_proba(self, X):\n",
    "        probs = []\n",
    "        for blr in self.classifiers_:\n",
    "            # get probability for each classifier\n",
    "            probs.append(blr.predict_proba(X))\n",
    "\n",
    "        return np.hstack(probs)  # make into single matrix\n",
    "\n",
    "    def predict(self, X):\n",
    "        # take argmax along row\n",
    "        return self.unique_[np.argmax(self.predict_proba(X), axis=1)]\n",
    "\n",
    "\n",
    "lr = LogisticRegression(0.1, 1500)\n",
    "print(lr)"
   ]
  },
  {
   "cell_type": "code",
   "execution_count": 13,
   "metadata": {},
   "outputs": [
    {
     "name": "stdout",
     "output_type": "stream",
     "text": [
      "MultiClass Logistic Regression Object with coefficients:\n",
      "[[-0.01174409 -0.06053577  0.49916394  0.68773908 -0.32374941  0.24576778\n",
      "   0.11727782 -0.01352371 -0.20394337]\n",
      " [ 0.01174409  0.06053577 -0.49916394 -0.68773908  0.32374941 -0.24576778\n",
      "  -0.11727782  0.01352371  0.20394337]]\n",
      "Accuracy of using original dataset:  0.8008363826450601\n",
      "=====================================\n",
      "MultiClass Logistic Regression Object with coefficients:\n",
      "[[-0.01174409 -0.06053577  0.49916394  0.68773908 -0.32374941  0.24576778\n",
      "   0.11727782 -0.01352371 -0.20394337]\n",
      " [ 0.01174409  0.06053577 -0.49916394 -0.68773908  0.32374941 -0.24576778\n",
      "  -0.11727782  0.01352371  0.20394337]]\n",
      "Accuracy of using PCA dataset:  0.8008363826450601\n",
      "=====================================\n",
      "MultiClass Logistic Regression Object with coefficients:\n",
      "[[-0.01174409 -0.06053577  0.49916394  0.68773908 -0.32374941  0.24576778\n",
      "   0.11727782 -0.01352371 -0.20394337]\n",
      " [ 0.01174409  0.06053577 -0.49916394 -0.68773908  0.32374941 -0.24576778\n",
      "  -0.11727782  0.01352371  0.20394337]]\n",
      "Accuracy of using Data using Cross Validation 0.8008363826450601\n"
     ]
    }
   ],
   "source": [
    "# Use original data\n",
    "X = features\n",
    "y = labels\n",
    "\n",
    "lr = LogisticRegression(**params)\n",
    "lr.fit(X_train, y_train)\n",
    "print(lr)\n",
    "\n",
    "yhat = lr.predict(X_test)\n",
    "print('Accuracy of using original dataset: ', accuracy_score(y_test, yhat))\n",
    "print(\"=====================================\")\n",
    "\n",
    "\n",
    "# Use PCA data without cross validation\n",
    "X = pca_feature\n",
    "y = labels\n",
    "\n",
    "lr = LogisticRegression(**params)\n",
    "lr.fit(X_train, y_train)\n",
    "print(lr)\n",
    "\n",
    "yhat = lr.predict(X_test)\n",
    "print('Accuracy of using PCA dataset: ', accuracy_score(y_test, yhat))\n",
    "print(\"=====================================\")\n",
    "\n",
    "# Use PCA data with cross validation\n",
    "# binary classification data\n",
    "for train_indices, test_indices in split_indices:\n",
    "    X_train, y_train = pca_feature[train_indices], labels[train_indices]\n",
    "    X_test, y_test = pca_feature[test_indices], labels[test_indices]\n",
    "\n",
    "lr = LogisticRegression(**params)\n",
    "lr.fit(X_train, y_train)\n",
    "print(lr)\n",
    "\n",
    "yhat = lr.predict(X_test)\n",
    "print('Accuracy of using Data using Cross Validation',\n",
    "      accuracy_score(y_test, yhat))"
   ]
  },
  {
   "cell_type": "markdown",
   "metadata": {},
   "source": [
    "**Observation:** \n",
    "- The multiclass classifier maintains consistent accuracy across the three distinct datasets. This consistency may indicate that the key features crucial for classification are retained, even after the dimensionality reduction achieved through PCA. The principal components preserved seem to encapsulate the majority of variance and the essential characteristics crucial for effective classification.\n",
    "- The consistent accuracy across different datasets suggests that the model generalizes well. This is particularly highlighted by the cross-validation process, which involves training and testing the model on various data subsets, yielding similar accuracy comparable to that obtained with the original dataset. This consistency suggests that the model is not overly fitted to particular characteristics of the training data.\n",
    "- Therefore, we will proceed with our analysis using the data post-cross-validation.\n"
   ]
  },
  {
   "cell_type": "markdown",
   "metadata": {},
   "source": [
    "Logistic Regression Class Boundaries"
   ]
  },
  {
   "cell_type": "code",
   "execution_count": 14,
   "metadata": {},
   "outputs": [
    {
     "data": {
      "image/png": "[encoded data removed]",
      "text/plain": [
       "<Figure size 640x480 with 1 Axes>"
      ]
     },
     "metadata": {},
     "output_type": "display_data"
    }
   ],
   "source": [
    "# linear boundaries visualization from sklearn documentation\n",
    "from matplotlib import pyplot as plt\n",
    "import copy\n",
    "%matplotlib inline\n",
    "plt.style.use('ggplot')\n",
    "\n",
    "def plot_decision_boundaries(lr,Xin,y,title=''):\n",
    "    Xb = copy.deepcopy(Xin)\n",
    "    lr.fit(Xb[:,:2],y) # train only on two features\n",
    "\n",
    "    h=0.01\n",
    "    # create a mesh to plot in\n",
    "    x_min, x_max = Xb[:, 0].min() - 1, Xb[:, 0].max() + 1\n",
    "    y_min, y_max = Xb[:, 1].min() - 1, Xb[:, 1].max() + 1\n",
    "    xx, yy = np.meshgrid(np.arange(x_min, x_max, h),\n",
    "                         np.arange(y_min, y_max, h))\n",
    "\n",
    "    # get prediction values\n",
    "    Z = lr.predict(np.c_[xx.ravel(), yy.ravel()])\n",
    "\n",
    "    # Put the result into a color plot\n",
    "    Z = Z.reshape(xx.shape)\n",
    "    plt.contourf(xx, yy, Z, cmap=plt.cm.Paired, alpha=0.5)\n",
    "\n",
    "    # Plot also the training points\n",
    "    plt.scatter(Xb[:, 0], Xb[:, 1], c=y, cmap=plt.cm.Paired)\n",
    "    plt.xlabel('')\n",
    "    plt.ylabel('')\n",
    "    plt.xlim(xx.min(), xx.max())\n",
    "    plt.ylim(yy.min(), yy.max())\n",
    "    plt.xticks(())\n",
    "    plt.yticks(())\n",
    "    plt.title(title)\n",
    "    plt.show()\n",
    "    \n",
    "lr = LogisticRegression(0.1,1500) # OUR LR implementation\n",
    "plot_decision_boundaries(lr,X,y)"
   ]
  },
  {
   "cell_type": "markdown",
   "metadata": {},
   "source": [
    "Introduce the L2-Norm parameter into the objective function to maintain relatively small weight values, aiming to mitigate overfitting. Modify the objective function by incorporating a new summation term for the weights, which reduces their maximum values when the weights become large.\n",
    "\n",
    "To apply this theory, utilize C as the hyperparameter to balance the optimization of the previous function with the objective of maintaining small weights.\n"
   ]
  },
  {
   "cell_type": "code",
   "execution_count": 15,
   "metadata": {},
   "outputs": [],
   "source": [
    "class RegularizedBinaryLogisticRegression(VectorBinaryLogisticRegression):\n",
    "    # extend init functions\n",
    "    def __init__(self, C=0.0, **kwds):\n",
    "        # need to add to the original initializer\n",
    "        self.C = C\n",
    "        # but keep other keywords\n",
    "        super().__init__(**kwds)  # call parent initializer\n",
    "\n",
    "    # extend previous class to change functionality\n",
    "    def _get_gradient(self, X, y):\n",
    "        # call get gradient from previous class\n",
    "        gradient = super()._get_gradient(X, y)\n",
    "\n",
    "        # add in regularization (to all except bias term)\n",
    "        gradient[1:] += -2 * self.w_[1:] * self.C\n",
    "        return gradient"
   ]
  },
  {
   "cell_type": "code",
   "execution_count": 16,
   "metadata": {},
   "outputs": [],
   "source": [
    "# now redefine the Logistic Regression Function where needed\n",
    "class RegularizedLogisticRegression(LogisticRegression):\n",
    "    def __init__(self, C=0.0, **kwds):        \n",
    "        self.C = C\n",
    "        super().__init__(**kwds)\n",
    "        \n",
    "    def fit(self,X,y):\n",
    "        num_samples, num_features = X.shape\n",
    "        self.unique_ = np.unique(y) \n",
    "        num_unique_classes = len(self.unique_)\n",
    "        self.classifiers_ = [] # will fill this array with binary classifiers\n",
    "        \n",
    "        for i,yval in enumerate(self.unique_): # for each unique value\n",
    "            y_binary = y==yval # create a binary problem\n",
    "            blr = RegularizedBinaryLogisticRegression(eta=self.eta,\n",
    "                                                      iterations=self.iters,\n",
    "                                                      C=self.C)\n",
    "            blr.fit(X,y_binary)\n",
    "            # add the trained classifier to the list\n",
    "            self.classifiers_.append(blr)\n",
    "            \n",
    "        # save all the weights into one matrix, separate column for each class\n",
    "        # now redefine the Logistic Regression Function where needed\n",
    "        self.w_ = np.hstack([x.w_ for x in self.classifiers_]).T"
   ]
  },
  {
   "cell_type": "code",
   "execution_count": 17,
   "metadata": {},
   "outputs": [
    {
     "data": {
      "application/vnd.jupyter.widget-view+json": {
       "model_id": "0ff6770765e9441990e6bc6f5f0167c0",
       "version_major": 2,
       "version_minor": 0
      },
      "text/plain": [
       "interactive(children=(IntSlider(value=7, description='cost_idx', max=14), Output()), _dom_classes=('widget-int…"
      ]
     },
     "metadata": {},
     "output_type": "display_data"
    },
    {
     "data": {
      "text/plain": [
       "<function __main__.lr_explor(cost_idx)>"
      ]
     },
     "execution_count": 17,
     "metadata": {},
     "output_type": "execute_result"
    }
   ],
   "source": [
    "from ipywidgets import widgets as wd\n",
    "\n",
    "cost_vals = np.logspace(-3, 1, 15) # 15 values from 0.001 to 10\n",
    "\n",
    "\n",
    "def lr_explor(cost_idx): \n",
    "    C = cost_vals[cost_idx]\n",
    "    lr_clf = RegularizedLogisticRegression(eta=0.1,\n",
    "                                           # lots of iterations (to help overfit)\n",
    "                                           iterations=2500,\n",
    "                                           C=C)  # get object\n",
    "\n",
    "    plot_decision_boundaries(lr_clf, X, y, title=\"C=%.5f\" % (C))\n",
    "    plt.show()\n",
    "\n",
    "\n",
    "wd.interact(lr_explor, cost_idx=(0, 14, 1), __manual=True)\n",
    "\n",
    "# what happens when C gets too large??\n",
    "# let's explore the different values and see what happens"
   ]
  },
  {
   "cell_type": "markdown",
   "metadata": {},
   "source": [
    "###  Implemente optimization techniques\n",
    "- Use a line search along gradient direction to find the right value of eta\n",
    "    - Optimize eta, with all inputs constant\n",
    "    - Do line search in gradient direction, using scipy function\n",
    "    - Scipy minimize_scaler to optimize the obeject function, bounds and speed\n",
    "    - Get the optimal learning rate\n",
    "- Update the gradient calculation to include a customizable regularization term using L2 \n",
    " regularization. Set up **C** that can be adjusted when the class is instantiated.  \n",
    "- Recall: For logistic regression, the regularization term \"C\" plays a crucial role in controlling overfitting and underfitting as it controls how the gridents will move.\n",
    "\n",
    "- Experimenting with various solver methods— stochastic gradient ascent, and Newton's method—when the class is instantiated"
   ]
  },
  {
   "cell_type": "code",
   "execution_count": 18,
   "metadata": {},
   "outputs": [],
   "source": [
    "class BinaryLogisticRegression:\n",
    "    def __init__(self, eta, iterations=20, C=0.001):\n",
    "        self.eta = eta\n",
    "        self.iters = iterations\n",
    "        self.C = C\n",
    "        # internally we will store the weights as self.w_ to keep with sklearn conventions\n",
    "\n",
    "    def __str__(self):\n",
    "        if (hasattr(self, 'w_')):\n",
    "            return 'Binary Logistic Regression Object with coefficients:\\n' + str(self.w_)\n",
    "        else:\n",
    "            return 'Untrained Binary Logistic Regression Object'\n",
    "\n",
    "    # convenience, private:\n",
    "    @staticmethod\n",
    "    def _add_bias(X):\n",
    "        return np.hstack((np.ones((X.shape[0], 1)), X))  # add bias term\n",
    "\n",
    "    @staticmethod\n",
    "    def _sigmoid(theta):\n",
    "        # increase stability, redefine sigmoid operation\n",
    "        return expit(theta)  # 1/(1+np.exp(-theta))\n",
    "\n",
    "    # vectorized gradient calculation with regularization using L2 Norm\n",
    "    def _get_gradient(self, X, y):\n",
    "        # get y difference\n",
    "        ydiff = y-self.predict_proba(X, add_bias=False).ravel()\n",
    "        # convert ydiff to a NumPy array\n",
    "        ydiff = np.array(ydiff)\n",
    "        # make ydiff a column vector and multiply through\n",
    "        gradient = np.mean(X * ydiff[:, np.newaxis], axis=0)\n",
    "        gradient = gradient.reshape(self.w_.shape)\n",
    "        gradient[1:] += -2 * self.w_[1:] * self.C\n",
    "\n",
    "        return gradient\n",
    "\n",
    "    # public:\n",
    "    def predict_proba(self, X, add_bias=True):\n",
    "        # add bias term if requested\n",
    "        Xb = self._add_bias(X) if add_bias else X\n",
    "        return self._sigmoid(Xb @ self.w_)  # return the probability y=1\n",
    "\n",
    "    def predict(self, X):\n",
    "        return (self.predict_proba(X) > 0.5)  # return the actual prediction\n",
    "\n",
    "    def fit(self, X, y):\n",
    "        Xb = self._add_bias(X)  # add bias term\n",
    "        num_samples, num_features = Xb.shape\n",
    "\n",
    "        self.w_ = np.zeros((num_features, 1))  # init weight vector to zeros\n",
    "\n",
    "        # for as many as the max iterations\n",
    "        for _ in range(self.iters):\n",
    "            gradient = self._get_gradient(Xb, y)\n",
    "            self.w_ += gradient*self.eta  # multiply by learning rate\n",
    "            # add bacause maximizing\n",
    "\n"
   ]
  },
  {
   "cell_type": "code",
   "execution_count": 19,
   "metadata": {},
   "outputs": [
    {
     "name": "stdout",
     "output_type": "stream",
     "text": [
      "Binary Logistic Regression Object with coefficients:\n",
      "[[ 0.01170836]\n",
      " [ 0.06051586]\n",
      " [-0.50016486]\n",
      " [-0.68890173]\n",
      " [ 0.32397866]\n",
      " [-0.24565813]\n",
      " [-0.11706284]\n",
      " [ 0.01350007]\n",
      " [ 0.20346327]]\n",
      "Accuracy of:  0.8008363826450601\n",
      "CPU times: user 303 ms, sys: 54 ms, total: 357 ms\n",
      "Wall time: 52.6 ms\n"
     ]
    }
   ],
   "source": [
    "%%time\n",
    "# binary classification data\n",
    "for train_indices, test_indices in split_indices:\n",
    "    X_train, y_train = pca_feature[train_indices], (labels[train_indices] > 1)\n",
    "    X_test, y_test = pca_feature[test_indices], (labels[test_indices] > 1)\n",
    "\n",
    "\n",
    "blr = BinaryLogisticRegression(eta=0.1, iterations=50, C=0.001)\n",
    "\n",
    "\n",
    "blr.fit(X_train, y_train)\n",
    "print(blr)\n",
    "\n",
    "\n",
    "yhat = blr.predict(X_test)\n",
    "\n",
    "print('Accuracy of: ', accuracy_score(y_test, yhat))"
   ]
  },
  {
   "cell_type": "code",
   "execution_count": 20,
   "metadata": {},
   "outputs": [
    {
     "name": "stdout",
     "output_type": "stream",
     "text": [
      "eta:  1.0\n",
      "Binary Logistic Regression Object with coefficients:\n",
      "[[ 0.09367245]\n",
      " [ 0.04085417]\n",
      " [-0.74545174]\n",
      " [-1.23769665]\n",
      " [ 0.67240934]\n",
      " [-0.55647988]\n",
      " [-0.27388939]\n",
      " [ 0.02347206]\n",
      " [ 0.47391496]]\n",
      "Accuracy of:  0.8154730789336121\n",
      "CPU times: user 366 ms, sys: 78.1 ms, total: 444 ms\n",
      "Wall time: 62.6 ms\n"
     ]
    }
   ],
   "source": [
    "%%time\n",
    "#use a line search along the gradient direction:\n",
    "from scipy.optimize import minimize_scalar\n",
    "import copy\n",
    "# (masked array) this has most numpy functions that work with NaN data.\n",
    "from numpy import ma\n",
    "\n",
    "\n",
    "class LineSearchLogisticRegression(BinaryLogisticRegression):\n",
    "\n",
    "    # define custom line search for problem\n",
    "    def __init__(self, line_iters=0.0, **kwds):\n",
    "        self.line_iters = line_iters\n",
    "        # but keep other keywords\n",
    "        super().__init__(**kwds)  # call parent initializer\n",
    "\n",
    "    # this defines the function with the first input to be optimized\n",
    "    # therefore eta will be optimized, with all inputs constant\n",
    "    @staticmethod\n",
    "    def objective_function(eta, X, y, w, grad, C):\n",
    "        wnew = w - grad*eta\n",
    "        g = expit(X @ wnew)\n",
    "        # the line search is looking for minimization, so take the negative of l(w)\n",
    "        return -np.sum(ma.log(g[y == 1]))-ma.sum(ma.log(1-g[y == 0])) + C*sum(wnew**2)\n",
    "\n",
    "    def fit(self, X, y):\n",
    "        Xb = self._add_bias(X)  # add bias term\n",
    "        num_samples, num_features = Xb.shape\n",
    "\n",
    "        self.w_ = np.zeros((num_features, 1))  # init weight vector to zeros\n",
    "\n",
    "        # for as many as the max iterations\n",
    "        for _ in range(self.iters):\n",
    "            gradient = -self._get_gradient(Xb, y)\n",
    "            # minimization is in opposite direction\n",
    "\n",
    "            # do line search in gradient direction, using scipy function\n",
    "            # unclear exactly what this should be\n",
    "            opts = {'maxiter': self.line_iters}\n",
    "            res = minimize_scalar(self.objective_function,  # objective function to optimize\n",
    "                                  # bounds to optimize\n",
    "                                  bounds=(0, self.eta*10),\n",
    "                                  # additional argument for objective function\n",
    "                                  args=(Xb, y, self.w_, gradient, self.C),\n",
    "                                  method='bounded',  # bounded optimization for speed\n",
    "                                  options=opts)  # set max iterations\n",
    "\n",
    "            eta = res.x  # get optimal learning rate\n",
    "            self.w_ -= gradient*eta  # set new function values\n",
    "            # subtract to minimize\n",
    "\n",
    "\n",
    "lslr = LineSearchLogisticRegression(eta=1.0,\n",
    "                                    iterations=6,\n",
    "                                    line_iters=8,\n",
    "                                    C=0.001)\n",
    "\n",
    "lslr.fit(X_train, y_train)\n",
    "\n",
    "yhat = lslr.predict(X_test)\n",
    "print(\"eta: \", lslr.eta)\n",
    "print(lslr)\n",
    "print('Accuracy of: ', accuracy_score(y_test,yhat))         "
   ]
  },
  {
   "cell_type": "markdown",
   "metadata": {},
   "source": [
    "**Observation:** Performance has improved slightly, but not too much faster, mostly because $\\eta$ was chosen well in the initial example"
   ]
  },
  {
   "cell_type": "markdown",
   "metadata": {},
   "source": [
    "### Stochastic Gradient Descent\n",
    "When calculating the gradient becomes too computationally intensive with large datasets, we can approximate the gradient using a single instance, with the underlying theory supporting the notion that the steps may appear somewhat random"
   ]
  },
  {
   "cell_type": "code",
   "execution_count": 21,
   "metadata": {},
   "outputs": [
    {
     "name": "stdout",
     "output_type": "stream",
     "text": [
      "Binary Logistic Regression Object with coefficients:\n",
      "[[-0.01478173]\n",
      " [ 0.04631331]\n",
      " [-0.4001288 ]\n",
      " [-0.50357488]\n",
      " [ 0.23318346]\n",
      " [-0.15733512]\n",
      " [-0.08406285]\n",
      " [ 0.00869755]\n",
      " [ 0.12281681]]\n",
      "Accuracy of:  0.7945635128071092\n"
     ]
    }
   ],
   "source": [
    "class StochasticLogisticRegression(BinaryLogisticRegression):\n",
    "    # stochastic gradient calculation\n",
    "    def _get_gradient(self, X, y):\n",
    "\n",
    "        # grab a subset of samples in a mini-batch\n",
    "        # and calculate the gradient according to the small batch only\n",
    "        mini_batch_size = 16\n",
    "        idxs = np.random.choice(len(y), mini_batch_size)\n",
    "\n",
    "        # get y difference (now scalar)\n",
    "        ydiff = y[idxs]-self.predict_proba(X[idxs], add_bias=False).ravel()\n",
    "        # convert ydiff to a NumPy array\n",
    "        ydiff = np.array(ydiff)\n",
    "        # make ydiff a column vector and multiply through\n",
    "        gradient = np.mean(X[idxs] * ydiff[:, np.newaxis], axis=0)\n",
    "\n",
    "        gradient = gradient.reshape(self.w_.shape)\n",
    "        gradient[1:] += -2 * self.w_[1:] * self.C\n",
    "\n",
    "        return gradient\n",
    "\n",
    "\n",
    "slr = StochasticLogisticRegression(\n",
    "    eta=0.01, iterations=300, C=0.001)  # take a lot more steps!!\n",
    "\n",
    "slr.fit(X_train, y_train)\n",
    "\n",
    "yhat = slr.predict(X_test)\n",
    "print(slr)\n",
    "print('Accuracy of: ', accuracy_score(y_test,yhat))      "
   ]
  },
  {
   "cell_type": "markdown",
   "metadata": {},
   "source": [
    "### Newton's Update Method - Hessian\n",
    "- In multiple dimensions when dealing with functions of several variables, this involves using the Hessian matrix (a square matrix of second-order partial derivatives of the function) and the gradient of the function. This method is used to find points where the function reaches its local maxima or minima. The inclusion of the Hessian allows Newton's method to consider the curvature of the function, potentially leading to faster convergence compared to methods that only use the first derivative, such as Gradient Descent.\n",
    "\n",
    "References:\n",
    "- https://www.quora.com/Why-is-Newtons-method-only-appropriate-when-the-Hessian-is-positive-definite\n",
    "- https://www.khanacademy.org/math/multivariable-calculus/applications-of-multivariable-derivatives/quadratic-approximations/a/the-hessian\n",
    "\n"
   ]
  },
  {
   "cell_type": "code",
   "execution_count": 22,
   "metadata": {},
   "outputs": [
    {
     "name": "stdout",
     "output_type": "stream",
     "text": [
      "Binary Logistic Regression Object with coefficients:\n",
      "[[ 0.23638944]\n",
      " [ 0.09982295]\n",
      " [-1.00021084]\n",
      " [-1.74812429]\n",
      " [ 1.05315017]\n",
      " [-0.98454332]\n",
      " [-0.67658935]\n",
      " [ 0.05085698]\n",
      " [ 1.49621441]]\n",
      "Accuracy of:  0.8332462101411395\n"
     ]
    }
   ],
   "source": [
    "# code Hessian up using numpy:\n",
    "\n",
    "from numpy.linalg import pinv\n",
    "\n",
    "\n",
    "class HessianBinaryLogisticRegression(BinaryLogisticRegression):\n",
    "    # just overwrite gradient function\n",
    "    def _get_gradient(self, X, y):\n",
    "        # get sigmoid value for all classes\n",
    "        g = self.predict_proba(X, add_bias=False).ravel()\n",
    "        hessian = X.T @ np.diag(g*(1-g)) @ X - 2 * \\\n",
    "            self.C  # calculate the hessian\n",
    "\n",
    "        ydiff = y-g  # get y difference\n",
    "        # convert ydiff to a NumPy array\n",
    "        ydiff = np.array(ydiff)\n",
    "        # make ydiff a column vector and multiply through\n",
    "        gradient = np.sum(X * ydiff[:, np.newaxis], axis=0)\n",
    "        gradient = gradient.reshape(self.w_.shape)\n",
    "        gradient[1:] += -2 * self.w_[1:] * self.C\n",
    "\n",
    "        return pinv(hessian) @ gradient\n",
    "\n",
    "\n",
    "hlr = HessianBinaryLogisticRegression(eta=1.0,\n",
    "                                      iterations=4,\n",
    "                                      C=0.001)  # note that we need only a few iterations here\n",
    "\n",
    "hlr.fit(X_train, y_train)\n",
    "yhat = hlr.predict(X_test)\n",
    "print(hlr)\n",
    "print('Accuracy of: ', accuracy_score(y_test,yhat))\n"
   ]
  },
  {
   "cell_type": "markdown",
   "metadata": {},
   "source": [
    "**Observation:**\n",
    "Stochastic Gradient Descent exhibits relatively lower accuracy compared to other methods. The Newton's Update method, utilizing the Hessian matrix, performs the best, achieving the highest accuracy. Therefore, it is advisable to construct the Multiclass Classifier using the Hessian-based approach for enhanced performance."
   ]
  },
  {
   "cell_type": "code",
   "execution_count": 23,
   "metadata": {},
   "outputs": [
    {
     "name": "stdout",
     "output_type": "stream",
     "text": [
      "Binary Logistic Regression Object with coefficients:\n",
      "[[ 0.01535405]\n",
      " [ 0.07412901]\n",
      " [-0.78817433]\n",
      " [-1.0732757 ]\n",
      " [ 0.48730721]\n",
      " [-0.35556927]\n",
      " [-0.16370402]\n",
      " [ 0.01889513]\n",
      " [ 0.28151004]]\n",
      "Accuracy of:  0.796131730266597\n"
     ]
    }
   ],
   "source": [
    "\n",
    "from scipy.optimize import fmin_bfgs\n",
    "from scipy.optimize import fmin_bfgs\n",
    "from numpy import ma\n",
    "\n",
    "\n",
    "class BFGSBinaryLogisticRegression(BinaryLogisticRegression):\n",
    "\n",
    "    @staticmethod\n",
    "    def objective_function(w, X, y, C):\n",
    "        g = expit(X @ w)\n",
    "        # invert this because scipy minimizes, but we derived all formulas for maximzing\n",
    "        return -ma.sum(ma.log(g[y == 1]))-ma.sum(ma.log(1-g[y == 0])) + C*sum(w**2)\n",
    "        # -np.sum(y*np.log(g)+(1-y)*np.log(1-g))\n",
    "\n",
    "    @staticmethod\n",
    "    def objective_gradient(w, X, y, C):\n",
    "        g = expit(X @ w)\n",
    "        ydiff = y-g  # get y difference\n",
    "        # convert ydiff to a NumPy array\n",
    "        ydiff = np.array(ydiff)\n",
    "        gradient = np.mean(X * ydiff[:, np.newaxis], axis=0)\n",
    "        gradient = gradient.reshape(w.shape)\n",
    "        gradient[1:] += -2 * w[1:] * C\n",
    "        return -gradient\n",
    "\n",
    "    # just overwrite fit function\n",
    "    def fit(self, X, y):\n",
    "        Xb = self._add_bias(X)  # add bias term\n",
    "        num_samples, num_features = Xb.shape\n",
    "\n",
    "        self.w_ = fmin_bfgs(self.objective_function,  # what to optimize\n",
    "                            np.zeros((num_features, 1)),  # starting point\n",
    "                            fprime=self.objective_gradient,  # gradient function\n",
    "                            # extra args for gradient and objective function\n",
    "                            args=(Xb, y, self.C),\n",
    "                            gtol=1e-03,  # stopping criteria for gradient, |v_k|\n",
    "                            maxiter=self.iters,  # stopping criteria iterations\n",
    "                            disp=False)\n",
    "\n",
    "        self.w_ = self.w_.reshape((num_features, 1))\n",
    "\n",
    "\n",
    "# note that we need only a few iterations here\n",
    "bfgslr = BFGSBinaryLogisticRegression(_, iterations=3, C=0.001)\n",
    "\n",
    "bfgslr.fit(X_train, y_train)\n",
    "yhat = bfgslr.predict(X_test)\n",
    "print(bfgslr)\n",
    "print('Accuracy of: ', accuracy_score(y_test,yhat))"
   ]
  },
  {
   "cell_type": "code",
   "execution_count": 24,
   "metadata": {},
   "outputs": [],
   "source": [
    "class MultiClassLogisticRegression:\n",
    "    def __init__(self, eta, iterations=20,\n",
    "                 C=0.0001,\n",
    "                 solver=BFGSBinaryLogisticRegression):\n",
    "        self.eta = eta\n",
    "        self.iters = iterations\n",
    "        self.C = C\n",
    "        self.solver = solver\n",
    "        self.classifiers_ = []\n",
    "        # internally we will store the weights as self.w_ to keep with sklearn conventions\n",
    "\n",
    "    def __str__(self):\n",
    "        if (hasattr(self, 'w_')):\n",
    "            # is we have trained the object\n",
    "            return 'MultiClass Logistic Regression Object with coefficients:\\n' + str(self.w_)\n",
    "        else:\n",
    "            return 'Untrained MultiClass Logistic Regression Object'\n",
    "\n",
    "    def fit(self, X, y):\n",
    "        num_samples, num_features = X.shape\n",
    "        self.unique_ = np.sort(np.unique(y))  # get each unique class value\n",
    "        num_unique_classes = len(self.unique_)\n",
    "        self.classifiers_ = []\n",
    "        for i, yval in enumerate(self.unique_):  # for each unique value\n",
    "            y_binary = np.array(y == yval).astype(\n",
    "                int)  # create a binary problem\n",
    "            # train the binary classifier for this class\n",
    "\n",
    "            hblr = self.solver(eta=self.eta, iterations=self.iters, C=self.C)\n",
    "            hblr.fit(X, y_binary)\n",
    "\n",
    "            # add the trained classifier to the list\n",
    "            self.classifiers_.append(hblr)\n",
    "\n",
    "        # save all the weights into one matrix, separate column for each class\n",
    "        self.w_ = np.hstack([x.w_ for x in self.classifiers_]).T\n",
    "\n",
    "    def predict_proba(self, X):\n",
    "        probs = []\n",
    "        for hblr in self.classifiers_:\n",
    "            # get probability for each classifier\n",
    "            probs.append(hblr.predict_proba(X).reshape((len(X), 1)))\n",
    "\n",
    "        return np.hstack(probs)  # make into single matrix\n",
    "\n",
    "    def predict(self, X):\n",
    "        return self.unique_[np.argmax(self.predict_proba(X), axis=1)] # take argmax along row"
   ]
  },
  {
   "cell_type": "code",
   "execution_count": 25,
   "metadata": {},
   "outputs": [
    {
     "name": "stdout",
     "output_type": "stream",
     "text": [
      "MultiClass Logistic Regression Object with coefficients:\n",
      "[[-0.23801312 -0.10016086  1.00354372  1.7543245  -1.05701163  0.98820404\n",
      "   0.67876754 -0.05088131 -1.50072152]\n",
      " [ 0.23801312  0.10016086 -1.00354372 -1.7543245   1.05701163 -0.98820404\n",
      "  -0.67876754  0.05088131  1.50072152]]\n",
      "Accuracy of:  0.8332462101411395\n"
     ]
    }
   ],
   "source": [
    "# train the MultiClass classifier\n",
    "for train_indices, test_indices in split_indices:\n",
    "    X_train, y_train = pca_feature[train_indices], (labels[train_indices])\n",
    "    X_test, y_test = pca_feature[test_indices], (labels[test_indices])\n",
    "\n",
    "lr = MultiClassLogisticRegression(eta=1.0,\n",
    "                                  iterations=5,\n",
    "                                  C=0.001,\n",
    "                                  solver=HessianBinaryLogisticRegression\n",
    "                                  )\n",
    "lr.fit(X_train, y_train)\n",
    "print(lr)\n",
    "\n",
    "yhat = lr.predict(X_test)\n",
    "print('Accuracy of: ', accuracy_score(y_test, yhat))"
   ]
  },
  {
   "cell_type": "markdown",
   "metadata": {},
   "source": [
    "**Observation:**\n",
    "Accuracy improved from approximately 0.8 using the objective-oriented logistic function to approximately 0.833 after employing the Hessian optimization with SciPy."
   ]
  },
  {
   "cell_type": "markdown",
   "metadata": {},
   "source": [
    "### 2.2 Train your classifier to achieve good generalization performance. \n",
    "Ajust the optimization technique and the value of the regularization term(s) \"C\" to achieve the best performance on the test set.\n",
    "Visualize the performance of the classifier versus the parameters that is investigated.\n"
   ]
  },
  {
   "cell_type": "code",
   "execution_count": 26,
   "metadata": {},
   "outputs": [
    {
     "name": "stdout",
     "output_type": "stream",
     "text": [
      "C=0.001: Validation Accuracy=0.833\n",
      "C=0.0026826957952797246: Validation Accuracy=0.833\n",
      "C=0.0071968567300115215: Validation Accuracy=0.833\n",
      "C=0.019306977288832496: Validation Accuracy=0.833\n",
      "C=0.0517947467923121: Validation Accuracy=0.833\n",
      "C=0.13894954943731375: Validation Accuracy=0.833\n",
      "C=0.3727593720314938: Validation Accuracy=0.833\n",
      "C=1.0: Validation Accuracy=0.833\n",
      "C=2.6826957952797246: Validation Accuracy=0.835\n",
      "C=7.196856730011514: Validation Accuracy=0.834\n",
      "C=19.306977288832496: Validation Accuracy=0.833\n",
      "C=51.794746792312125: Validation Accuracy=0.613\n",
      "C=138.9495494373136: Validation Accuracy=0.631\n",
      "C=372.7593720314938: Validation Accuracy=0.710\n",
      "C=1000.0: Validation Accuracy=0.645\n",
      "Best C=2.6826957952797246: Test Set Accuracy=0.8348144276006273\n"
     ]
    }
   ],
   "source": [
    "for train_indices, test_indices in split_indices:\n",
    "    X_train, y_train = pca_feature[train_indices], (labels[train_indices])\n",
    "    X_test, y_test = pca_feature[test_indices], (labels[test_indices])\n",
    "\n",
    "# Set up the range of \"C\" values to explore\n",
    "C_vals = np.logspace(-3, 3, 15)  # from 0.001 to 1000\n",
    "best_accuracy = 0\n",
    "best_C = None\n",
    "accuracies = []  # List to store the accuracy for each value of C\n",
    "\n",
    "# Iterate over all values of C\n",
    "for C in C_vals:\n",
    "    lr = MultiClassLogisticRegression(eta=1.0,\n",
    "                                      iterations=5,\n",
    "                                      C=C,\n",
    "                                      solver=HessianBinaryLogisticRegression\n",
    "                                      )\n",
    "    lr.fit(X_train, y_train)\n",
    "    yhat = lr.predict(X_test)\n",
    "    accuracy = accuracy_score(y_test, yhat)\n",
    "    accuracies.append(accuracy)\n",
    "    print(f\"C={C}: Validation Accuracy={accuracy:.3f}\")\n",
    "\n",
    "    if accuracy > best_accuracy:\n",
    "        best_accuracy = accuracy\n",
    "        best_C = C\n",
    "        \n",
    "# Retrain the model using the best C value\n",
    "lr = MultiClassLogisticRegression(eta=1.0,\n",
    "                                  iterations=5,\n",
    "                                  C=best_C,\n",
    "                                  solver=HessianBinaryLogisticRegression\n",
    "                                  )\n",
    "lr.fit(X_train, y_train)\n",
    "yhat = lr.predict(X_test)\n",
    "final_accuracy = accuracy_score(y_test, yhat)\n",
    "print(f\"Best C={best_C}: Test Set Accuracy={final_accuracy}\")"
   ]
  },
  {
   "cell_type": "markdown",
   "metadata": {},
   "source": [
    "Visualize the performance of the classifier versus the \"C\" parameter"
   ]
  },
  {
   "cell_type": "code",
   "execution_count": 27,
   "metadata": {},
   "outputs": [
    {
     "data": {
      "image/png": "[encoded data removed]",
      "text/plain": [
       "<Figure size 1000x600 with 1 Axes>"
      ]
     },
     "metadata": {},
     "output_type": "display_data"
    }
   ],
   "source": [
    "import matplotlib.pyplot as plt\n",
    "\n",
    "# Plot the accuracy vs C values\n",
    "plt.figure(figsize=(10, 6))\n",
    "plt.plot(C_vals, accuracies, marker='o', linestyle='-', color='b')\n",
    "plt.xscale('log') # Because C values are in log scale\n",
    "plt.title('Performance of the MultiClass Logistic Regression vs C value')\n",
    "plt.xlabel('C Value')\n",
    "plt.ylabel('Accuracy')\n",
    "plt.grid(True)\n",
    "plt.show()"
   ]
  },
  {
   "cell_type": "markdown",
   "metadata": {},
   "source": [
    "**Observation: **\n",
    "- **High Accuracy before one point of C value:** It can observed apparently from the visualization that the performance of the Multiclass Logistic Regression model maintained a consistently high accuracy (at a level of 0.833) for values of “C” ranging from 0.001 to around 10. This suggests that the model performance is good with a relatively smaller C value with more regularization but also looks like it benefits from a higher “C” which implies less regulation when C is increased to 10. \n",
    "- **Sharp Drop in Accuracy:** There is a sharp drop in accuracy as \"C\" increases beyond 10. This suggests that reducing regularization beyond a certain point (i.e., making \"C\" too large) leads to overfitting. The model starts to fit the noise in the training data, which harms its performance on the validation set.\n",
    "- **Variability at Very High \"C\" Values:** The variability in model performance at very high \"C\" values (from 10 to 100) indicates instability, likely due to overfitting. As \"C\" increases, the regularization effect diminishes, which might cause the model to capture noise and specific patterns of the training data that do not generalize well to unseen data.\n",
    "- **Optimal Range of \"C\":** The optimal range of \"C\" appears to be between approximately 0.001 and 10, where the model achieves the highest validation accuracy. This is the range we should consider for the best balance between bias and variance, leading to better generalization on unseen data.\n",
    "- **Choosing the Best \"C\":** Based on this graph, we should choose a \"C\" value within the range where the model maintains high accuracy before the sharp drop. This ensures the model is regularized appropriately to generalize well without overfitting.\n",
    "\n",
    "In conclusion, to achieve the best generalization performance on unseen data, we should select a \"C\" value within the optimal range identified above.\n"
   ]
  },
  {
   "cell_type": "markdown",
   "metadata": {},
   "source": [
    "#### Questions:\n",
    "**Is your method of selecting parameters justified?**\n",
    "- The method of selecting parameters should be justified based on whether it allows for the generalization of the model to unseen data without introducing bias or overfitting. From the practices we conducted, there appears to be a methodical approach to tuning parameters, which is a good practice. \n",
    "- The careful selection of the \"C\" parameter, as executed, shows an awareness of the balance between bias and variance, which is crucial for model generalization. The observation that there is an optimal range for \"C\" and that going beyond this range leads to overfitting is an important insight that suggests a thoughtful approach to parameter tuning.\n",
    "\n",
    "\n",
    "**That is, do you think there is any \"data snooping\" involved with this method of selecting parameters?**\n",
    "- The concept of \"data snooping\" refers to the practice of using the same dataset to both tune the parameters of a model and evaluate its performance. If the parameter selection is heavily influenced by the specifics of the test data, this could lead to overfitting and less generalizable results.\n",
    "The use of cross-validation is a good defense against data snooping because it ensures that multiple subsets of the data are used for training and validation. This process helps to verify that any performance improvements from parameter tuning are likely to generalize to unseen data. Since we applied cross-validation and observed consistent model performance across different datasets, it suggests cross-validation is used appropriately to assess model performance across different subsets of data. It idicates our approach to parameter selection is less likely to suffer from data snooping, assuming cross-validation was done correctly and independently from the test set.\n",
    "\n",
    "\n",
    "The consistent performance of our multiclass classifier across datasets with dimensionality reduction (PCA) and across different folds in cross-validation indicates that our model generalizes well and is not overfitting to the training data. Datasets used for parameter tuning were separate from the final test set and the cross-validation was conducted properly.\n",
    "\n",
    "This suggests that the parameter selection process, in this case, is likely justified and not a result of data snooping."
   ]
  },
  {
   "cell_type": "markdown",
   "metadata": {},
   "source": [
    "### 2.3 Performance Comparison with Scikit-learn"
   ]
  },
  {
   "cell_type": "code",
   "execution_count": 28,
   "metadata": {},
   "outputs": [
    {
     "name": "stdout",
     "output_type": "stream",
     "text": [
      "[[ 0.23697413  0.09992083 -1.00092125 -1.74918855  1.05353977 -0.98484111\n",
      "  -0.67578183  0.05062958  1.49264595]]\n",
      "Accuracy of SciKit Learn: 0.8332462101411395\n",
      "CPU times: user 76.2 ms, sys: 11.1 ms, total: 87.3 ms\n",
      "Wall time: 14.2 ms\n"
     ]
    }
   ],
   "source": [
    "%%time\n",
    "from sklearn.linear_model import LogisticRegression as SKLogisticRegression\n",
    "lr_sk = SKLogisticRegression(max_iter=1000) # all params default\n",
    "lr_sk.fit(X_train,y_train)\n",
    "print(np.hstack((lr_sk.intercept_[:,np.newaxis],lr_sk.coef_)))\n",
    "yhat = lr_sk.predict(X_test)\n",
    "\n",
    "accuracy = accuracy_score(y_test, yhat)\n",
    "\n",
    "print(\"Accuracy of SciKit Learn:\", accuracy)"
   ]
  },
  {
   "cell_type": "code",
   "execution_count": 37,
   "metadata": {},
   "outputs": [
    {
     "name": "stdout",
     "output_type": "stream",
     "text": [
      "MultiClass Logistic Regression Object with coefficients:\n",
      "[[-0.23255028 -0.09890698  0.98980971  1.72742943 -1.03881455  0.97058076\n",
      "   0.66317249 -0.04970248 -1.45872832]\n",
      " [ 0.23255028  0.09890698 -0.98980971 -1.72742943  1.03881455 -0.97058076\n",
      "  -0.66317249  0.04970248  1.45872832]]\n",
      "Accuracy of Multiclass Logistic Regression with Hessian:  0.8348144276006273\n",
      "CPU times: user 11.5 s, sys: 4.09 s, total: 15.6 s\n",
      "Wall time: 2.38 s\n"
     ]
    }
   ],
   "source": [
    "%%time\n",
    "lr = MultiClassLogisticRegression(eta=1.0,\n",
    "                                  iterations=5,\n",
    "                                  C=2.68269,\n",
    "                                  solver=HessianBinaryLogisticRegression\n",
    "                                  )\n",
    "lr.fit(X_train, y_train)\n",
    "print(lr)\n",
    "\n",
    "yhat = lr.predict(X_test)\n",
    "print('Accuracy of Multiclass Logistic Regression with Hessian: ', accuracy_score(y_test, yhat))"
   ]
  },
  {
   "cell_type": "code",
   "execution_count": 38,
   "metadata": {},
   "outputs": [
    {
     "data": {
      "image/png": "[encoded data removed]",
      "text/plain": [
       "<Figure size 1000x600 with 1 Axes>"
      ]
     },
     "metadata": {},
     "output_type": "display_data"
    }
   ],
   "source": [
    "import numpy as np\n",
    "import matplotlib.pyplot as plt\n",
    "\n",
    "# Define the data\n",
    "labels = ['Custom Implementation', 'Scikit-Learn']\n",
    "training_times = [15.6, 0.873]  # Custom implementation, scikit-learn\n",
    "accuracies = [0.8348, 0.8332]  # Custom implementation, scikit-learn\n",
    "\n",
    "x = np.arange(len(labels))  # the label locations\n",
    "width = 0.35  # the width of the bars\n",
    "\n",
    "fig, ax = plt.subplots(figsize=(10, 6))\n",
    "\n",
    "# Plot training times\n",
    "rects1 = ax.bar(x - width/2, training_times, width, label='Training Time', color='blue')\n",
    "\n",
    "# Plot accuracies\n",
    "rects2 = ax.bar(x + width/2, accuracies, width, label='Accuracy', color='green')\n",
    "\n",
    "# Add labels, title, and legend\n",
    "ax.set_xlabel('Implementation')\n",
    "ax.set_ylabel('Value')\n",
    "ax.set_title('Comparison between Custom Implementation and Scikit-Learn')\n",
    "ax.set_xticks(x)\n",
    "ax.set_xticklabels(labels)\n",
    "ax.legend()\n",
    "\n",
    "# Add value labels on top of the bars\n",
    "def add_value_labels(ax, rects):\n",
    "    for rect in rects:\n",
    "        height = rect.get_height()\n",
    "        ax.annotate('{}'.format(height),\n",
    "                    xy=(rect.get_x() + rect.get_width() / 2, height),\n",
    "                    xytext=(0, 3),  # 3 points vertical offset\n",
    "                    textcoords=\"offset points\",\n",
    "                    ha='center', va='bottom')\n",
    "\n",
    "add_value_labels(ax, rects1)\n",
    "add_value_labels(ax, rects2)\n",
    "\n",
    "plt.show()"
   ]
  },
  {
   "cell_type": "markdown",
   "metadata": {},
   "source": [
    "Scikit-learn's logistic regression is multitudes faster (0.873 ms) then our best custom regression optimization techniques (15.6 s). Both have relatively good accuracy at ~0.83."
   ]
  },
  {
   "cell_type": "markdown",
   "metadata": {},
   "source": [
    "## 3. Deployment\n",
    "\n",
    "Since we are utilizing this data to predict a body's performance and tailor to someone's personal training needs, a robust and well-tested model must be utilized. Therefore, we recommend utilizing scikit-learn's logistic regression model. Not only does it have great optimization techniques, it is well established and would create an easier pipeline in the machine learning algorithims, leading to less numerical instabilities or maintenance issues down the line. "
   ]
  },
  {
   "cell_type": "markdown",
   "metadata": {},
   "source": [
    "## 4. Exceptional Work\n",
    "\n",
    "### Mean Squared Error (MSE) Approach \n",
    "\n",
    "In logistic regression, the Mean Squared Error (MSE) approach minimizes the squared difference between predicted probabilities and actual labels.\n",
    "\n",
    "$$\n",
    "\\text{MSE} = \\frac{1}{N} \\sum_{i=1}^{N} (y_i - \\hat{y}_i)^2\n",
    "$$\n",
    "\n",
    "The gradient of the MSE loss with respect to the weights is computed as:\n",
    "\n",
    "$$\n",
    "\\nabla l(\\mathbf{w}) = \\frac{1}{N} \\mathbf{X}^T (\\mathbf{y} - \\hat{\\mathbf{y}})\n",
    "$$\n",
    "\n",
    "where:\n",
    "- $\\mathbf{X}$ is the design matrix\n",
    "- $\\mathbf{y}$ is the true labels\n",
    "- $\\hat{\\mathbf{y}}$ is the predicted labels\n",
    "\n",
    "We compute the gradient of the MSE loss function with respect to the model parameters and update the parameters iteratively until convergence.\n"
   ]
  },
  {
   "cell_type": "code",
   "execution_count": 31,
   "metadata": {},
   "outputs": [],
   "source": [
    "class LogisticRegressionMSE:\n",
    "    def __init__(self, eta, C=1.0, iterations=20):\n",
    "        self.eta = eta\n",
    "        self.C = C  # Regularization parameter\n",
    "        self.iters = iterations\n",
    "        self.weights = None  # Initialize weights\n",
    "        \n",
    "    def fit(self, X, y):\n",
    "        num_samples, num_features = X.shape\n",
    "        self.w_ = np.zeros((num_features + 1, 1))\n",
    "        X = np.c_[np.ones((num_samples, 1)), X]  # Add intercept\n",
    "        \n",
    "        for _ in range(self.iters):\n",
    "            y_pred = self._sigmoid(X @ self.w_)\n",
    "            y_pred = y_pred.flatten()\n",
    "            gradient = X.T @ (y_pred - y) / num_samples\n",
    "            hessian = X.T @ X / num_samples + np.diag([self.C] * (num_features + 1))  # Add regularization to Hessian\n",
    "            gradient = gradient.reshape(-1, 1) # Reshape gradient to ensure it's treated as a column vector\n",
    "            self.w_ -= self.eta * np.linalg.inv(hessian) @ gradient # Update the model parameters using Newton's method\n",
    "        \n",
    "        self.weights = self.w_  # Store weights\n",
    "    \n",
    "    def predict_proba(self, X):\n",
    "        X = np.c_[np.ones((X.shape[0], 1)), X]\n",
    "        return self._sigmoid(X @ self.w_)\n",
    "    \n",
    "    def predict(self, X):\n",
    "        probabilities = self.predict_proba(X)\n",
    "        return (probabilities >= 0.5).astype(int)\n",
    "    \n",
    "    def _sigmoid(self, z):\n",
    "        z_clipped = np.clip(z, -500, 500)\n",
    "        return 1 / (1 + np.exp(-z_clipped))\n"
   ]
  },
  {
   "cell_type": "code",
   "execution_count": 32,
   "metadata": {},
   "outputs": [
    {
     "name": "stdout",
     "output_type": "stream",
     "text": [
      "[[-0.00063576]\n",
      " [ 0.03126832]\n",
      " [-0.20711313]\n",
      " [-0.26349092]\n",
      " [ 0.11935669]\n",
      " [-0.08740166]\n",
      " [-0.04392327]\n",
      " [ 0.00611131]\n",
      " [ 0.07889322]]\n",
      "Accuracy of Logistic Regression MSE: 0.7992681651855724\n",
      "CPU times: user 39.9 ms, sys: 20.9 ms, total: 60.8 ms\n",
      "Wall time: 8.4 ms\n"
     ]
    }
   ],
   "source": [
    "%%time\n",
    "lr_mse = LogisticRegressionMSE(eta=1, C=2.68269, iterations=5)\n",
    "\n",
    "lr_mse.fit(X_train, y_train)\n",
    "y_pred = lr_mse.predict(X_test)\n",
    "print(np.vstack((lr_mse.weights[0], lr_mse.weights[1:])))\n",
    "accuracy = accuracy_score(y_test, y_pred)\n",
    "print(\"Accuracy of Logistic Regression MSE:\", accuracy)\n"
   ]
  },
  {
   "cell_type": "markdown",
   "metadata": {},
   "source": [
    "Now let's make a class with One Vs. Rest Multiclass with MSE"
   ]
  },
  {
   "cell_type": "code",
   "execution_count": 33,
   "metadata": {},
   "outputs": [],
   "source": [
    "class LogisticRegressionMSEOvR:\n",
    "    def __init__(self, eta, C=1.0, iterations=20):\n",
    "        self.eta = eta\n",
    "        self.C = C  # Regularization parameter\n",
    "        self.iters = iterations\n",
    "        self.classifiers = {}  # Dictionary to store binary classifiers\n",
    "        \n",
    "    def fit(self, X, y):\n",
    "        num_samples, num_features = X.shape\n",
    "        unique_classes = np.unique(y)\n",
    "        \n",
    "        for class_label in unique_classes:\n",
    "            y_binary = (y == class_label).astype(int)  # Convert to binary labels\n",
    "            classifier = LogisticRegressionMSE(self.eta, self.C, self.iters)  # Pass C parameter\n",
    "            classifier.fit(X, y_binary)\n",
    "            self.classifiers[class_label] = classifier\n",
    "    \n",
    "    def predict_proba(self, X):\n",
    "        num_samples = X.shape[0]\n",
    "        probabilities = np.zeros((num_samples, len(self.classifiers)))\n",
    "        \n",
    "        for i, (class_label, classifier) in enumerate(self.classifiers.items()):\n",
    "            probabilities[:, i] = classifier.predict_proba(X).flatten()\n",
    "        \n",
    "        return probabilities\n",
    "    \n",
    "    def predict(self, X):\n",
    "        probabilities = self.predict_proba(X)\n",
    "        return np.argmax(probabilities, axis=1)\n"
   ]
  },
  {
   "cell_type": "code",
   "execution_count": 34,
   "metadata": {},
   "outputs": [
    {
     "name": "stdout",
     "output_type": "stream",
     "text": [
      "[[ 0.00063576 -0.00063576]\n",
      " [-0.03126832  0.03126832]\n",
      " [ 0.20711313 -0.20711313]\n",
      " [ 0.26349092 -0.26349092]\n",
      " [-0.11935669  0.11935669]\n",
      " [ 0.08740166 -0.08740166]\n",
      " [ 0.04392327 -0.04392327]\n",
      " [-0.00611131  0.00611131]\n",
      " [-0.07889322  0.07889322]]\n",
      "Accuracy of Logistc Regression MSE One Over Rest: 0.7992681651855724\n",
      "CPU times: user 78.6 ms, sys: 26.3 ms, total: 105 ms\n",
      "Wall time: 14.2 ms\n"
     ]
    }
   ],
   "source": [
    "%%time\n",
    "lr_ovr = LogisticRegressionMSEOvR(eta=1, iterations=5, C=2.68269)\n",
    "lr_ovr.fit(X_train, y_train)\n",
    "y_pred = lr_ovr.predict(X_test)\n",
    "weights_stacked = np.hstack([lr_ovr.classifiers[class_label].weights for class_label in lr_ovr.classifiers])\n",
    "print(weights_stacked)\n",
    "accuracy = accuracy_score(y_test, y_pred)\n",
    "print(\"Accuracy of Logistc Regression MSE One Over Rest:\", accuracy)"
   ]
  },
  {
   "cell_type": "code",
   "execution_count": 36,
   "metadata": {},
   "outputs": [
    {
     "name": "stdout",
     "output_type": "stream",
     "text": [
      "MultiClass Logistic Regression Object with coefficients:\n",
      "[[-0.23255028 -0.09890698  0.98980971  1.72742943 -1.03881455  0.97058076\n",
      "   0.66317249 -0.04970248 -1.45872832]\n",
      " [ 0.23255028  0.09890698 -0.98980971 -1.72742943  1.03881455 -0.97058076\n",
      "  -0.66317249  0.04970248  1.45872832]]\n",
      "Accuracy of Multiclass Logistic Regression with Hessian:  0.8348144276006273\n",
      "CPU times: user 9.8 s, sys: 3.9 s, total: 13.7 s\n",
      "Wall time: 2.08 s\n"
     ]
    }
   ],
   "source": [
    "%%time\n",
    "lr = MultiClassLogisticRegression(eta=1.0,\n",
    "                                  iterations=5,\n",
    "                                  C=2.68269,\n",
    "                                  solver=HessianBinaryLogisticRegression\n",
    "                                  )\n",
    "lr.fit(X_train, y_train)\n",
    "print(lr)\n",
    "\n",
    "yhat = lr.predict(X_test)\n",
    "print('Accuracy of Multiclass Logistic Regression with Hessian: ', accuracy_score(y_test, yhat))\n"
   ]
  },
  {
   "cell_type": "markdown",
   "metadata": {},
   "source": [
    "Between maxiumum likelihood estimation (MLE) and mean-squared error (MSE), we prefer MLE, due to it's ability to find the parameter values that make our model's predictions match the observed outcomes as closely as possible, as shown with the accuracy of ~0.80 for both binary logistic regression and multiclass logistic regression with MSE, and 0.83 accuracy for the multiclass logistic regression utilizing MLE. "
   ]
  },
  {
   "cell_type": "markdown",
   "metadata": {},
   "source": [
    "References:\n",
    "1. https://www.kaggle.com/datasets/kukuroo3/body-performance-data\n",
    "2. https://www.bigdata-culture.kr/bigdata/user/data_market/detail.do?id=ace0aea7-5eee-48b9-b616-637365d665c1\n",
    "3. https://www.quora.com/Why-is-Newtons-method-only-appropriate-when-the-Hessian-is-positive-definite\n",
    "4. https://www.khanacademy.org/math/multivariable-calculus/applications-of-multivariable-derivatives/quadratic-approximations/a/the-hessian"
   ]
  }
 ],
 "metadata": {
  "kernelspec": {
   "display_name": "Python 3 (ipykernel)",
   "language": "python",
   "name": "python3"
  },
  "language_info": {
   "codemirror_mode": {
    "name": "ipython",
    "version": 3
   },
   "file_extension": ".py",
   "mimetype": "text/x-python",
   "name": "python",
   "nbconvert_exporter": "python",
   "pygments_lexer": "ipython3",
   "version": "3.11.5"
  }
 },
 "nbformat": 4,
 "nbformat_minor": 2
}
